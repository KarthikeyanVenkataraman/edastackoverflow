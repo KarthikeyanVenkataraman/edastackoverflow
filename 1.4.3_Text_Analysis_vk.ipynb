{
 "cells": [
  {
   "cell_type": "markdown",
   "metadata": {},
   "source": [
    "# MLC - Working with AWS - Graded Questions"
   ]
  },
  {
   "cell_type": "markdown",
   "metadata": {},
   "source": [
    "## Text Analysis using AWS Services"
   ]
  },
  {
   "cell_type": "markdown",
   "metadata": {},
   "source": [
    "You are expected to solve the questions in the assignment using the Boto3 SDK offered by AWS. You can refer to the documentation [here](https://boto3.amazonaws.com/v1/documentation/api/latest/index.html)."
   ]
  },
  {
   "cell_type": "markdown",
   "metadata": {},
   "source": [
    "You are provided with the following review of a course offered by upGrad:\n",
    "\n",
    "#### Review:\n",
    "\n",
    "*I am currently close to completing my Post Graduate Diploma in Data Science from IIIT Bangalore in collaboration with UpGrad and therefore I feel I can throw some light on the program and help others make an informed decision on choosing programs offered by UpGrad.*\n",
    "\n",
    "*Prior to taking up the course with UpGrad, I had done a few courses from edX and Coursera platforms posted by various Universities across the globe. This, I combined with online resources and study material in hopes of making a career transition to Data Science. The fact is, we have all the required resources available online such as video material for teaching the technology, data sets to gain coding knowledge and other materials to teach us about the business domain. Honestly, after about 4 months of trying to crack data science this way (the hard way), it didn’t seem like I was making any headway. I was nowhere close to understanding an industry which is not an IT discipline at all, but rather a field which combines Mathematics, Coding and above all Business domain.*\n",
    "\n",
    "*This is when I found out about the PGDDS course offered by UpGrad which provided a definite structure in the vast ocean of information about the Data Science Industry available online. It gave the benefit of a structured program rather than spending or wasting huge amounts of time just trying to accumulate all the resources required to make some headway. Simply put, it saved me the effort of searching for needles in a mammoth haystack (internet).*\n",
    "\n",
    "*So I signed up for the program and after completing 10 months of the 11 month program, here are the few benefits I have felt.*\n",
    "\n",
    "*1. First and foremost, this is not a certification course but a Post Graduate Diploma provided by an accredited University that carries a lot of value than any certification course. Let’s be honest, any company would always value a university degree over any online certification course.*\n",
    "\n",
    "*2. Faculty who teach different modules are top notch in their fields having Doctorate or Master’s degree. Further, since Data Science is inter-disciplinary in nature, therefore we would require faculties with experience in the relevant disciplines to guide us. IIIT-B in collaboration with UpGrad have chosen faculties with the right qualification to match with the different disciplines.*\n",
    "\n",
    "*3. Moreover, UpGrad has tied up with industry professionals working at companies such as Gramener, Uber, Flipkart etc. to provide the students with a course that makes it more aligned with the happenings in the current Data Science Industry. They also let you work on case studies using real time data (as opposed to fabricated data) providing us with exposure to actual problems in the industry being solved using Data Analytics.*\n",
    "\n",
    "*4. UpGrad has further tied up with a third party company known as Tapchief to allow us to interact with top professionals in the industry. This is aimed at giving us guidance on how we can further our career in the field considering our educational qualification, past experiences, our expectation or goals, and age. They also help in guiding us in our final Capstone Project through video chats and main benefit of this is to guide us in terms of realistic approaches to the problem and providing business insights into the given problems.*\n",
    "\n",
    "*5. Biggest benefit: Networking!!! The biggest benefit I have received is being able to collaborate with so many other students who are industry professionals at different stages of the course. Numerous opportunities are given to interact with this diverse group of people such as working in groups on numerous case studies, meeting them at basecamps arranged by UpGrad and lot of us can meet up at campus library if you are from Bangalore.*\n",
    "\n",
    "*UpGrad is trying to tackle a concern or a problem which has been voiced by so many CEO’s of top IT organizations: EMPLOYABILITY. They do this by collaborating not just with an academic institute, but also bringing in industry experts to give us the right tools required in the market.*\n",
    "\n",
    "*I understand the course fees are on the upper side compared to many other online and offline courses offered, but I don’t personally believe there are many platforms which offer a holistic package such as the one’s UpGrad offered.*\n",
    "\n",
    "*I hope this review helps anyone wishing to pursue a course offered by UpGrad and I must say, taking up any of the courses is serious business and will require serious time and effort from the candidates.*"
   ]
  },
  {
   "cell_type": "markdown",
   "metadata": {},
   "source": [
    "#### Your task is to use the appriopriate AWS services to check the key points mentioned by the student. Also, you must identify whether the student is satisfied with the course or not."
   ]
  },
  {
   "cell_type": "code",
   "execution_count": 2,
   "metadata": {},
   "outputs": [],
   "source": [
    "# Import the required libraries and define the required variables\n",
    "import boto3\n",
    "comprehendClient = boto3.client('comprehend')\n",
    "\n",
    "#Prepare the content to analysis\n",
    "str1 = \"I am currently close to completing my Post Graduate Diploma in Data Science from IIIT Bangalore in collaboration with UpGrad and therefore I feel I can throw some light on the program and help others make an informed decision on choosing programs offered by UpGrad.\"\n",
    "str2 = \"Prior to taking up the course with UpGrad, I had done a few courses from edX and Coursera platforms posted by various Universities across the globe. This, I combined with online resources and study material in hopes of making a career transition to Data Science. The fact is, we have all the required resources available online such as video material for teaching the technology, data sets to gain coding knowledge and other materials to teach us about the business domain. Honestly, after about 4 months of trying to crack data science this way (the hard way), it didn’t seem like I was making any headway. I was nowhere close to understanding an industry which is not an IT discipline at all, but rather a field which combines Mathematics, Coding and above all Business domain.\"\n",
    "str3 = \"This is when I found out about the PGDDS course offered by UpGrad which provided a definite structure in the vast ocean of information about the Data Science Industry available online. It gave the benefit of a structured program rather than spending or wasting huge amounts of time just trying to accumulate all the resources required to make some headway. Simply put, it saved me the effort of searching for needles in a mammoth haystack (internet).\"\n",
    "str4 = \"So I signed up for the program and after completing 10 months of the 11 month program, here are the few benefits I have felt.\"\n",
    "str5 = \"1. First and foremost, this is not a certification course but a Post Graduate Diploma provided by an accredited University that carries a lot of value than any certification course. Let’s be honest, any company would always value a university degree over any online certification course.\"\n",
    "str6 = \"2. Faculty who teach different modules are top notch in their fields having Doctorate or Master’s degree. Further, since Data Science is inter-disciplinary in nature, therefore we would require faculties with experience in the relevant disciplines to guide us. IIIT-B in collaboration with UpGrad have chosen faculties with the right qualification to match with the different disciplines.\"\n",
    "str7 = \"3. Moreover, UpGrad has tied up with industry professionals working at companies such as Gramener, Uber, Flipkart etc. to provide the students with a course that makes it more aligned with the happenings in the current Data Science Industry. They also let you work on case studies using real time data (as opposed to fabricated data) providing us with exposure to actual problems in the industry being solved using Data Analytics.\"\n",
    "str8 = \"4. UpGrad has further tied up with a third party company known as Tapchief to allow us to interact with top professionals in the industry. This is aimed at giving us guidance on how we can further our career in the field considering our educational qualification, past experiences, our expectation or goals, and age. They also help in guiding us in our final Capstone Project through video chats and main benefit of this is to guide us in terms of realistic approaches to the problem and providing business insights into the given problems.\"\n",
    "str9 = \"5. Biggest benefit: Networking!!! The biggest benefit I have received is being able to collaborate with so many other students who are industry professionals at different stages of the course. Numerous opportunities are given to interact with this diverse group of people such as working in groups on numerous case studies, meeting them at basecamps arranged by UpGrad and lot of us can meet up at campus library if you are from Bangalore.\"\n",
    "str10 = \"UpGrad is trying to tackle a concern or a problem which has been voiced by so many CEO’s of top IT organizations: EMPLOYABILITY. They do this by collaborating not just with an academic institute, but also bringing in industry experts to give us the right tools required in the market.\"\n",
    "str11 = \"I understand the course fees are on the upper side compared to many other online and offline courses offered, but I don’t personally believe there are many platforms which offer a holistic package such as the one’s UpGrad offered.\"\n",
    "str12 = \"I hope this review helps anyone wishing to pursue a course offered by UpGrad and I must say, taking up any of the courses is serious business and will require serious time and effort from the candidates.\"\n",
    "\n",
    "content = str1+str2+str3+str4+str5+str6+str7+str8+str9+str10+str11"
   ]
  },
  {
   "cell_type": "code",
   "execution_count": 3,
   "metadata": {},
   "outputs": [
    {
     "name": "stdout",
     "output_type": "stream",
     "text": [
      "I am currently close to completing my Post Graduate Diploma in Data Science from IIIT Bangalore in collaboration with UpGrad and therefore I feel I can throw some light on the program and help others make an informed decision on choosing programs offered by UpGrad.Prior to taking up the course with UpGrad, I had done a few courses from edX and Coursera platforms posted by various Universities across the globe. This, I combined with online resources and study material in hopes of making a career transition to Data Science. The fact is, we have all the required resources available online such as video material for teaching the technology, data sets to gain coding knowledge and other materials to teach us about the business domain. Honestly, after about 4 months of trying to crack data science this way (the hard way), it didn’t seem like I was making any headway. I was nowhere close to understanding an industry which is not an IT discipline at all, but rather a field which combines Mathematics, Coding and above all Business domain.This is when I found out about the PGDDS course offered by UpGrad which provided a definite structure in the vast ocean of information about the Data Science Industry available online. It gave the benefit of a structured program rather than spending or wasting huge amounts of time just trying to accumulate all the resources required to make some headway. Simply put, it saved me the effort of searching for needles in a mammoth haystack (internet).So I signed up for the program and after completing 10 months of the 11 month program, here are the few benefits I have felt.1. First and foremost, this is not a certification course but a Post Graduate Diploma provided by an accredited University that carries a lot of value than any certification course. Let’s be honest, any company would always value a university degree over any online certification course.2. Faculty who teach different modules are top notch in their fields having Doctorate or Master’s degree. Further, since Data Science is inter-disciplinary in nature, therefore we would require faculties with experience in the relevant disciplines to guide us. IIIT-B in collaboration with UpGrad have chosen faculties with the right qualification to match with the different disciplines.3. Moreover, UpGrad has tied up with industry professionals working at companies such as Gramener, Uber, Flipkart etc. to provide the students with a course that makes it more aligned with the happenings in the current Data Science Industry. They also let you work on case studies using real time data (as opposed to fabricated data) providing us with exposure to actual problems in the industry being solved using Data Analytics.4. UpGrad has further tied up with a third party company known as Tapchief to allow us to interact with top professionals in the industry. This is aimed at giving us guidance on how we can further our career in the field considering our educational qualification, past experiences, our expectation or goals, and age. They also help in guiding us in our final Capstone Project through video chats and main benefit of this is to guide us in terms of realistic approaches to the problem and providing business insights into the given problems.5. Biggest benefit: Networking!!! The biggest benefit I have received is being able to collaborate with so many other students who are industry professionals at different stages of the course. Numerous opportunities are given to interact with this diverse group of people such as working in groups on numerous case studies, meeting them at basecamps arranged by UpGrad and lot of us can meet up at campus library if you are from Bangalore.UpGrad is trying to tackle a concern or a problem which has been voiced by so many CEO’s of top IT organizations: EMPLOYABILITY. They do this by collaborating not just with an academic institute, but also bringing in industry experts to give us the right tools required in the market.I understand the course fees are on the upper side compared to many other online and offline courses offered, but I don’t personally believe there are many platforms which offer a holistic package such as the one’s UpGrad offered.\n"
     ]
    }
   ],
   "source": [
    "print(content)"
   ]
  },
  {
   "cell_type": "markdown",
   "metadata": {},
   "source": [
    "#### Question 1.\n",
    "\n",
    "Which of the following commands will help you get the gist of the review?\n",
    "\n",
    "- detect_entities\n",
    "- detect_sentiment\n",
    "- detect_key_phrases\n",
    "- detect_syntax"
   ]
  },
  {
   "cell_type": "code",
   "execution_count": 6,
   "metadata": {},
   "outputs": [
    {
     "name": "stdout",
     "output_type": "stream",
     "text": [
      "invoking detect_entities\n"
     ]
    },
    {
     "ename": "ClientError",
     "evalue": "An error occurred (AccessDeniedException) when calling the DetectEntities operation: User: arn:aws:iam::141547995048:user/sanjay_aws_cli_user is not authorized to perform: comprehend:DetectEntities",
     "output_type": "error",
     "traceback": [
      "\u001b[0;31m---------------------------------------------------------------------------\u001b[0m",
      "\u001b[0;31mClientError\u001b[0m                               Traceback (most recent call last)",
      "\u001b[0;32m<ipython-input-6-2749e2191a71>\u001b[0m in \u001b[0;36m<module>\u001b[0;34m\u001b[0m\n\u001b[1;32m      2\u001b[0m \u001b[0;32mimport\u001b[0m \u001b[0mjson\u001b[0m\u001b[0;34m\u001b[0m\u001b[0;34m\u001b[0m\u001b[0m\n\u001b[1;32m      3\u001b[0m \u001b[0mprint\u001b[0m\u001b[0;34m(\u001b[0m\u001b[0;34m'invoking detect_entities'\u001b[0m\u001b[0;34m)\u001b[0m\u001b[0;34m\u001b[0m\u001b[0;34m\u001b[0m\u001b[0m\n\u001b[0;32m----> 4\u001b[0;31m \u001b[0mdetectedEntities\u001b[0m \u001b[0;34m=\u001b[0m \u001b[0mjson\u001b[0m\u001b[0;34m.\u001b[0m\u001b[0mdumps\u001b[0m\u001b[0;34m(\u001b[0m\u001b[0mcomprehendClient\u001b[0m\u001b[0;34m.\u001b[0m\u001b[0mdetect_entities\u001b[0m\u001b[0;34m(\u001b[0m\u001b[0mText\u001b[0m\u001b[0;34m=\u001b[0m\u001b[0mcontent\u001b[0m\u001b[0;34m,\u001b[0m \u001b[0mLanguageCode\u001b[0m\u001b[0;34m=\u001b[0m\u001b[0;34m'en'\u001b[0m\u001b[0;34m)\u001b[0m\u001b[0;34m)\u001b[0m\u001b[0;34m\u001b[0m\u001b[0;34m\u001b[0m\u001b[0m\n\u001b[0m\u001b[1;32m      5\u001b[0m \u001b[0mprint\u001b[0m\u001b[0;34m(\u001b[0m\u001b[0mdetectedEntities\u001b[0m\u001b[0;34m)\u001b[0m\u001b[0;34m\u001b[0m\u001b[0;34m\u001b[0m\u001b[0m\n",
      "\u001b[0;32m~/.local/lib/python3.7/site-packages/botocore/client.py\u001b[0m in \u001b[0;36m_api_call\u001b[0;34m(self, *args, **kwargs)\u001b[0m\n\u001b[1;32m    274\u001b[0m                     \"%s() only accepts keyword arguments.\" % py_operation_name)\n\u001b[1;32m    275\u001b[0m             \u001b[0;31m# The \"self\" in this scope is referring to the BaseClient.\u001b[0m\u001b[0;34m\u001b[0m\u001b[0;34m\u001b[0m\u001b[0;34m\u001b[0m\u001b[0m\n\u001b[0;32m--> 276\u001b[0;31m             \u001b[0;32mreturn\u001b[0m \u001b[0mself\u001b[0m\u001b[0;34m.\u001b[0m\u001b[0m_make_api_call\u001b[0m\u001b[0;34m(\u001b[0m\u001b[0moperation_name\u001b[0m\u001b[0;34m,\u001b[0m \u001b[0mkwargs\u001b[0m\u001b[0;34m)\u001b[0m\u001b[0;34m\u001b[0m\u001b[0;34m\u001b[0m\u001b[0m\n\u001b[0m\u001b[1;32m    277\u001b[0m \u001b[0;34m\u001b[0m\u001b[0m\n\u001b[1;32m    278\u001b[0m         \u001b[0m_api_call\u001b[0m\u001b[0;34m.\u001b[0m\u001b[0m__name__\u001b[0m \u001b[0;34m=\u001b[0m \u001b[0mstr\u001b[0m\u001b[0;34m(\u001b[0m\u001b[0mpy_operation_name\u001b[0m\u001b[0;34m)\u001b[0m\u001b[0;34m\u001b[0m\u001b[0;34m\u001b[0m\u001b[0m\n",
      "\u001b[0;32m~/.local/lib/python3.7/site-packages/botocore/client.py\u001b[0m in \u001b[0;36m_make_api_call\u001b[0;34m(self, operation_name, api_params)\u001b[0m\n\u001b[1;32m    584\u001b[0m             \u001b[0merror_code\u001b[0m \u001b[0;34m=\u001b[0m \u001b[0mparsed_response\u001b[0m\u001b[0;34m.\u001b[0m\u001b[0mget\u001b[0m\u001b[0;34m(\u001b[0m\u001b[0;34m\"Error\"\u001b[0m\u001b[0;34m,\u001b[0m \u001b[0;34m{\u001b[0m\u001b[0;34m}\u001b[0m\u001b[0;34m)\u001b[0m\u001b[0;34m.\u001b[0m\u001b[0mget\u001b[0m\u001b[0;34m(\u001b[0m\u001b[0;34m\"Code\"\u001b[0m\u001b[0;34m)\u001b[0m\u001b[0;34m\u001b[0m\u001b[0;34m\u001b[0m\u001b[0m\n\u001b[1;32m    585\u001b[0m             \u001b[0merror_class\u001b[0m \u001b[0;34m=\u001b[0m \u001b[0mself\u001b[0m\u001b[0;34m.\u001b[0m\u001b[0mexceptions\u001b[0m\u001b[0;34m.\u001b[0m\u001b[0mfrom_code\u001b[0m\u001b[0;34m(\u001b[0m\u001b[0merror_code\u001b[0m\u001b[0;34m)\u001b[0m\u001b[0;34m\u001b[0m\u001b[0;34m\u001b[0m\u001b[0m\n\u001b[0;32m--> 586\u001b[0;31m             \u001b[0;32mraise\u001b[0m \u001b[0merror_class\u001b[0m\u001b[0;34m(\u001b[0m\u001b[0mparsed_response\u001b[0m\u001b[0;34m,\u001b[0m \u001b[0moperation_name\u001b[0m\u001b[0;34m)\u001b[0m\u001b[0;34m\u001b[0m\u001b[0;34m\u001b[0m\u001b[0m\n\u001b[0m\u001b[1;32m    587\u001b[0m         \u001b[0;32melse\u001b[0m\u001b[0;34m:\u001b[0m\u001b[0;34m\u001b[0m\u001b[0;34m\u001b[0m\u001b[0m\n\u001b[1;32m    588\u001b[0m             \u001b[0;32mreturn\u001b[0m \u001b[0mparsed_response\u001b[0m\u001b[0;34m\u001b[0m\u001b[0;34m\u001b[0m\u001b[0m\n",
      "\u001b[0;31mClientError\u001b[0m: An error occurred (AccessDeniedException) when calling the DetectEntities operation: User: arn:aws:iam::141547995048:user/sanjay_aws_cli_user is not authorized to perform: comprehend:DetectEntities"
     ]
    }
   ],
   "source": [
    "# Provide your code here\n",
    "import json\n",
    "print('invoking detect_entities')\n",
    "detectedEntities = json.dumps(comprehendClient.detect_entities(Text=content, LanguageCode='en'))\n",
    "print(detectedEntities)"
   ]
  },
  {
   "cell_type": "markdown",
   "metadata": {},
   "source": [
    "#### Question 2.\n",
    "\n",
    "Which of the following companies is not listed in the review?\n",
    "\n",
    "- upGrad\n",
    "- Gramener\n",
    "- Flipkart\n",
    "- Ola"
   ]
  },
  {
   "cell_type": "code",
   "execution_count": 9,
   "metadata": {},
   "outputs": [
    {
     "name": "stdout",
     "output_type": "stream",
     "text": [
      "finding key phrases\n"
     ]
    },
    {
     "ename": "ClientError",
     "evalue": "An error occurred (AccessDeniedException) when calling the DetectKeyPhrases operation: User: arn:aws:iam::141547995048:user/sanjay_aws_cli_user is not authorized to perform: comprehend:DetectKeyPhrases",
     "output_type": "error",
     "traceback": [
      "\u001b[0;31m---------------------------------------------------------------------------\u001b[0m",
      "\u001b[0;31mClientError\u001b[0m                               Traceback (most recent call last)",
      "\u001b[0;32m<ipython-input-9-db62ce2f871d>\u001b[0m in \u001b[0;36m<module>\u001b[0;34m\u001b[0m\n\u001b[1;32m      1\u001b[0m \u001b[0;31m# Provide your code here\u001b[0m\u001b[0;34m\u001b[0m\u001b[0;34m\u001b[0m\u001b[0;34m\u001b[0m\u001b[0m\n\u001b[1;32m      2\u001b[0m \u001b[0mprint\u001b[0m\u001b[0;34m(\u001b[0m\u001b[0;34m'finding key phrases'\u001b[0m\u001b[0;34m)\u001b[0m\u001b[0;34m\u001b[0m\u001b[0;34m\u001b[0m\u001b[0m\n\u001b[0;32m----> 3\u001b[0;31m \u001b[0mdetectedKeyPhrases\u001b[0m \u001b[0;34m=\u001b[0m \u001b[0mjson\u001b[0m\u001b[0;34m.\u001b[0m\u001b[0mdumps\u001b[0m\u001b[0;34m(\u001b[0m\u001b[0mcomprehendClient\u001b[0m\u001b[0;34m.\u001b[0m\u001b[0mdetect_key_phrases\u001b[0m\u001b[0;34m(\u001b[0m\u001b[0mText\u001b[0m\u001b[0;34m=\u001b[0m\u001b[0mcontent\u001b[0m\u001b[0;34m,\u001b[0m \u001b[0mLanguageCode\u001b[0m\u001b[0;34m=\u001b[0m\u001b[0;34m'en'\u001b[0m\u001b[0;34m)\u001b[0m\u001b[0;34m)\u001b[0m\u001b[0;34m\u001b[0m\u001b[0;34m\u001b[0m\u001b[0m\n\u001b[0m\u001b[1;32m      4\u001b[0m \u001b[0mprint\u001b[0m\u001b[0;34m(\u001b[0m\u001b[0mdetectedKeyPhrases\u001b[0m\u001b[0;34m)\u001b[0m\u001b[0;34m\u001b[0m\u001b[0;34m\u001b[0m\u001b[0m\n",
      "\u001b[0;32m~/.local/lib/python3.7/site-packages/botocore/client.py\u001b[0m in \u001b[0;36m_api_call\u001b[0;34m(self, *args, **kwargs)\u001b[0m\n\u001b[1;32m    274\u001b[0m                     \"%s() only accepts keyword arguments.\" % py_operation_name)\n\u001b[1;32m    275\u001b[0m             \u001b[0;31m# The \"self\" in this scope is referring to the BaseClient.\u001b[0m\u001b[0;34m\u001b[0m\u001b[0;34m\u001b[0m\u001b[0;34m\u001b[0m\u001b[0m\n\u001b[0;32m--> 276\u001b[0;31m             \u001b[0;32mreturn\u001b[0m \u001b[0mself\u001b[0m\u001b[0;34m.\u001b[0m\u001b[0m_make_api_call\u001b[0m\u001b[0;34m(\u001b[0m\u001b[0moperation_name\u001b[0m\u001b[0;34m,\u001b[0m \u001b[0mkwargs\u001b[0m\u001b[0;34m)\u001b[0m\u001b[0;34m\u001b[0m\u001b[0;34m\u001b[0m\u001b[0m\n\u001b[0m\u001b[1;32m    277\u001b[0m \u001b[0;34m\u001b[0m\u001b[0m\n\u001b[1;32m    278\u001b[0m         \u001b[0m_api_call\u001b[0m\u001b[0;34m.\u001b[0m\u001b[0m__name__\u001b[0m \u001b[0;34m=\u001b[0m \u001b[0mstr\u001b[0m\u001b[0;34m(\u001b[0m\u001b[0mpy_operation_name\u001b[0m\u001b[0;34m)\u001b[0m\u001b[0;34m\u001b[0m\u001b[0;34m\u001b[0m\u001b[0m\n",
      "\u001b[0;32m~/.local/lib/python3.7/site-packages/botocore/client.py\u001b[0m in \u001b[0;36m_make_api_call\u001b[0;34m(self, operation_name, api_params)\u001b[0m\n\u001b[1;32m    584\u001b[0m             \u001b[0merror_code\u001b[0m \u001b[0;34m=\u001b[0m \u001b[0mparsed_response\u001b[0m\u001b[0;34m.\u001b[0m\u001b[0mget\u001b[0m\u001b[0;34m(\u001b[0m\u001b[0;34m\"Error\"\u001b[0m\u001b[0;34m,\u001b[0m \u001b[0;34m{\u001b[0m\u001b[0;34m}\u001b[0m\u001b[0;34m)\u001b[0m\u001b[0;34m.\u001b[0m\u001b[0mget\u001b[0m\u001b[0;34m(\u001b[0m\u001b[0;34m\"Code\"\u001b[0m\u001b[0;34m)\u001b[0m\u001b[0;34m\u001b[0m\u001b[0;34m\u001b[0m\u001b[0m\n\u001b[1;32m    585\u001b[0m             \u001b[0merror_class\u001b[0m \u001b[0;34m=\u001b[0m \u001b[0mself\u001b[0m\u001b[0;34m.\u001b[0m\u001b[0mexceptions\u001b[0m\u001b[0;34m.\u001b[0m\u001b[0mfrom_code\u001b[0m\u001b[0;34m(\u001b[0m\u001b[0merror_code\u001b[0m\u001b[0;34m)\u001b[0m\u001b[0;34m\u001b[0m\u001b[0;34m\u001b[0m\u001b[0m\n\u001b[0;32m--> 586\u001b[0;31m             \u001b[0;32mraise\u001b[0m \u001b[0merror_class\u001b[0m\u001b[0;34m(\u001b[0m\u001b[0mparsed_response\u001b[0m\u001b[0;34m,\u001b[0m \u001b[0moperation_name\u001b[0m\u001b[0;34m)\u001b[0m\u001b[0;34m\u001b[0m\u001b[0;34m\u001b[0m\u001b[0m\n\u001b[0m\u001b[1;32m    587\u001b[0m         \u001b[0;32melse\u001b[0m\u001b[0;34m:\u001b[0m\u001b[0;34m\u001b[0m\u001b[0;34m\u001b[0m\u001b[0m\n\u001b[1;32m    588\u001b[0m             \u001b[0;32mreturn\u001b[0m \u001b[0mparsed_response\u001b[0m\u001b[0;34m\u001b[0m\u001b[0;34m\u001b[0m\u001b[0m\n",
      "\u001b[0;31mClientError\u001b[0m: An error occurred (AccessDeniedException) when calling the DetectKeyPhrases operation: User: arn:aws:iam::141547995048:user/sanjay_aws_cli_user is not authorized to perform: comprehend:DetectKeyPhrases"
     ]
    }
   ],
   "source": [
    "# Provide your code here\n",
    "print('finding key phrases')\n",
    "detectedKeyPhrases = json.dumps(comprehendClient.detect_key_phrases(Text=content, LanguageCode='en'))\n",
    "print(detectedKeyPhrases)"
   ]
  },
  {
   "cell_type": "markdown",
   "metadata": {},
   "source": [
    "#### Question 3.\n",
    "\n",
    "Based on the results from sentiment analysis using Amazon Comprehened, select the most appropriate option. \n",
    "\n",
    "- The student has a very positive opinion about the couse.\n",
    "- The student doesn't feel that the course is worth.\n",
    "- The student suggests that some elements are really good in the course, but some of them are very bad.\n",
    "- The student feels that the course is neither good nor bad."
   ]
  },
  {
   "cell_type": "code",
   "execution_count": 13,
   "metadata": {},
   "outputs": [
    {
     "name": "stdout",
     "output_type": "stream",
     "text": [
      "finding sentiment analysis\n"
     ]
    },
    {
     "ename": "ClientError",
     "evalue": "An error occurred (AccessDeniedException) when calling the DetectSentiment operation: User: arn:aws:iam::141547995048:user/sanjay_aws_cli_user is not authorized to perform: comprehend:DetectSentiment",
     "output_type": "error",
     "traceback": [
      "\u001b[0;31m---------------------------------------------------------------------------\u001b[0m",
      "\u001b[0;31mClientError\u001b[0m                               Traceback (most recent call last)",
      "\u001b[0;32m<ipython-input-13-97059fca84d4>\u001b[0m in \u001b[0;36m<module>\u001b[0;34m\u001b[0m\n\u001b[1;32m      1\u001b[0m \u001b[0;31m# Provide your code here\u001b[0m\u001b[0;34m\u001b[0m\u001b[0;34m\u001b[0m\u001b[0;34m\u001b[0m\u001b[0m\n\u001b[1;32m      2\u001b[0m \u001b[0mprint\u001b[0m\u001b[0;34m(\u001b[0m\u001b[0;34m'finding sentiment analysis'\u001b[0m\u001b[0;34m)\u001b[0m\u001b[0;34m\u001b[0m\u001b[0;34m\u001b[0m\u001b[0m\n\u001b[0;32m----> 3\u001b[0;31m \u001b[0mdetectedSentiments\u001b[0m \u001b[0;34m=\u001b[0m \u001b[0mjson\u001b[0m\u001b[0;34m.\u001b[0m\u001b[0mdumps\u001b[0m\u001b[0;34m(\u001b[0m\u001b[0mcomprehendClient\u001b[0m\u001b[0;34m.\u001b[0m\u001b[0mdetect_sentiment\u001b[0m\u001b[0;34m(\u001b[0m\u001b[0mText\u001b[0m\u001b[0;34m=\u001b[0m\u001b[0mcontent\u001b[0m\u001b[0;34m,\u001b[0m \u001b[0mLanguageCode\u001b[0m\u001b[0;34m=\u001b[0m\u001b[0;34m'en'\u001b[0m\u001b[0;34m)\u001b[0m\u001b[0;34m)\u001b[0m\u001b[0;34m\u001b[0m\u001b[0;34m\u001b[0m\u001b[0m\n\u001b[0m\u001b[1;32m      4\u001b[0m \u001b[0mprint\u001b[0m\u001b[0;34m(\u001b[0m\u001b[0mdetectedSentiments\u001b[0m\u001b[0;34m)\u001b[0m\u001b[0;34m\u001b[0m\u001b[0;34m\u001b[0m\u001b[0m\n",
      "\u001b[0;32m~/.local/lib/python3.7/site-packages/botocore/client.py\u001b[0m in \u001b[0;36m_api_call\u001b[0;34m(self, *args, **kwargs)\u001b[0m\n\u001b[1;32m    274\u001b[0m                     \"%s() only accepts keyword arguments.\" % py_operation_name)\n\u001b[1;32m    275\u001b[0m             \u001b[0;31m# The \"self\" in this scope is referring to the BaseClient.\u001b[0m\u001b[0;34m\u001b[0m\u001b[0;34m\u001b[0m\u001b[0;34m\u001b[0m\u001b[0m\n\u001b[0;32m--> 276\u001b[0;31m             \u001b[0;32mreturn\u001b[0m \u001b[0mself\u001b[0m\u001b[0;34m.\u001b[0m\u001b[0m_make_api_call\u001b[0m\u001b[0;34m(\u001b[0m\u001b[0moperation_name\u001b[0m\u001b[0;34m,\u001b[0m \u001b[0mkwargs\u001b[0m\u001b[0;34m)\u001b[0m\u001b[0;34m\u001b[0m\u001b[0;34m\u001b[0m\u001b[0m\n\u001b[0m\u001b[1;32m    277\u001b[0m \u001b[0;34m\u001b[0m\u001b[0m\n\u001b[1;32m    278\u001b[0m         \u001b[0m_api_call\u001b[0m\u001b[0;34m.\u001b[0m\u001b[0m__name__\u001b[0m \u001b[0;34m=\u001b[0m \u001b[0mstr\u001b[0m\u001b[0;34m(\u001b[0m\u001b[0mpy_operation_name\u001b[0m\u001b[0;34m)\u001b[0m\u001b[0;34m\u001b[0m\u001b[0;34m\u001b[0m\u001b[0m\n",
      "\u001b[0;32m~/.local/lib/python3.7/site-packages/botocore/client.py\u001b[0m in \u001b[0;36m_make_api_call\u001b[0;34m(self, operation_name, api_params)\u001b[0m\n\u001b[1;32m    584\u001b[0m             \u001b[0merror_code\u001b[0m \u001b[0;34m=\u001b[0m \u001b[0mparsed_response\u001b[0m\u001b[0;34m.\u001b[0m\u001b[0mget\u001b[0m\u001b[0;34m(\u001b[0m\u001b[0;34m\"Error\"\u001b[0m\u001b[0;34m,\u001b[0m \u001b[0;34m{\u001b[0m\u001b[0;34m}\u001b[0m\u001b[0;34m)\u001b[0m\u001b[0;34m.\u001b[0m\u001b[0mget\u001b[0m\u001b[0;34m(\u001b[0m\u001b[0;34m\"Code\"\u001b[0m\u001b[0;34m)\u001b[0m\u001b[0;34m\u001b[0m\u001b[0;34m\u001b[0m\u001b[0m\n\u001b[1;32m    585\u001b[0m             \u001b[0merror_class\u001b[0m \u001b[0;34m=\u001b[0m \u001b[0mself\u001b[0m\u001b[0;34m.\u001b[0m\u001b[0mexceptions\u001b[0m\u001b[0;34m.\u001b[0m\u001b[0mfrom_code\u001b[0m\u001b[0;34m(\u001b[0m\u001b[0merror_code\u001b[0m\u001b[0;34m)\u001b[0m\u001b[0;34m\u001b[0m\u001b[0;34m\u001b[0m\u001b[0m\n\u001b[0;32m--> 586\u001b[0;31m             \u001b[0;32mraise\u001b[0m \u001b[0merror_class\u001b[0m\u001b[0;34m(\u001b[0m\u001b[0mparsed_response\u001b[0m\u001b[0;34m,\u001b[0m \u001b[0moperation_name\u001b[0m\u001b[0;34m)\u001b[0m\u001b[0;34m\u001b[0m\u001b[0;34m\u001b[0m\u001b[0m\n\u001b[0m\u001b[1;32m    587\u001b[0m         \u001b[0;32melse\u001b[0m\u001b[0;34m:\u001b[0m\u001b[0;34m\u001b[0m\u001b[0;34m\u001b[0m\u001b[0m\n\u001b[1;32m    588\u001b[0m             \u001b[0;32mreturn\u001b[0m \u001b[0mparsed_response\u001b[0m\u001b[0;34m\u001b[0m\u001b[0;34m\u001b[0m\u001b[0m\n",
      "\u001b[0;31mClientError\u001b[0m: An error occurred (AccessDeniedException) when calling the DetectSentiment operation: User: arn:aws:iam::141547995048:user/sanjay_aws_cli_user is not authorized to perform: comprehend:DetectSentiment"
     ]
    }
   ],
   "source": [
    "# Provide your code here\n",
    "print('finding sentiment analysis')\n",
    "detectedSentiments = json.dumps(comprehendClient.detect_sentiment(Text=content, LanguageCode='en'))\n",
    "print(detectedSentiments)"
   ]
  },
  {
   "cell_type": "markdown",
   "metadata": {},
   "source": [
    "#### Question 4.\n",
    "\n",
    "Which key phrase in the most suitable one to describe the review? \n",
    "\n",
    "- Course\n",
    "- upGrad\n",
    "- Data Science\n",
    "- Education"
   ]
  },
  {
   "cell_type": "code",
   "execution_count": 14,
   "metadata": {},
   "outputs": [
    {
     "name": "stdout",
     "output_type": "stream",
     "text": [
      "finding suitable key phrases\n"
     ]
    },
    {
     "ename": "ClientError",
     "evalue": "An error occurred (AccessDeniedException) when calling the DetectKeyPhrases operation: User: arn:aws:iam::141547995048:user/sanjay_aws_cli_user is not authorized to perform: comprehend:DetectKeyPhrases",
     "output_type": "error",
     "traceback": [
      "\u001b[0;31m---------------------------------------------------------------------------\u001b[0m",
      "\u001b[0;31mClientError\u001b[0m                               Traceback (most recent call last)",
      "\u001b[0;32m<ipython-input-14-6c350b8f2b22>\u001b[0m in \u001b[0;36m<module>\u001b[0;34m\u001b[0m\n\u001b[1;32m      1\u001b[0m \u001b[0;31m# Provide your code here\u001b[0m\u001b[0;34m\u001b[0m\u001b[0;34m\u001b[0m\u001b[0;34m\u001b[0m\u001b[0m\n\u001b[1;32m      2\u001b[0m \u001b[0mprint\u001b[0m\u001b[0;34m(\u001b[0m\u001b[0;34m'finding suitable key phrases'\u001b[0m\u001b[0;34m)\u001b[0m\u001b[0;34m\u001b[0m\u001b[0;34m\u001b[0m\u001b[0m\n\u001b[0;32m----> 3\u001b[0;31m \u001b[0msuitableKeyPhrases\u001b[0m \u001b[0;34m=\u001b[0m \u001b[0mjson\u001b[0m\u001b[0;34m.\u001b[0m\u001b[0mdumps\u001b[0m\u001b[0;34m(\u001b[0m\u001b[0mcomprehendClient\u001b[0m\u001b[0;34m.\u001b[0m\u001b[0mdetect_key_phrases\u001b[0m\u001b[0;34m(\u001b[0m\u001b[0mText\u001b[0m\u001b[0;34m=\u001b[0m\u001b[0mcontent\u001b[0m\u001b[0;34m,\u001b[0m \u001b[0mLanguageCode\u001b[0m\u001b[0;34m=\u001b[0m\u001b[0;34m'en'\u001b[0m\u001b[0;34m)\u001b[0m\u001b[0;34m)\u001b[0m\u001b[0;34m\u001b[0m\u001b[0;34m\u001b[0m\u001b[0m\n\u001b[0m\u001b[1;32m      4\u001b[0m \u001b[0mprint\u001b[0m\u001b[0;34m(\u001b[0m\u001b[0msuitableKeyPhrases\u001b[0m\u001b[0;34m)\u001b[0m\u001b[0;34m\u001b[0m\u001b[0;34m\u001b[0m\u001b[0m\n",
      "\u001b[0;32m~/.local/lib/python3.7/site-packages/botocore/client.py\u001b[0m in \u001b[0;36m_api_call\u001b[0;34m(self, *args, **kwargs)\u001b[0m\n\u001b[1;32m    274\u001b[0m                     \"%s() only accepts keyword arguments.\" % py_operation_name)\n\u001b[1;32m    275\u001b[0m             \u001b[0;31m# The \"self\" in this scope is referring to the BaseClient.\u001b[0m\u001b[0;34m\u001b[0m\u001b[0;34m\u001b[0m\u001b[0;34m\u001b[0m\u001b[0m\n\u001b[0;32m--> 276\u001b[0;31m             \u001b[0;32mreturn\u001b[0m \u001b[0mself\u001b[0m\u001b[0;34m.\u001b[0m\u001b[0m_make_api_call\u001b[0m\u001b[0;34m(\u001b[0m\u001b[0moperation_name\u001b[0m\u001b[0;34m,\u001b[0m \u001b[0mkwargs\u001b[0m\u001b[0;34m)\u001b[0m\u001b[0;34m\u001b[0m\u001b[0;34m\u001b[0m\u001b[0m\n\u001b[0m\u001b[1;32m    277\u001b[0m \u001b[0;34m\u001b[0m\u001b[0m\n\u001b[1;32m    278\u001b[0m         \u001b[0m_api_call\u001b[0m\u001b[0;34m.\u001b[0m\u001b[0m__name__\u001b[0m \u001b[0;34m=\u001b[0m \u001b[0mstr\u001b[0m\u001b[0;34m(\u001b[0m\u001b[0mpy_operation_name\u001b[0m\u001b[0;34m)\u001b[0m\u001b[0;34m\u001b[0m\u001b[0;34m\u001b[0m\u001b[0m\n",
      "\u001b[0;32m~/.local/lib/python3.7/site-packages/botocore/client.py\u001b[0m in \u001b[0;36m_make_api_call\u001b[0;34m(self, operation_name, api_params)\u001b[0m\n\u001b[1;32m    584\u001b[0m             \u001b[0merror_code\u001b[0m \u001b[0;34m=\u001b[0m \u001b[0mparsed_response\u001b[0m\u001b[0;34m.\u001b[0m\u001b[0mget\u001b[0m\u001b[0;34m(\u001b[0m\u001b[0;34m\"Error\"\u001b[0m\u001b[0;34m,\u001b[0m \u001b[0;34m{\u001b[0m\u001b[0;34m}\u001b[0m\u001b[0;34m)\u001b[0m\u001b[0;34m.\u001b[0m\u001b[0mget\u001b[0m\u001b[0;34m(\u001b[0m\u001b[0;34m\"Code\"\u001b[0m\u001b[0;34m)\u001b[0m\u001b[0;34m\u001b[0m\u001b[0;34m\u001b[0m\u001b[0m\n\u001b[1;32m    585\u001b[0m             \u001b[0merror_class\u001b[0m \u001b[0;34m=\u001b[0m \u001b[0mself\u001b[0m\u001b[0;34m.\u001b[0m\u001b[0mexceptions\u001b[0m\u001b[0;34m.\u001b[0m\u001b[0mfrom_code\u001b[0m\u001b[0;34m(\u001b[0m\u001b[0merror_code\u001b[0m\u001b[0;34m)\u001b[0m\u001b[0;34m\u001b[0m\u001b[0;34m\u001b[0m\u001b[0m\n\u001b[0;32m--> 586\u001b[0;31m             \u001b[0;32mraise\u001b[0m \u001b[0merror_class\u001b[0m\u001b[0;34m(\u001b[0m\u001b[0mparsed_response\u001b[0m\u001b[0;34m,\u001b[0m \u001b[0moperation_name\u001b[0m\u001b[0;34m)\u001b[0m\u001b[0;34m\u001b[0m\u001b[0;34m\u001b[0m\u001b[0m\n\u001b[0m\u001b[1;32m    587\u001b[0m         \u001b[0;32melse\u001b[0m\u001b[0;34m:\u001b[0m\u001b[0;34m\u001b[0m\u001b[0;34m\u001b[0m\u001b[0m\n\u001b[1;32m    588\u001b[0m             \u001b[0;32mreturn\u001b[0m \u001b[0mparsed_response\u001b[0m\u001b[0;34m\u001b[0m\u001b[0;34m\u001b[0m\u001b[0m\n",
      "\u001b[0;31mClientError\u001b[0m: An error occurred (AccessDeniedException) when calling the DetectKeyPhrases operation: User: arn:aws:iam::141547995048:user/sanjay_aws_cli_user is not authorized to perform: comprehend:DetectKeyPhrases"
     ]
    }
   ],
   "source": [
    "# Provide your code here\n",
    "print('finding suitable key phrases')\n",
    "suitableKeyPhrases = json.dumps(comprehendClient.detect_key_phrases(Text=content, LanguageCode='en'))\n",
    "print(suitableKeyPhrases)"
   ]
  },
  {
   "cell_type": "code",
   "execution_count": null,
   "metadata": {},
   "outputs": [],
   "source": []
  }
 ],
 "metadata": {
  "kernelspec": {
   "display_name": "Python 3",
   "language": "python",
   "name": "python3"
  },
  "language_info": {
   "codemirror_mode": {
    "name": "ipython",
    "version": 3
   },
   "file_extension": ".py",
   "mimetype": "text/x-python",
   "name": "python",
   "nbconvert_exporter": "python",
   "pygments_lexer": "ipython3",
   "version": "3.7.4"
  }
 },
 "nbformat": 4,
 "nbformat_minor": 2
}
