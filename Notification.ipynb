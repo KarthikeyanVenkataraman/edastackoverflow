{
  "nbformat": 4,
  "nbformat_minor": 0,
  "metadata": {
    "colab": {
      "name": "Notification.ipynb",
      "provenance": [],
      "collapsed_sections": []
    },
    "kernelspec": {
      "name": "python3",
      "display_name": "Python 3"
    }
  },
  "cells": [
    {
      "cell_type": "code",
      "metadata": {
        "id": "mVHcIG66wF-B",
        "colab_type": "code",
        "outputId": "c8874671-a1e2-4fe9-9c23-da6a842f40dd",
        "colab": {
          "base_uri": "https://localhost:8080/",
          "height": 35
        }
      },
      "source": [
        "import pandas as pd\n",
        "import numpy as np\n",
        "import warnings\n",
        "warnings.filterwarnings(\"ignore\")\n",
        "\n",
        "questions = pd.read_csv('https://stack-overflow-casestudy-datasets.s3.amazonaws.com/Questions.csv',engine='python',encoding='ISO-8859-1')\n",
        "answers = pd.read_csv('https://stack-overflow-casestudy-datasets.s3.amazonaws.com/Answers.csv',engine='python',encoding='ISO-8859-1')\n",
        "tags = pd.read_csv('https://stack-overflow-casestudy-datasets.s3.amazonaws.com/Tags.csv',engine='python',encoding='ISO-8859-1')\n",
        "users = pd.read_csv('https://stack-overflow-casestudy-datasets.s3.amazonaws.com/Users.csv',engine='python',encoding='ISO-8859-1')\n",
        "print('All the stack overflow data set loaded')"
      ],
      "execution_count": 1,
      "outputs": [
        {
          "output_type": "stream",
          "text": [
            "All the stack overflow data set loaded\n"
          ],
          "name": "stdout"
        }
      ]
    },
    {
      "cell_type": "code",
      "metadata": {
        "id": "XfXAOpGl0EDw",
        "colab_type": "code",
        "outputId": "b1d5309f-3d5e-4eda-a880-f329ffb90dca",
        "colab": {
          "base_uri": "https://localhost:8080/",
          "height": 165
        }
      },
      "source": [
        "#Elimination#1 - perform EDA on question dataset\n",
        "questions = questions[~((questions.OwnerUserId.isnull()) & (questions.ClosedDate.isnull()) & (questions.Score ==0))]\n",
        "questions = questions[~((questions.ClosedDate.isnull()) & (questions.Score ==0))]\n",
        "questions = questions[~((questions.OwnerUserId.isnull()) & (questions.Score ==0))]\n",
        "questions = questions[~(questions.OwnerUserId.isnull())]\n",
        "questions.isnull().sum()/len(questions)*100"
      ],
      "execution_count": 2,
      "outputs": [
        {
          "output_type": "execute_result",
          "data": {
            "text/plain": [
              "Id               0.000000\n",
              "OwnerUserId      0.000000\n",
              "CreationDate     0.000000\n",
              "ClosedDate      91.933022\n",
              "Score            0.000000\n",
              "Title            0.000000\n",
              "Body             0.000000\n",
              "dtype: float64"
            ]
          },
          "metadata": {
            "tags": []
          },
          "execution_count": 2
        }
      ]
    },
    {
      "cell_type": "code",
      "metadata": {
        "id": "_PbNEolP2Qo3",
        "colab_type": "code",
        "outputId": "0382b248-3095-4cef-9268-66e856e1c228",
        "colab": {
          "base_uri": "https://localhost:8080/",
          "height": 146
        }
      },
      "source": [
        "#Elimination#2 - perform EDA on answers dataset\n",
        "answers = answers[~((answers.OwnerUserId.isnull()) & (answers.Score ==0))]\n",
        "answers = answers[~(answers.OwnerUserId.isnull())]\n",
        "answers.isnull().sum()/len(answers)*100"
      ],
      "execution_count": 3,
      "outputs": [
        {
          "output_type": "execute_result",
          "data": {
            "text/plain": [
              "Id              0.0\n",
              "OwnerUserId     0.0\n",
              "CreationDate    0.0\n",
              "ParentId        0.0\n",
              "Score           0.0\n",
              "Body            0.0\n",
              "dtype: float64"
            ]
          },
          "metadata": {
            "tags": []
          },
          "execution_count": 3
        }
      ]
    },
    {
      "cell_type": "code",
      "metadata": {
        "id": "yVg6blhS0d_B",
        "colab_type": "code",
        "outputId": "35f6259e-8cac-4732-a2f6-524b5226e61b",
        "colab": {
          "base_uri": "https://localhost:8080/",
          "height": 72
        }
      },
      "source": [
        "#Elimination#3 - perform EDA on tags dataset\n",
        "tags = tags[~tags.Tag.isnull()]\n",
        "tags.drop_duplicates(subset='Tag',keep='first',inplace=True)\n",
        "tags.isnull().sum()/len(tags)*100"
      ],
      "execution_count": 4,
      "outputs": [
        {
          "output_type": "execute_result",
          "data": {
            "text/plain": [
              "Id     0.0\n",
              "Tag    0.0\n",
              "dtype: float64"
            ]
          },
          "metadata": {
            "tags": []
          },
          "execution_count": 4
        }
      ]
    },
    {
      "cell_type": "code",
      "metadata": {
        "id": "wByFmG3d007Y",
        "colab_type": "code",
        "outputId": "a245972b-5923-4f67-bf08-7c05c9470293",
        "colab": {
          "base_uri": "https://localhost:8080/",
          "height": 183
        }
      },
      "source": [
        "#Elimination#4 - perform EDA on users dataset\n",
        "users[(users.up_votes ==0) & (users.down_votes ==0) & (users.views == 0)]\n",
        "del users['Unnamed: 0']\n",
        "users.drop_duplicates(keep='first',inplace=True)\n",
        "users = users[~(users.display_name.isnull())]\n",
        "users.isnull().sum()/len(users)*100"
      ],
      "execution_count": 5,
      "outputs": [
        {
          "output_type": "execute_result",
          "data": {
            "text/plain": [
              "id                  0.0\n",
              "display_name        0.0\n",
              "creation_date       0.0\n",
              "last_access_date    0.0\n",
              "reputation          0.0\n",
              "up_votes            0.0\n",
              "down_votes          0.0\n",
              "views               0.0\n",
              "dtype: float64"
            ]
          },
          "metadata": {
            "tags": []
          },
          "execution_count": 5
        }
      ]
    },
    {
      "cell_type": "code",
      "metadata": {
        "id": "SQ-0m-fGOKpk",
        "colab_type": "code",
        "colab": {}
      },
      "source": [
        "def getUserNameFromQuestion(questionId):\n",
        "  username = ''\n",
        "  try:\n",
        "    userIdFromQuestion = questions[questions['Id'] == questionId].OwnerUserId\n",
        "    username = users[users['id'].values == userIdFromQuestion.values].display_name.values\n",
        "  except Exception:\n",
        "    print('Error occured when retrieving user name for the question '+questionId)\n",
        "  finally:\n",
        "    return username\n",
        "\n"
      ],
      "execution_count": 0,
      "outputs": []
    },
    {
      "cell_type": "code",
      "metadata": {
        "id": "oUKRgDaN04p2",
        "colab_type": "code",
        "outputId": "d5938e1c-568c-4e5c-ce87-9287ada5873e",
        "colab": {
          "base_uri": "https://localhost:8080/",
          "height": 128
        }
      },
      "source": [
        "#When a user raises a question with a data science tag ('python', 'r', 'matlab', 'sas', 'excel', 'sql'), \n",
        "#then Stack Overflow sends the notification to the relevant users.\n",
        "def sendQuestionNotification():\n",
        "  questionTagList = ['python', 'r', 'matlab', 'sas', 'excel', 'sql']\n",
        "\n",
        "  #Iterate tagged question\n",
        "  for qTag in questionTagList:  \n",
        "    taggedQuestionList = tags[tags['Tag'].str.contains(qTag)].Id.values.tolist()\n",
        "\n",
        "    for questionId in taggedQuestionList:\n",
        "      username = getUserNameFromQuestion(questionId)\n",
        "      print('Notification sent to user '+username+' who added the tag '+ qTag+' to the question '+str(questionId))\n",
        "      break #comment the break to see the full listing of notification.  Don't do that until you want to see the full notification listing\n",
        "\n",
        "sendQuestionNotification()"
      ],
      "execution_count": 10,
      "outputs": [
        {
          "output_type": "stream",
          "text": [
            "['Notification sent to user jkp who added the tag python to the question 11060']\n",
            "['Notification sent to user Shawn who added the tag r to the question 80']\n",
            "['Notification sent to user mana who added the tag matlab to the question 83190']\n",
            "['Notification sent to user Frank V who added the tag sas to the question 102600']\n",
            "[]\n",
            "['Notification sent to user Zack Peterson who added the tag sql to the question 120']\n"
          ],
          "name": "stdout"
        }
      ]
    },
    {
      "cell_type": "code",
      "metadata": {
        "id": "rnpmUPOAWKlx",
        "colab_type": "code",
        "outputId": "32744b85-19bb-4aa3-e8b1-fa81a8abdbb4",
        "colab": {
          "base_uri": "https://localhost:8080/",
          "height": 128
        }
      },
      "source": [
        "\n",
        "#When a user provides a data science tag ('python', 'r', 'matlab', 'sas', 'excel', 'sql') to their question, \n",
        "#then Stack Overflow should come up with the expected approximate time to get it answered.\n",
        "def getApproxAnswerTime():\n",
        "  dataScienceTagList = ['python', 'r', 'matlab', 'sas', 'excel', 'sql']  \n",
        "\n",
        "  #Iterate data science tagged question\n",
        "  for qTag in dataScienceTagList:  \n",
        "    #get all the question ids tagged against specific value\n",
        "    taggedQuestionList = tags[tags['Tag'].str.contains(qTag)].Id.values.tolist()\n",
        "    #get all the answer id tagged against specific value\n",
        "    answerDates = answers[answers['ParentId'].isin(taggedQuestionList)]\n",
        "    answerDates['CreationDate'] = pd.to_datetime(answerDates['CreationDate'])\n",
        "    avgResponseDays = answerDates.CreationDate.dt.day.mean()\n",
        "    print('Average Response Time for '+qTag +' tagged question is', avgResponseDays, ' days')\n",
        "\n",
        "\n",
        "\n",
        "getApproxAnswerTime()"
      ],
      "execution_count": 11,
      "outputs": [
        {
          "output_type": "stream",
          "text": [
            "Average Response Time for python tagged question is 16.27076923076923  days\n",
            "Average Response Time for r tagged question is 15.755619007701577  days\n",
            "Average Response Time for matlab tagged question is 16.609756097560975  days\n",
            "Average Response Time for sas tagged question is 18.53030303030303  days\n",
            "Average Response Time for excel tagged question is 18.3  days\n",
            "Average Response Time for sql tagged question is 16.099775784753362  days\n"
          ],
          "name": "stdout"
        }
      ]
    },
    {
      "cell_type": "code",
      "metadata": {
        "id": "ykpiZjOuufig",
        "colab_type": "code",
        "outputId": "4ce9c0f5-7efb-4d13-a796-4690db018c9f",
        "colab": {
          "base_uri": "https://localhost:8080/",
          "height": 1000
        }
      },
      "source": [
        "#While a user raises a question, Stack Overflow wants to provide some suggestions to the users to get their queries answered quickly.\n",
        "def getSuggestedAnswers():\n",
        "\n",
        "    #Take sampe 10 tags for demonstration purpose\n",
        "    tagsList = tags.Tag.head(10).values.tolist()\n",
        "    \n",
        "    for qTag in tagsList: \n",
        "      #get all the question ids tagged against specific value\n",
        "      taggedQuestionList = tags[tags['Tag'].str.contains(qTag)].Id.values.tolist()\n",
        "      #print(taggedQuestionList)\n",
        "    \n",
        "      #pickup top 5 suggested answers\n",
        "      suggestedAnswers = answers[answers['ParentId'].isin(taggedQuestionList)].Body#.head(5).values.tolist()\n",
        "      #print(suggestedAnswers[:5])\n",
        "      print('Top 5 Suggested Answers List for the tag '+qTag+ 'is ')\n",
        "      print('=====================================================')\n",
        "\n",
        "      answerid = 1\n",
        "      for anAnswer in suggestedAnswers[:5]:\n",
        "        print('Answer'+str(answerid)+'.', anAnswer)\n",
        "        answerid += 1\n",
        "\n",
        "getSuggestedAnswers()"
      ],
      "execution_count": 12,
      "outputs": [
        {
          "output_type": "stream",
          "text": [
            "Top 5 Suggested Answers List for the tag flexis \n",
            "=====================================================\n",
            "Answer1. <p>I wound up using this. It is a kind of a hack, but it actually works pretty well. The only thing is you have to be very careful with your semicolons. : D</p>\n",
            "\n",
            "<pre><code>var strSql:String = stream.readUTFBytes(stream.bytesAvailable);      \n",
            "var i:Number = 0;\n",
            "var strSqlSplit:Array = strSql.split(\";\");\n",
            "for (i = 0; i &lt; strSqlSplit.length; i++){\n",
            "    NonQuery(strSqlSplit[i].toString());\n",
            "}\n",
            "</code></pre>\n",
            "\n",
            "Answer2. <p>The <a href=\"http://en.wikipedia.org/wiki/SQLite\" rel=\"nofollow\">SQLite</a> API has a function called something like <code>sqlite_prepare</code> which takes <em>one</em> statement and prepares it for execution, essentially parsing the SQL and storing it in memory. This means that the SQL only has to be sent once to the database engine even though the statement is executed many times.</p>\n",
            "\n",
            "<p>Anyway, a statement is a single SQL query, that's just the rule. The AIR SQL API doesn't allow sending raw SQL to SQLite, only single statements, and the reason is, likely, that AIR uses the <code>sqlite_prepare</code> function when it talks to SQLite.</p>\n",
            "\n",
            "Answer3. <p>I found that one of the undocumented requirements for using ant with Flexbuilder was to have the variable FLEX_HOME set within your ant script. Typically within build.xml have the following:</p>\n",
            "\n",
            "<pre><code>&lt;!â Module properties â&gt;\n",
            "&lt;property environment=âenvâ/&gt;\n",
            "&lt;property name=âbuild.dirâ value=âbuildâ/&gt;\n",
            "&lt;property name=âswf.nameâ value=âMyProjectSwfâ/&gt;\n",
            "&lt;property name=âroot.mxmlâ value=âMain.mxmlâ/&gt;\n",
            "&lt;property name=âlocaleâ value=âen_USâ/&gt;\n",
            "&lt;property name=âFLEX_HOMEâ value=â${env.FLEX_HOME}â/&gt;\n",
            "</code></pre>\n",
            "\n",
            "<p>This may seem like a hassle but it is a far more reasonable approach to obtaining consistency across platforms and environments if you are using multiple platforms for your developers.</p>\n",
            "\n",
            "<p>HTH</p>\n",
            "\n",
            "Answer4. <p>While not a solution to your specific problem, a workaround is to use a continuous integration server.</p>\n",
            "\n",
            "<p>Using something like <a href=\"http://cruisecontrol.sourceforge.net/\" rel=\"nofollow\">Cruise Control</a> you can have an automated build kick off every time someone submits something to source control.  Then if the build fails for any reason (including environment inconsistencies) it's up to the developer who broke it to fix it.  You can configure it to send emails on failure/success in various ways.</p>\n",
            "\n",
            "Answer5. <p>Note that Flex is seriously out-of-date on Windows when it comes to generating C++ scanners. Recent Flex versions which are able to generate ISO C++ scanners do not support Win32 (MinGW or VS), so you're probably better of trying to generate a C scanner and call it from C++.</p>\n",
            "\n",
            "Top 5 Suggested Answers List for the tag actionscript-3is \n",
            "=====================================================\n",
            "Answer1. <p>I wound up using this. It is a kind of a hack, but it actually works pretty well. The only thing is you have to be very careful with your semicolons. : D</p>\n",
            "\n",
            "<pre><code>var strSql:String = stream.readUTFBytes(stream.bytesAvailable);      \n",
            "var i:Number = 0;\n",
            "var strSqlSplit:Array = strSql.split(\";\");\n",
            "for (i = 0; i &lt; strSqlSplit.length; i++){\n",
            "    NonQuery(strSqlSplit[i].toString());\n",
            "}\n",
            "</code></pre>\n",
            "\n",
            "Answer2. <p>The <a href=\"http://en.wikipedia.org/wiki/SQLite\" rel=\"nofollow\">SQLite</a> API has a function called something like <code>sqlite_prepare</code> which takes <em>one</em> statement and prepares it for execution, essentially parsing the SQL and storing it in memory. This means that the SQL only has to be sent once to the database engine even though the statement is executed many times.</p>\n",
            "\n",
            "<p>Anyway, a statement is a single SQL query, that's just the rule. The AIR SQL API doesn't allow sending raw SQL to SQLite, only single statements, and the reason is, likely, that AIR uses the <code>sqlite_prepare</code> function when it talks to SQLite.</p>\n",
            "\n",
            "Answer3. <p>What about making your delimiter something a little more complex like \";\\n\" which would not show up all that often. You just have to ensure when creating the file you have a line return or two in there. I end up putting two \"\\n\\n\" into the creation of my files which works well.</p>\n",
            "\n",
            "Top 5 Suggested Answers List for the tag airis \n",
            "=====================================================\n",
            "Answer1. <p>I wound up using this. It is a kind of a hack, but it actually works pretty well. The only thing is you have to be very careful with your semicolons. : D</p>\n",
            "\n",
            "<pre><code>var strSql:String = stream.readUTFBytes(stream.bytesAvailable);      \n",
            "var i:Number = 0;\n",
            "var strSqlSplit:Array = strSql.split(\";\");\n",
            "for (i = 0; i &lt; strSqlSplit.length; i++){\n",
            "    NonQuery(strSqlSplit[i].toString());\n",
            "}\n",
            "</code></pre>\n",
            "\n",
            "Answer2. <p>The <a href=\"http://en.wikipedia.org/wiki/SQLite\" rel=\"nofollow\">SQLite</a> API has a function called something like <code>sqlite_prepare</code> which takes <em>one</em> statement and prepares it for execution, essentially parsing the SQL and storing it in memory. This means that the SQL only has to be sent once to the database engine even though the statement is executed many times.</p>\n",
            "\n",
            "<p>Anyway, a statement is a single SQL query, that's just the rule. The AIR SQL API doesn't allow sending raw SQL to SQLite, only single statements, and the reason is, likely, that AIR uses the <code>sqlite_prepare</code> function when it talks to SQLite.</p>\n",
            "\n",
            "Answer3. <p>Trying to pair program remotely probably won't be as useful as doing it in person, but you can of course do it using collaborative editors as <a href=\"http://www.codingmonkeys.de/subethaedit/\" rel=\"nofollow\">SubEthaEdit</a> in OS X.</p>\n",
            "\n",
            "Answer4. <p>We've been using the new ECF features in Eclipse 3.4 (Ganymede) and we like it. We're not actually remote from each other except when one of us is working at home but ECF lets you edit the same file and also has an IM window for chatting. If you use Skype, so much the better.</p>\n",
            "\n",
            "<p>There's a good <a href=\"http://www.vimeo.com/1195398\" rel=\"nofollow\">screencast on Vimeo</a> of the screen sharing that really made us excited about it.</p>\n",
            "\n",
            "Answer5. <p>In my current job, I've worked with another developer who was in another location. While we consulted quite often with each other through phone calls (headsets are a huge plus!) and screen sharing, the real 'together work' (including some real pair programming) was much more effective when I visited his location (did that twice for a whole week, and these weeks were <em>very</em> intense).</p>\n",
            "\n",
            "<p>The main problem with screen sharing is that you never know who is going to move the mouse,... (for example to point at something on the screen).</p>\n",
            "\n",
            "<p>On that project, we ended up dividing the work into 2 sub-projects, and got together (meaning: travelling) to plug them together. </p>\n",
            "\n",
            "Top 5 Suggested Answers List for the tag svnis \n",
            "=====================================================\n",
            "Answer1. <p><a href=\"http://svnbook.red-bean.com/\">Version Control with Subversion</a></p>\n",
            "\n",
            "<p>A very good resource for source control in general. Not really TortoiseSVN specific, though.</p>\n",
            "Answer2. <p>Older AnkhSVN (pre 2.0) was very crappy and I was only using it for shiny icons in the solution explorer. I relied on Tortoise for everything except reverts.</p>\n",
            "\n",
            "<p>The newer Ankh is a complete rewrite (it is now using the Source Control API of the IDE) and looks &amp; works much better. Still, I haven't forced it to any heavy lifting. Icons is enough for me.</p>\n",
            "\n",
            "<p>The only gripe I have with 2.0 is the fact that it slaps its footprint to <strong>.sln</strong> files. I always revert them lest they cause problems for co-workers who do not have Ankh installed. Dunno if my fears are groundless or not.</p>\n",
            "\n",
            "<p><hr /></p>\n",
            "\n",
            "<p>addendum:</p>\n",
            "\n",
            "<p>I have been using v2.1.7141 a bit more extensively for the last few weeks and here are the new things I have to add:</p>\n",
            "\n",
            "<ul>\n",
            "<li>No ugly crashes that plagued v1.x. Yay!</li>\n",
            "<li>For some reason, \"Show Changes\" (diff) windows are limited to only two. Meh.</li>\n",
            "<li>Diff windows do not allow editing/reverting yet. Boo!</li>\n",
            "<li>Updates, commits and browsing are MUCH faster than Tortoise. Yay!</li>\n",
            "</ul>\n",
            "\n",
            "<p>All in all, I would not use it standalone, but once you start using it, it becomes an almost indispensable companion to Tortoise.</p>\n",
            "\n",
            "Answer3. <p>I tried version 1, and it was unreliable to say the least. I can't say anything about 2.0.</p>\n",
            "\n",
            "<p>If you can afford it, the one I use, <a href=\"http://www.visualsvn.com/\" rel=\"nofollow\">VisualSVN</a>, is very good and uses TortoiseSVN for all its gui, except for the specialized things related to its VS integration.</p>\n",
            "\n",
            "Answer4. <p>I always had stability issues with AnkhSVN. I couldn't switch everyone to Subversion where I work without an integrated solution.</p>\n",
            "\n",
            "<p>Thank goodness for <a href=\"http://www.visualsvn.com/\" rel=\"nofollow\">VisualSVN</a> + <a href=\"http://tortoisesvn.tigris.org/\" rel=\"nofollow\">TortoiseSVN</a>.</p>\n",
            "\n",
            "<p>VisualSVN isn't free, but it is cheap, and works a treat. </p>\n",
            "\n",
            "Answer5. <p>I tried AnkhSVN (1.0.3, just 4 months ago), and it did not work the way I wanted it to (i.e. needed to select things in the browser window instead of based on active file). I ended up making some macros that utilize TortoiseSVN that work much more like what I expected.</p>\n",
            "\n",
            "<p>I've been very happy with using TortoiseSVN via explorer and my macros inside the IDE.</p>\n",
            "\n",
            "Top 5 Suggested Answers List for the tag tortoisesvnis \n",
            "=====================================================\n",
            "Answer1. <p><a href=\"http://svnbook.red-bean.com/\">Version Control with Subversion</a></p>\n",
            "\n",
            "<p>A very good resource for source control in general. Not really TortoiseSVN specific, though.</p>\n",
            "Answer2. <p>You can also try <em><a href=\"http://www.codeproject.com/KB/work/XTortoiseSVN.aspx\" rel=\"nofollow\">Version Control for the Standalone Programmer - Part 1</a></em> or perhaps <em><a href=\"http://www.kenegozi.com/Blog/2007/07/30/merging-with-tortoisesvn.aspx\" rel=\"nofollow\">Merging with TortoiseSVN</a></em>.</p>\n",
            "\n",
            "Answer3. <p>My easy click-by-click instructions (<strong>specific to TortoiseSVN</strong>) are in Stack&nbsp;Overflow question <em><a href=\"http://stackoverflow.com/questions/1461922\">What is the simplest way to do branching and merging using TortoiseSVN?</a></em>.</p>\n",
            "\n",
            "Top 5 Suggested Answers List for the tag branchis \n",
            "=====================================================\n",
            "Answer1. <p><a href=\"http://svnbook.red-bean.com/\">Version Control with Subversion</a></p>\n",
            "\n",
            "<p>A very good resource for source control in general. Not really TortoiseSVN specific, though.</p>\n",
            "Answer2. <p>You can also try <em><a href=\"http://www.codeproject.com/KB/work/XTortoiseSVN.aspx\" rel=\"nofollow\">Version Control for the Standalone Programmer - Part 1</a></em> or perhaps <em><a href=\"http://www.kenegozi.com/Blog/2007/07/30/merging-with-tortoisesvn.aspx\" rel=\"nofollow\">Merging with TortoiseSVN</a></em>.</p>\n",
            "\n",
            "Answer3. <p>Editing <code>.git/config</code> is probably the easiest and fastest way. That's what the Git commands for handling remote branches are doing, anyway.</p>\n",
            "\n",
            "<p>If you don't want to muck with the file by hand (and it's not that hard to do), you can always use <code>git config</code> to do it...but again, that's just going to edit the <code>.git/config</code> file, anyway.</p>\n",
            "\n",
            "<p>There are, of course, ways to automatically track a remote branch when using <code>git checkout</code> (by passing the <code>--track</code> flag, for example), but these commands work with <em>new</em> branches, not existing ones.</p>\n",
            "\n",
            "Answer4. <p>You might find the <a href=\"http://github.com/webmat/git_remote_branch\"><code>git_remote_branch</code></a> tool useful. It offers simple commands for creating, publishing, deleting, tracking &amp; renaming remote branches. One nice feature is that you can ask a <code>grb</code> command to explain what git commands it would execute.</p>\n",
            "\n",
            "<pre class=\"lang-bash prettyprint-override\"><code>grb explain create my_branch github\n",
            "# git_remote_branch version 0.3.0\n",
            "\n",
            "# List of operations to do to create a new remote branch and track it locally:\n",
            "git push github master:refs/heads/my_branch\n",
            "git fetch github\n",
            "git branch --track my_branch github/my_branch\n",
            "git checkout my_branch\n",
            "</code></pre>\n",
            "\n",
            "Answer5. <p>You can do the following (assuming you are checked out on master and want to push to a remote branch master):</p>\n",
            "\n",
            "<p>Set up the 'remote' if you don't have it already</p>\n",
            "\n",
            "<pre><code># git remote add origin ssh://...\n",
            "</code></pre>\n",
            "\n",
            "<p>Now configure master to know to track:</p>\n",
            "\n",
            "<pre><code># git config branch.master.remote origin\n",
            "# git config branch.master.merge refs/heads/master\n",
            "</code></pre>\n",
            "\n",
            "<p>And push:</p>\n",
            "\n",
            "<pre><code># git push origin master\n",
            "</code></pre>\n",
            "\n",
            "Top 5 Suggested Answers List for the tag branching-and-mergingis \n",
            "=====================================================\n",
            "Answer1. <p><a href=\"http://svnbook.red-bean.com/\">Version Control with Subversion</a></p>\n",
            "\n",
            "<p>A very good resource for source control in general. Not really TortoiseSVN specific, though.</p>\n",
            "Answer2. <p>You can also try <em><a href=\"http://www.codeproject.com/KB/work/XTortoiseSVN.aspx\" rel=\"nofollow\">Version Control for the Standalone Programmer - Part 1</a></em> or perhaps <em><a href=\"http://www.kenegozi.com/Blog/2007/07/30/merging-with-tortoisesvn.aspx\" rel=\"nofollow\">Merging with TortoiseSVN</a></em>.</p>\n",
            "\n",
            "Answer3. <p>My easy click-by-click instructions (<strong>specific to TortoiseSVN</strong>) are in Stack&nbsp;Overflow question <em><a href=\"http://stackoverflow.com/questions/1461922\">What is the simplest way to do branching and merging using TortoiseSVN?</a></em>.</p>\n",
            "\n",
            "Top 5 Suggested Answers List for the tag sqlis \n",
            "=====================================================\n",
            "Answer1. <p>For my projects I alternate between SQL Compare from REd Gate and the Database Publishing Wizard from Microsoft which you can download free\n",
            "<a href=\"http://www.microsoft.com/downloads/details.aspx?familyid=56E5B1C5-BF17-42E0-A410-371A838E570A&amp;displaylang=en\">here</a>.</p>\n",
            "\n",
            "<p>The Wizard isn't as slick as SQL Compare or SQL Data Compare but it does the trick. One issue is that the scripts it generates may need some rearranging and/or editing to flow in one shot.</p>\n",
            "\n",
            "<p>On the up side, it can move your schema and data which isn't bad for a free tool.</p>\n",
            "Answer2. <p>I've taken to hand-coding all of my DDL (creates/alter/delete) statements, adding them to my .sln as text files, and using normal versioning (using subversion, but any revision control should work). This way, I not only get the benefit of versioning, but updating live from dev/stage is the same process for code and database - tags, branches and so on work all the same.</p>\n",
            "\n",
            "<p>Otherwise, I agree redgate is expensive if you don't have a company buying it for you. If you can get a company to buy it for you though, it really is worth it!</p>\n",
            "Answer3. <p>If you have a company buying it, Toad from Quest Software has this kind of management functionality built in.  It's basically a two-click operation to compare two schemas and generate a sync script from one to the other.</p>\n",
            "\n",
            "<p>They have editions for most of the popular databases, including of course Sql Server.</p>\n",
            "Answer4. <p>I work the same way Karl does, by keeping all of my SQL scripts for creating and altering tables in a text file that I keep in source control.  In fact, to avoid the problem of having to have a script examine the live database to determine what ALTERs to run, I usually work like this:</p>\n",
            "\n",
            "<ul>\n",
            "<li>On the first version, I place everything during testing into one SQL script, and treat all tables as a CREATE.  This means I end up dropping and readding tables a lot during testing, but that's not a big deal early into the project (since I'm usually hacking the data I'm using at that point anyway).</li>\n",
            "<li>On all subsequent versions, I do two things: I make a new text file to hold the upgrade SQL scripts, that contain just the ALTERs for that version.  And I make the changes to the original, create a fresh database script as well.  This way an upgrade just runs the upgrade script, but if we have to recreate the DB we don't need to run 100 scripts to get there.</li>\n",
            "<li>Depending on how I'm deploying the DB changes, I'll also usually put a version table in the DB that holds the version of the DB.  Then, rather than make any human decisions about which scripts to run, whatever code I have running the create/upgrade scripts uses the version to determine what to run.</li>\n",
            "</ul>\n",
            "\n",
            "<p>The one thing this will not do is help if part of what you're moving from test to production is data, but if you want to manage structure and not pay for a nice, but expensive DB management package, is really not very difficult.  I've also found it's a pretty good way of keeping mental track of your DB.</p>\n",
            "Answer5. <p>I agree that scripting everything is the best way to go and is what I advocate at work.  You should script everything from DB and object creation to populating your lookup tables.</p>\n",
            "\n",
            "<p>Anything you do in UI only won't translate (especially for changes... not so much for first deployments) and will end up requiring a tools like what Redgate offers.</p>\n",
            "Top 5 Suggested Answers List for the tag asp.netis \n",
            "=====================================================\n",
            "Answer1. <p>What type is selectedYear? A DateTime? If so then you might need to convert to a string.</p>\n",
            "Answer2. <p>I would suggest you start by removing the UpdatePanels at first, and make sure your control orgy is working correctly with postbacks.  Once you have that working, try adding the UpdatePanels back in from the bottom up.</p>\n",
            "\n",
            "Answer3. <p>If you set the UpdateMode property to Conditional (default is Always) on both UpdatePanels it should stop the outer UpdatePanel triggering when only the usercontrols updatepanel should have refreshed.</p>\n",
            "\n",
            "Answer4. <p>Aggregate functions work with \"Scope', referring to the paragraph scope in this MSDN article, might help...<br></p>\n",
            "\n",
            "<p><a href=\"http://msdn.microsoft.com/fr-fr/library/ms252112(VS.80).aspx\" rel=\"nofollow\">http://msdn.microsoft.com/fr-fr/library/ms252112(VS.80).aspx\"</a></p>\n",
            "\n",
            "<p>From what I understand you may have to define a scope or try =First(\"MyString\", Nothing).</p>\n",
            "\n",
            "Answer5. <p>Looking at the link supplied by <a href=\"http://stackoverflow.com/questions/103240/finding-first-row-in-a-rdlc-table#103388\">ThatBloke in his answer</a>, I found the RowNumber command. </p>\n",
            "\n",
            "<p>Which means that this worked:</p>\n",
            "\n",
            "<pre><code>=IIf(RowNumber(Nothing)=1,\"myString\", \"\")\n",
            "</code></pre>\n",
            "\n",
            "Top 5 Suggested Answers List for the tag sitemapis \n",
            "=====================================================\n",
            "Answer1. <p>The Jeff Prosise version from MSDN magazine works pretty well, but it has a few flaws:</p>\n",
            "\n",
            "<p><code>AddNode</code> freaks out with links to external sites on your menu (www.google.com, etc.)</p>\n",
            "\n",
            "<p>Here's my fix in <code>BuildSiteMap()</code>:</p>\n",
            "\n",
            "<pre><code>SiteMapNode node = GetSiteMapNodeFromReader(reader);\n",
            "string url = node.Url;\n",
            "if (url.Contains(\":\"))\n",
            "{\n",
            "    string garbage = Guid.NewGuid().ToString();  // SiteMapNode needs unique URLs\n",
            "    node.Url = \"~/dummy_\" + garbage + \".aspx\";\n",
            "    AddNode(node, _root);\n",
            "    node.Url = url;\n",
            "}\n",
            "else\n",
            "{\n",
            "    AddNode(node, _root);\n",
            "}\n",
            "</code></pre>\n",
            "\n",
            "<p><code>SQLDependency</code> caching is cool, but if you don't want to make a trip to the DB everytime your menu loads (to check to see if the dependency has changed) and your menus don't change very often, then why not use <code>HttpRuntime.Cache</code> instead?</p>\n",
            "\n",
            "<pre><code>public override SiteMapNode RootNode\n",
            "{\n",
            "    get\n",
            "    {\n",
            "        SiteMapNode temp = (SiteMapNode)HttpRuntime.Cache[\"SomeKeyName\"];\n",
            "        if (temp == null)\n",
            "        {\n",
            "            temp = BuildSiteMap();\n",
            "            HttpRuntime.Cache.Insert(\"SomeKeyName\", temp, null, DateTime.Now.AddHours(1), Cache.NoSlidingExpiration);\n",
            "        }\n",
            "        return temp;\n",
            "    }\n",
            "}\n",
            "</code></pre>\n",
            "\n",
            "Answer2. <p>You could try using Reflector. This should show you the CAS permissions on that class.</p>\n",
            "\n",
            "<p>Or use <a href=\"http://www.codeplex.com/wspbuilder\" rel=\"nofollow\">WSPBuilder</a>, which will use reflection to generate the CAS file for you. I recommend this option as you shouldn't need to worry about editing your CAS files again!</p>\n",
            "\n",
            "Answer3. <p>Without seeing the XML it's hard to know what the problem is.  But, without seeing the XML (and from reading the Google threads), it sounds like the issue is <em>not</em> that the sitemap is invalid XML and more like the problem is that Google's parser is expecting something beyond what's strictly required by the XML schema.</p>\n",
            "\n",
            "<p>Since Google's automated tests would almost certainly have caught this problem if it affected all sitemaps, I'd guess that there is something about your particular sitemap which is causing the problem.</p>\n",
            "\n",
            "<p>So I'd consider trying the usual simple approach to detecting content problems: delete half the content and see if the problem still happens. If it does, try deleting the other half. If one of the halves goes through OK, keep subdividing until you've found the culprit. If both fail, keep dividing one half until you either run out of content or the problem goes away, and then identify the culprit pattern.</p>\n",
            "\n",
            "<p>Or, alternatively, you could go in the opposite direction: generate a brand-new sitemap file, fill it with one dummy link, and make sure Google accepts it. Assuming that works, add your content in one chunk at a time until it breaks, and then identify the culprit.  If it doesn't work, try copying a known-good sitemap file from somewhere (e.g. <a href=\"http://www.google.com/hostednews/sitemap%5Findex.xml\" rel=\"nofollow\">http://www.google.com/hostednews/sitemap_index.xml</a>), stipping out the content, and inserting your own. </p>\n",
            "\n",
            "Answer4. <p>I was missing the ui file!</p>\n",
            "\n",
            "Answer5. <p>Here is an article from Scott Gu's blog that can help you out.  The example in the article is using windows authentication but it should also work for forms authentication as well.</p>\n",
            "\n",
            "<p><a href=\"http://weblogs.asp.net/scottgu/pages/Recipe_3A00_-Implementing-Role_2D00_Based-Security-with-ASP.NET-2.0-using-Windows-Authentication-and-SQL-Server.aspx\" rel=\"nofollow\">http://weblogs.asp.net/scottgu/pages/Recipe_3A00_-Implementing-Role_2D00_Based-Security-with-ASP.NET-2.0-using-Windows-Authentication-and-SQL-Server.aspx</a></p>\n",
            "\n",
            "<p>If you want to implement different titles for different roles then here is an example of how that can be done. All you need to do is create two nodes pointing to the same url.  The reasons for a=1 and a=2 as querystring vars on the url is to ensure that the url is unique.  If the url is not unique, asp.net will complain, unless you can override that functionality...</p>\n",
            "\n",
            "<pre><code>    &lt;siteMap xmlns=\"http://schemas.microsoft.com/AspNet/SiteMap-File-1.0\" &gt;\n",
            "        &lt;siteMapNode url=\"default.aspx\" title=\"Home\"&gt;\n",
            "            &lt;siteMapNode url=\"page1.aspx?a=1\" title=\"Client Title\" roles=\"Client\" /&gt;\n",
            "            &lt;siteMapNode url=\"page1.aspx?a=2\" title=\"Manager Title\" roles=\"Manager\" /&gt;\n",
            "        &lt;/siteMapNode&gt; \n",
            "    &lt;/siteMap&gt;\n",
            "</code></pre>\n",
            "\n"
          ],
          "name": "stdout"
        }
      ]
    },
    {
      "cell_type": "code",
      "metadata": {
        "id": "pg68Peqt11T2",
        "colab_type": "code",
        "outputId": "4b0ba6c4-554a-466f-d29f-a4f44d2f637a",
        "colab": {
          "base_uri": "https://localhost:8080/",
          "height": 109
        }
      },
      "source": [
        "#Let’s say Stack Overflow also wants to post some details on its job website to help various employees understand \n",
        "#the subjects or topics trending in the industry.\n",
        "def getTop5TrendingTopics():\n",
        "\n",
        "  grouped = tags.groupby(['Id'])['Tag'].count().reset_index(name='count').sort_values(['count'], ascending=False)\n",
        "  #print(grouped[1:6])\n",
        "  for name,group in grouped[1:6].iterrows():\n",
        "    print('Top 5 Trending Topic=',tags[tags.Id == group.Id].Tag.values.tolist())      \n",
        "\n",
        "\n",
        "getTop5TrendingTopics()"
      ],
      "execution_count": 69,
      "outputs": [
        {
          "output_type": "stream",
          "text": [
            "Top 5 Trending Topic= ['mathematical-optimization', 'linear-programming', 'cplex', 'gurobi', 'convex-optimization']\n",
            "Top 5 Trending Topic= ['css', 'validation', 'xhtml', 'cross-browser', 'w3c']\n",
            "Top 5 Trending Topic= ['rdf', 'semantics', 'semantic-web', 'owl', 'ontology']\n",
            "Top 5 Trending Topic= ['iis-6', 'windows-server-2003', 'cluster-computing', 'failover']\n",
            "Top 5 Trending Topic= ['listview', 'header', 'themes', 'glyph']\n"
          ],
          "name": "stdout"
        }
      ]
    },
    {
      "cell_type": "code",
      "metadata": {
        "id": "E8WrXOSm2KBE",
        "colab_type": "code",
        "outputId": "7abb2cba-b89d-4614-df39-c558abd7ddf5",
        "colab": {
          "base_uri": "https://localhost:8080/",
          "height": 183
        }
      },
      "source": [
        "#grouped = tags.groupby(['Id','Tag'],).count()\n",
        "grouped = tags.groupby(['Id'])['Tag'].count().reset_index(name='count').sort_values(['count'], ascending=False)\n",
        "print(grouped[1:5])\n",
        "for name,group in grouped[1:5].iterrows():\n",
        "  print('Id=',group.Id,'Trending Topic=',tags[tags.Id == group.Id].Tag.values.tolist())"
      ],
      "execution_count": 67,
      "outputs": [
        {
          "output_type": "stream",
          "text": [
            "         Id  count\n",
            "952  143020      5\n",
            "67     7940      5\n",
            "508   66720      5\n",
            "170   22590      4\n",
            "Id= 143020 Trending Topic= ['mathematical-optimization', 'linear-programming', 'cplex', 'gurobi', 'convex-optimization']\n",
            "Id= 7940 Trending Topic= ['css', 'validation', 'xhtml', 'cross-browser', 'w3c']\n",
            "Id= 66720 Trending Topic= ['rdf', 'semantics', 'semantic-web', 'owl', 'ontology']\n",
            "Id= 22590 Trending Topic= ['iis-6', 'windows-server-2003', 'cluster-computing', 'failover']\n"
          ],
          "name": "stdout"
        }
      ]
    },
    {
      "cell_type": "code",
      "metadata": {
        "id": "s9bvSOUQ8sVJ",
        "colab_type": "code",
        "colab": {
          "base_uri": "https://localhost:8080/",
          "height": 206
        },
        "outputId": "681a56a4-9f3d-49f6-a784-2dd6304886e6"
      },
      "source": [
        "tags[tags.Id == 143020]"
      ],
      "execution_count": 66,
      "outputs": [
        {
          "output_type": "execute_result",
          "data": {
            "text/html": [
              "<div>\n",
              "<style scoped>\n",
              "    .dataframe tbody tr th:only-of-type {\n",
              "        vertical-align: middle;\n",
              "    }\n",
              "\n",
              "    .dataframe tbody tr th {\n",
              "        vertical-align: top;\n",
              "    }\n",
              "\n",
              "    .dataframe thead th {\n",
              "        text-align: right;\n",
              "    }\n",
              "</style>\n",
              "<table border=\"1\" class=\"dataframe\">\n",
              "  <thead>\n",
              "    <tr style=\"text-align: right;\">\n",
              "      <th></th>\n",
              "      <th>Id</th>\n",
              "      <th>Tag</th>\n",
              "    </tr>\n",
              "  </thead>\n",
              "  <tbody>\n",
              "    <tr>\n",
              "      <th>4881</th>\n",
              "      <td>143020</td>\n",
              "      <td>mathematical-optimization</td>\n",
              "    </tr>\n",
              "    <tr>\n",
              "      <th>4882</th>\n",
              "      <td>143020</td>\n",
              "      <td>linear-programming</td>\n",
              "    </tr>\n",
              "    <tr>\n",
              "      <th>4883</th>\n",
              "      <td>143020</td>\n",
              "      <td>cplex</td>\n",
              "    </tr>\n",
              "    <tr>\n",
              "      <th>4884</th>\n",
              "      <td>143020</td>\n",
              "      <td>gurobi</td>\n",
              "    </tr>\n",
              "    <tr>\n",
              "      <th>4885</th>\n",
              "      <td>143020</td>\n",
              "      <td>convex-optimization</td>\n",
              "    </tr>\n",
              "  </tbody>\n",
              "</table>\n",
              "</div>"
            ],
            "text/plain": [
              "          Id                        Tag\n",
              "4881  143020  mathematical-optimization\n",
              "4882  143020         linear-programming\n",
              "4883  143020                      cplex\n",
              "4884  143020                     gurobi\n",
              "4885  143020        convex-optimization"
            ]
          },
          "metadata": {
            "tags": []
          },
          "execution_count": 66
        }
      ]
    },
    {
      "cell_type": "code",
      "metadata": {
        "id": "susZmG84vozR",
        "colab_type": "code",
        "colab": {}
      },
      "source": [
        ""
      ],
      "execution_count": 0,
      "outputs": []
    }
  ]
}