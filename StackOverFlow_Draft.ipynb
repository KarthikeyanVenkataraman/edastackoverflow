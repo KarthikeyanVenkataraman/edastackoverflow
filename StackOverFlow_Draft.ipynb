{
  "nbformat": 4,
  "nbformat_minor": 0,
  "metadata": {
    "colab": {
      "name": "StackOverFlow-Draft.ipynb",
      "provenance": [],
      "collapsed_sections": []
    },
    "kernelspec": {
      "name": "python3",
      "display_name": "Python 3"
    }
  },
  "cells": [
    {
      "cell_type": "code",
      "metadata": {
        "id": "dX_IGzhftvFo",
        "colab_type": "code",
        "colab": {}
      },
      "source": [
        "# Author : Karthikeyan V\n",
        "# Stack Overflow Case Study\n",
        "# import the Python Libraries\n",
        "import pandas as pd\n",
        "import numpy as py\n",
        "import matplotlib.pyplot as plt"
      ],
      "execution_count": 0,
      "outputs": []
    },
    {
      "cell_type": "markdown",
      "metadata": {
        "id": "NzU3j7aFT9rn",
        "colab_type": "text"
      },
      "source": [
        "**Data Collection**\n",
        "\n",
        "Get the data from public S3 Storage to perform EDA"
      ]
    },
    {
      "cell_type": "code",
      "metadata": {
        "id": "KFNxJzNMWRdG",
        "colab_type": "code",
        "colab": {}
      },
      "source": [
        "# read the Questions Dataset stored in AWS S3 public storage \n",
        "inpQues = pd.read_csv(\"https://stack-overflow-casestudy-datasets.s3.amazonaws.com/Questions.csv\", encoding=\"ISO-8859-1\")"
      ],
      "execution_count": 0,
      "outputs": []
    },
    {
      "cell_type": "code",
      "metadata": {
        "id": "YGw1cfaHUMbr",
        "colab_type": "code",
        "colab": {}
      },
      "source": [
        "# read the Question Tags Dataset stored in AWS S3 public storage\n",
        "inpQuesTags = pd.read_csv(\"https://stack-overflow-casestudy-datasets.s3.amazonaws.com/Tags.csv\", encoding=\"ISO-8859-1\")"
      ],
      "execution_count": 0,
      "outputs": []
    },
    {
      "cell_type": "code",
      "metadata": {
        "id": "CTm51J2GWSTW",
        "colab_type": "code",
        "colab": {}
      },
      "source": [
        "# read the Answers Dataset stored in AWS S3 public storage \n",
        "inpAns = pd.read_csv(\"https://stack-overflow-casestudy-datasets.s3.amazonaws.com/Answers.csv\", encoding=\"ISO-8859-1\")"
      ],
      "execution_count": 0,
      "outputs": []
    },
    {
      "cell_type": "code",
      "metadata": {
        "id": "37yERXSWYYmg",
        "colab_type": "code",
        "colab": {}
      },
      "source": [
        "# read the Users Dataset stored in AWS S3 public storage \n",
        "inpUsers = pd.read_csv(\"https://stack-overflow-casestudy-datasets.s3.amazonaws.com/Users.csv\", encoding=\"ISO-8859-1\")"
      ],
      "execution_count": 0,
      "outputs": []
    },
    {
      "cell_type": "code",
      "metadata": {
        "id": "Ws6c443C-j7J",
        "colab_type": "code",
        "outputId": "6be5197a-5fa9-4d44-b99f-8ab32f58d999",
        "colab": {
          "base_uri": "https://localhost:8080/",
          "height": 195
        }
      },
      "source": [
        "inpQues.head(5)"
      ],
      "execution_count": 0,
      "outputs": [
        {
          "output_type": "execute_result",
          "data": {
            "text/html": [
              "<div>\n",
              "<style scoped>\n",
              "    .dataframe tbody tr th:only-of-type {\n",
              "        vertical-align: middle;\n",
              "    }\n",
              "\n",
              "    .dataframe tbody tr th {\n",
              "        vertical-align: top;\n",
              "    }\n",
              "\n",
              "    .dataframe thead th {\n",
              "        text-align: right;\n",
              "    }\n",
              "</style>\n",
              "<table border=\"1\" class=\"dataframe\">\n",
              "  <thead>\n",
              "    <tr style=\"text-align: right;\">\n",
              "      <th></th>\n",
              "      <th>Id</th>\n",
              "      <th>OwnerUserId</th>\n",
              "      <th>CreationDate</th>\n",
              "      <th>ClosedDate</th>\n",
              "      <th>Score</th>\n",
              "      <th>Title</th>\n",
              "      <th>Body</th>\n",
              "    </tr>\n",
              "  </thead>\n",
              "  <tbody>\n",
              "    <tr>\n",
              "      <th>0</th>\n",
              "      <td>80</td>\n",
              "      <td>26.0</td>\n",
              "      <td>2008-08-01T13:57:07Z</td>\n",
              "      <td>NaN</td>\n",
              "      <td>26</td>\n",
              "      <td>SQLStatement.execute() - multiple queries in o...</td>\n",
              "      <td>&lt;p&gt;I've written a database generation script i...</td>\n",
              "    </tr>\n",
              "    <tr>\n",
              "      <th>1</th>\n",
              "      <td>90</td>\n",
              "      <td>58.0</td>\n",
              "      <td>2008-08-01T14:41:24Z</td>\n",
              "      <td>2012-12-26T03:45:49Z</td>\n",
              "      <td>144</td>\n",
              "      <td>Good branching and merging tutorials for Torto...</td>\n",
              "      <td>&lt;p&gt;Are there any really good tutorials explain...</td>\n",
              "    </tr>\n",
              "    <tr>\n",
              "      <th>2</th>\n",
              "      <td>120</td>\n",
              "      <td>83.0</td>\n",
              "      <td>2008-08-01T15:50:08Z</td>\n",
              "      <td>NaN</td>\n",
              "      <td>21</td>\n",
              "      <td>ASP.NET Site Maps</td>\n",
              "      <td>&lt;p&gt;Has anyone got experience creating &lt;strong&gt;...</td>\n",
              "    </tr>\n",
              "    <tr>\n",
              "      <th>3</th>\n",
              "      <td>180</td>\n",
              "      <td>2089740.0</td>\n",
              "      <td>2008-08-01T18:42:19Z</td>\n",
              "      <td>NaN</td>\n",
              "      <td>53</td>\n",
              "      <td>Function for creating color wheels</td>\n",
              "      <td>&lt;p&gt;This is something I've pseudo-solved many t...</td>\n",
              "    </tr>\n",
              "    <tr>\n",
              "      <th>4</th>\n",
              "      <td>260</td>\n",
              "      <td>91.0</td>\n",
              "      <td>2008-08-01T23:22:08Z</td>\n",
              "      <td>NaN</td>\n",
              "      <td>49</td>\n",
              "      <td>Adding scripting functionality to .NET applica...</td>\n",
              "      <td>&lt;p&gt;I have a little game written in C#. It uses...</td>\n",
              "    </tr>\n",
              "  </tbody>\n",
              "</table>\n",
              "</div>"
            ],
            "text/plain": [
              "    Id  ...                                               Body\n",
              "0   80  ...  <p>I've written a database generation script i...\n",
              "1   90  ...  <p>Are there any really good tutorials explain...\n",
              "2  120  ...  <p>Has anyone got experience creating <strong>...\n",
              "3  180  ...  <p>This is something I've pseudo-solved many t...\n",
              "4  260  ...  <p>I have a little game written in C#. It uses...\n",
              "\n",
              "[5 rows x 7 columns]"
            ]
          },
          "metadata": {
            "tags": []
          },
          "execution_count": 6
        }
      ]
    },
    {
      "cell_type": "code",
      "metadata": {
        "id": "qGKgbjU8-pZh",
        "colab_type": "code",
        "outputId": "649381e1-c8cf-4a03-c2cd-c33e0ad1526c",
        "colab": {
          "base_uri": "https://localhost:8080/",
          "height": 218
        }
      },
      "source": [
        "inpQues.info()"
      ],
      "execution_count": 0,
      "outputs": [
        {
          "output_type": "stream",
          "text": [
            "<class 'pandas.core.frame.DataFrame'>\n",
            "RangeIndex: 1264216 entries, 0 to 1264215\n",
            "Data columns (total 7 columns):\n",
            "Id              1264216 non-null int64\n",
            "OwnerUserId     1249762 non-null float64\n",
            "CreationDate    1264216 non-null object\n",
            "ClosedDate      55959 non-null object\n",
            "Score           1264216 non-null int64\n",
            "Title           1264216 non-null object\n",
            "Body            1264216 non-null object\n",
            "dtypes: float64(1), int64(2), object(4)\n",
            "memory usage: 67.5+ MB\n"
          ],
          "name": "stdout"
        }
      ]
    },
    {
      "cell_type": "code",
      "metadata": {
        "id": "myLZdToMUFnO",
        "colab_type": "code",
        "outputId": "6f3738d0-b8f6-445f-dca0-aea05ef60be4",
        "colab": {
          "base_uri": "https://localhost:8080/",
          "height": 402
        }
      },
      "source": [
        "inpQuesTags.head(100)"
      ],
      "execution_count": 0,
      "outputs": [
        {
          "output_type": "execute_result",
          "data": {
            "text/html": [
              "<div>\n",
              "<style scoped>\n",
              "    .dataframe tbody tr th:only-of-type {\n",
              "        vertical-align: middle;\n",
              "    }\n",
              "\n",
              "    .dataframe tbody tr th {\n",
              "        vertical-align: top;\n",
              "    }\n",
              "\n",
              "    .dataframe thead th {\n",
              "        text-align: right;\n",
              "    }\n",
              "</style>\n",
              "<table border=\"1\" class=\"dataframe\">\n",
              "  <thead>\n",
              "    <tr style=\"text-align: right;\">\n",
              "      <th></th>\n",
              "      <th>Id</th>\n",
              "      <th>Tag</th>\n",
              "    </tr>\n",
              "  </thead>\n",
              "  <tbody>\n",
              "    <tr>\n",
              "      <th>0</th>\n",
              "      <td>80</td>\n",
              "      <td>flex</td>\n",
              "    </tr>\n",
              "    <tr>\n",
              "      <th>1</th>\n",
              "      <td>80</td>\n",
              "      <td>actionscript-3</td>\n",
              "    </tr>\n",
              "    <tr>\n",
              "      <th>2</th>\n",
              "      <td>80</td>\n",
              "      <td>air</td>\n",
              "    </tr>\n",
              "    <tr>\n",
              "      <th>3</th>\n",
              "      <td>90</td>\n",
              "      <td>svn</td>\n",
              "    </tr>\n",
              "    <tr>\n",
              "      <th>4</th>\n",
              "      <td>90</td>\n",
              "      <td>tortoisesvn</td>\n",
              "    </tr>\n",
              "    <tr>\n",
              "      <th>...</th>\n",
              "      <td>...</td>\n",
              "      <td>...</td>\n",
              "    </tr>\n",
              "    <tr>\n",
              "      <th>95</th>\n",
              "      <td>2770</td>\n",
              "      <td>error-handling</td>\n",
              "    </tr>\n",
              "    <tr>\n",
              "      <th>96</th>\n",
              "      <td>2770</td>\n",
              "      <td>user-controls</td>\n",
              "    </tr>\n",
              "    <tr>\n",
              "      <th>97</th>\n",
              "      <td>2780</td>\n",
              "      <td>c#</td>\n",
              "    </tr>\n",
              "    <tr>\n",
              "      <th>98</th>\n",
              "      <td>2780</td>\n",
              "      <td>colors</td>\n",
              "    </tr>\n",
              "    <tr>\n",
              "      <th>99</th>\n",
              "      <td>2840</td>\n",
              "      <td>sql</td>\n",
              "    </tr>\n",
              "  </tbody>\n",
              "</table>\n",
              "<p>100 rows × 2 columns</p>\n",
              "</div>"
            ],
            "text/plain": [
              "      Id             Tag\n",
              "0     80            flex\n",
              "1     80  actionscript-3\n",
              "2     80             air\n",
              "3     90             svn\n",
              "4     90     tortoisesvn\n",
              "..   ...             ...\n",
              "95  2770  error-handling\n",
              "96  2770   user-controls\n",
              "97  2780              c#\n",
              "98  2780          colors\n",
              "99  2840             sql\n",
              "\n",
              "[100 rows x 2 columns]"
            ]
          },
          "metadata": {
            "tags": []
          },
          "execution_count": 8
        }
      ]
    },
    {
      "cell_type": "code",
      "metadata": {
        "id": "_uUMYbWPh61n",
        "colab_type": "code",
        "outputId": "b484aa09-8459-4312-9c32-fa00bdf802c1",
        "colab": {
          "base_uri": "https://localhost:8080/",
          "height": 284
        }
      },
      "source": [
        "inpQues.describe()"
      ],
      "execution_count": 0,
      "outputs": [
        {
          "output_type": "execute_result",
          "data": {
            "text/html": [
              "<div>\n",
              "<style scoped>\n",
              "    .dataframe tbody tr th:only-of-type {\n",
              "        vertical-align: middle;\n",
              "    }\n",
              "\n",
              "    .dataframe tbody tr th {\n",
              "        vertical-align: top;\n",
              "    }\n",
              "\n",
              "    .dataframe thead th {\n",
              "        text-align: right;\n",
              "    }\n",
              "</style>\n",
              "<table border=\"1\" class=\"dataframe\">\n",
              "  <thead>\n",
              "    <tr style=\"text-align: right;\">\n",
              "      <th></th>\n",
              "      <th>Id</th>\n",
              "      <th>OwnerUserId</th>\n",
              "      <th>Score</th>\n",
              "    </tr>\n",
              "  </thead>\n",
              "  <tbody>\n",
              "    <tr>\n",
              "      <th>count</th>\n",
              "      <td>1.264216e+06</td>\n",
              "      <td>1.249762e+06</td>\n",
              "      <td>1.264216e+06</td>\n",
              "    </tr>\n",
              "    <tr>\n",
              "      <th>mean</th>\n",
              "      <td>2.132745e+07</td>\n",
              "      <td>2.155177e+06</td>\n",
              "      <td>1.781537e+00</td>\n",
              "    </tr>\n",
              "    <tr>\n",
              "      <th>std</th>\n",
              "      <td>1.151445e+07</td>\n",
              "      <td>1.801265e+06</td>\n",
              "      <td>1.366389e+01</td>\n",
              "    </tr>\n",
              "    <tr>\n",
              "      <th>min</th>\n",
              "      <td>8.000000e+01</td>\n",
              "      <td>1.000000e+00</td>\n",
              "      <td>-7.300000e+01</td>\n",
              "    </tr>\n",
              "    <tr>\n",
              "      <th>25%</th>\n",
              "      <td>1.142598e+07</td>\n",
              "      <td>6.589110e+05</td>\n",
              "      <td>0.000000e+00</td>\n",
              "    </tr>\n",
              "    <tr>\n",
              "      <th>50%</th>\n",
              "      <td>2.172542e+07</td>\n",
              "      <td>1.611830e+06</td>\n",
              "      <td>0.000000e+00</td>\n",
              "    </tr>\n",
              "    <tr>\n",
              "      <th>75%</th>\n",
              "      <td>3.154542e+07</td>\n",
              "      <td>3.353792e+06</td>\n",
              "      <td>1.000000e+00</td>\n",
              "    </tr>\n",
              "    <tr>\n",
              "      <th>max</th>\n",
              "      <td>4.014338e+07</td>\n",
              "      <td>7.046594e+06</td>\n",
              "      <td>5.190000e+03</td>\n",
              "    </tr>\n",
              "  </tbody>\n",
              "</table>\n",
              "</div>"
            ],
            "text/plain": [
              "                 Id   OwnerUserId         Score\n",
              "count  1.264216e+06  1.249762e+06  1.264216e+06\n",
              "mean   2.132745e+07  2.155177e+06  1.781537e+00\n",
              "std    1.151445e+07  1.801265e+06  1.366389e+01\n",
              "min    8.000000e+01  1.000000e+00 -7.300000e+01\n",
              "25%    1.142598e+07  6.589110e+05  0.000000e+00\n",
              "50%    2.172542e+07  1.611830e+06  0.000000e+00\n",
              "75%    3.154542e+07  3.353792e+06  1.000000e+00\n",
              "max    4.014338e+07  7.046594e+06  5.190000e+03"
            ]
          },
          "metadata": {
            "tags": []
          },
          "execution_count": 9
        }
      ]
    },
    {
      "cell_type": "code",
      "metadata": {
        "id": "c6pUaNHqV_WG",
        "colab_type": "code",
        "outputId": "0e4f645d-3aca-4ef0-d23b-b0aea452f687",
        "colab": {
          "base_uri": "https://localhost:8080/",
          "height": 787
        }
      },
      "source": [
        "inpAns.head(25)"
      ],
      "execution_count": 0,
      "outputs": [
        {
          "output_type": "execute_result",
          "data": {
            "text/html": [
              "<div>\n",
              "<style scoped>\n",
              "    .dataframe tbody tr th:only-of-type {\n",
              "        vertical-align: middle;\n",
              "    }\n",
              "\n",
              "    .dataframe tbody tr th {\n",
              "        vertical-align: top;\n",
              "    }\n",
              "\n",
              "    .dataframe thead th {\n",
              "        text-align: right;\n",
              "    }\n",
              "</style>\n",
              "<table border=\"1\" class=\"dataframe\">\n",
              "  <thead>\n",
              "    <tr style=\"text-align: right;\">\n",
              "      <th></th>\n",
              "      <th>Id</th>\n",
              "      <th>OwnerUserId</th>\n",
              "      <th>CreationDate</th>\n",
              "      <th>ParentId</th>\n",
              "      <th>Score</th>\n",
              "      <th>Body</th>\n",
              "    </tr>\n",
              "  </thead>\n",
              "  <tbody>\n",
              "    <tr>\n",
              "      <th>0</th>\n",
              "      <td>92</td>\n",
              "      <td>61.0</td>\n",
              "      <td>2008-08-01T14:45:37Z</td>\n",
              "      <td>90</td>\n",
              "      <td>13</td>\n",
              "      <td>&lt;p&gt;&lt;a href=\"http://svnbook.red-bean.com/\"&gt;Vers...</td>\n",
              "    </tr>\n",
              "    <tr>\n",
              "      <th>1</th>\n",
              "      <td>124</td>\n",
              "      <td>26.0</td>\n",
              "      <td>2008-08-01T16:09:47Z</td>\n",
              "      <td>80</td>\n",
              "      <td>12</td>\n",
              "      <td>&lt;p&gt;I wound up using this. It is a kind of a ha...</td>\n",
              "    </tr>\n",
              "    <tr>\n",
              "      <th>2</th>\n",
              "      <td>199</td>\n",
              "      <td>50.0</td>\n",
              "      <td>2008-08-01T19:36:46Z</td>\n",
              "      <td>180</td>\n",
              "      <td>1</td>\n",
              "      <td>&lt;p&gt;I've read somewhere the human eye can't dis...</td>\n",
              "    </tr>\n",
              "    <tr>\n",
              "      <th>3</th>\n",
              "      <td>269</td>\n",
              "      <td>91.0</td>\n",
              "      <td>2008-08-01T23:49:57Z</td>\n",
              "      <td>260</td>\n",
              "      <td>4</td>\n",
              "      <td>&lt;p&gt;Yes, I thought about that, but I soon figur...</td>\n",
              "    </tr>\n",
              "    <tr>\n",
              "      <th>4</th>\n",
              "      <td>307</td>\n",
              "      <td>49.0</td>\n",
              "      <td>2008-08-02T01:49:46Z</td>\n",
              "      <td>260</td>\n",
              "      <td>28</td>\n",
              "      <td>&lt;p&gt;&lt;a href=\"http://www.codeproject.com/Article...</td>\n",
              "    </tr>\n",
              "    <tr>\n",
              "      <th>5</th>\n",
              "      <td>332</td>\n",
              "      <td>59.0</td>\n",
              "      <td>2008-08-02T03:00:24Z</td>\n",
              "      <td>330</td>\n",
              "      <td>19</td>\n",
              "      <td>&lt;p&gt;I would be a bit reluctant to use nested cl...</td>\n",
              "    </tr>\n",
              "    <tr>\n",
              "      <th>6</th>\n",
              "      <td>344</td>\n",
              "      <td>100.0</td>\n",
              "      <td>2008-08-02T04:18:15Z</td>\n",
              "      <td>260</td>\n",
              "      <td>6</td>\n",
              "      <td>&lt;p&gt;You might be able to use IronRuby for that....</td>\n",
              "    </tr>\n",
              "    <tr>\n",
              "      <th>7</th>\n",
              "      <td>359</td>\n",
              "      <td>119.0</td>\n",
              "      <td>2008-08-02T06:16:23Z</td>\n",
              "      <td>260</td>\n",
              "      <td>5</td>\n",
              "      <td>&lt;P&gt;You could use any of the DLR languages, whi...</td>\n",
              "    </tr>\n",
              "    <tr>\n",
              "      <th>8</th>\n",
              "      <td>473</td>\n",
              "      <td>49.0</td>\n",
              "      <td>2008-08-02T15:33:13Z</td>\n",
              "      <td>470</td>\n",
              "      <td>8</td>\n",
              "      <td>&lt;p&gt;No, what you're doing is fine. Don't let th...</td>\n",
              "    </tr>\n",
              "    <tr>\n",
              "      <th>9</th>\n",
              "      <td>529</td>\n",
              "      <td>86.0</td>\n",
              "      <td>2008-08-02T18:16:07Z</td>\n",
              "      <td>180</td>\n",
              "      <td>3</td>\n",
              "      <td>&lt;p&gt;Isn't it also a factor which order you set ...</td>\n",
              "    </tr>\n",
              "    <tr>\n",
              "      <th>10</th>\n",
              "      <td>539</td>\n",
              "      <td>157.0</td>\n",
              "      <td>2008-08-02T19:03:52Z</td>\n",
              "      <td>180</td>\n",
              "      <td>21</td>\n",
              "      <td>&lt;p&gt;My first thought on this is \"how generate N...</td>\n",
              "    </tr>\n",
              "    <tr>\n",
              "      <th>11</th>\n",
              "      <td>585</td>\n",
              "      <td>149.0</td>\n",
              "      <td>2008-08-02T23:40:04Z</td>\n",
              "      <td>580</td>\n",
              "      <td>13</td>\n",
              "      <td>&lt;p&gt;For my projects I alternate between SQL Com...</td>\n",
              "    </tr>\n",
              "    <tr>\n",
              "      <th>12</th>\n",
              "      <td>586</td>\n",
              "      <td>34.0</td>\n",
              "      <td>2008-08-02T23:51:09Z</td>\n",
              "      <td>580</td>\n",
              "      <td>17</td>\n",
              "      <td>&lt;p&gt;I've taken to hand-coding all of my DDL (cr...</td>\n",
              "    </tr>\n",
              "    <tr>\n",
              "      <th>13</th>\n",
              "      <td>590</td>\n",
              "      <td>116.0</td>\n",
              "      <td>2008-08-03T00:22:03Z</td>\n",
              "      <td>580</td>\n",
              "      <td>2</td>\n",
              "      <td>&lt;p&gt;If you have a company buying it, Toad from ...</td>\n",
              "    </tr>\n",
              "    <tr>\n",
              "      <th>14</th>\n",
              "      <td>591</td>\n",
              "      <td>111.0</td>\n",
              "      <td>2008-08-03T00:37:03Z</td>\n",
              "      <td>580</td>\n",
              "      <td>3</td>\n",
              "      <td>&lt;p&gt;I work the same way Karl does, by keeping a...</td>\n",
              "    </tr>\n",
              "    <tr>\n",
              "      <th>15</th>\n",
              "      <td>597</td>\n",
              "      <td>76.0</td>\n",
              "      <td>2008-08-03T01:38:02Z</td>\n",
              "      <td>580</td>\n",
              "      <td>1</td>\n",
              "      <td>&lt;p&gt;I agree that scripting everything is the be...</td>\n",
              "    </tr>\n",
              "    <tr>\n",
              "      <th>16</th>\n",
              "      <td>655</td>\n",
              "      <td>91.0</td>\n",
              "      <td>2008-08-03T11:41:38Z</td>\n",
              "      <td>650</td>\n",
              "      <td>69</td>\n",
              "      <td>&lt;p&gt;With the \"Built in\" stuff, you can't, as us...</td>\n",
              "    </tr>\n",
              "    <tr>\n",
              "      <th>17</th>\n",
              "      <td>787</td>\n",
              "      <td>175.0</td>\n",
              "      <td>2008-08-03T18:46:33Z</td>\n",
              "      <td>650</td>\n",
              "      <td>4</td>\n",
              "      <td>&lt;p&gt;What source control system are you using? &lt;...</td>\n",
              "    </tr>\n",
              "    <tr>\n",
              "      <th>18</th>\n",
              "      <td>818</td>\n",
              "      <td>233.0</td>\n",
              "      <td>2008-08-03T20:45:27Z</td>\n",
              "      <td>810</td>\n",
              "      <td>0</td>\n",
              "      <td>&lt;p&gt;I'm partway to my solution with this entry ...</td>\n",
              "    </tr>\n",
              "    <tr>\n",
              "      <th>19</th>\n",
              "      <td>820</td>\n",
              "      <td>91.0</td>\n",
              "      <td>2008-08-03T20:48:47Z</td>\n",
              "      <td>810</td>\n",
              "      <td>3</td>\n",
              "      <td>&lt;p&gt;First: Yes, this is something that belongs ...</td>\n",
              "    </tr>\n",
              "    <tr>\n",
              "      <th>20</th>\n",
              "      <td>829</td>\n",
              "      <td>234.0</td>\n",
              "      <td>2008-08-03T21:17:33Z</td>\n",
              "      <td>810</td>\n",
              "      <td>4</td>\n",
              "      <td>&lt;p&gt;I'm guessing that because you want to set i...</td>\n",
              "    </tr>\n",
              "    <tr>\n",
              "      <th>21</th>\n",
              "      <td>870</td>\n",
              "      <td>233.0</td>\n",
              "      <td>2008-08-03T22:34:06Z</td>\n",
              "      <td>810</td>\n",
              "      <td>0</td>\n",
              "      <td>&lt;p&gt;Despite what the &lt;a href=\"http://msdn.micro...</td>\n",
              "    </tr>\n",
              "    <tr>\n",
              "      <th>22</th>\n",
              "      <td>940</td>\n",
              "      <td>243.0</td>\n",
              "      <td>2008-08-04T01:07:14Z</td>\n",
              "      <td>930</td>\n",
              "      <td>15</td>\n",
              "      <td>&lt;p&gt;Very roughly and from memory since I don't ...</td>\n",
              "    </tr>\n",
              "    <tr>\n",
              "      <th>23</th>\n",
              "      <td>951</td>\n",
              "      <td>49.0</td>\n",
              "      <td>2008-08-04T01:31:31Z</td>\n",
              "      <td>930</td>\n",
              "      <td>26</td>\n",
              "      <td>&lt;p&gt;@Goyuix -- that's excellent for something w...</td>\n",
              "    </tr>\n",
              "    <tr>\n",
              "      <th>24</th>\n",
              "      <td>1022</td>\n",
              "      <td>93.0</td>\n",
              "      <td>2008-08-04T04:45:05Z</td>\n",
              "      <td>930</td>\n",
              "      <td>9</td>\n",
              "      <td>&lt;p&gt;That's definitely a good way to do it.  But...</td>\n",
              "    </tr>\n",
              "  </tbody>\n",
              "</table>\n",
              "</div>"
            ],
            "text/plain": [
              "      Id  OwnerUserId  ... Score                                               Body\n",
              "0     92         61.0  ...    13  <p><a href=\"http://svnbook.red-bean.com/\">Vers...\n",
              "1    124         26.0  ...    12  <p>I wound up using this. It is a kind of a ha...\n",
              "2    199         50.0  ...     1  <p>I've read somewhere the human eye can't dis...\n",
              "3    269         91.0  ...     4  <p>Yes, I thought about that, but I soon figur...\n",
              "4    307         49.0  ...    28  <p><a href=\"http://www.codeproject.com/Article...\n",
              "5    332         59.0  ...    19  <p>I would be a bit reluctant to use nested cl...\n",
              "6    344        100.0  ...     6  <p>You might be able to use IronRuby for that....\n",
              "7    359        119.0  ...     5  <P>You could use any of the DLR languages, whi...\n",
              "8    473         49.0  ...     8  <p>No, what you're doing is fine. Don't let th...\n",
              "9    529         86.0  ...     3  <p>Isn't it also a factor which order you set ...\n",
              "10   539        157.0  ...    21  <p>My first thought on this is \"how generate N...\n",
              "11   585        149.0  ...    13  <p>For my projects I alternate between SQL Com...\n",
              "12   586         34.0  ...    17  <p>I've taken to hand-coding all of my DDL (cr...\n",
              "13   590        116.0  ...     2  <p>If you have a company buying it, Toad from ...\n",
              "14   591        111.0  ...     3  <p>I work the same way Karl does, by keeping a...\n",
              "15   597         76.0  ...     1  <p>I agree that scripting everything is the be...\n",
              "16   655         91.0  ...    69  <p>With the \"Built in\" stuff, you can't, as us...\n",
              "17   787        175.0  ...     4  <p>What source control system are you using? <...\n",
              "18   818        233.0  ...     0  <p>I'm partway to my solution with this entry ...\n",
              "19   820         91.0  ...     3  <p>First: Yes, this is something that belongs ...\n",
              "20   829        234.0  ...     4  <p>I'm guessing that because you want to set i...\n",
              "21   870        233.0  ...     0  <p>Despite what the <a href=\"http://msdn.micro...\n",
              "22   940        243.0  ...    15  <p>Very roughly and from memory since I don't ...\n",
              "23   951         49.0  ...    26  <p>@Goyuix -- that's excellent for something w...\n",
              "24  1022         93.0  ...     9  <p>That's definitely a good way to do it.  But...\n",
              "\n",
              "[25 rows x 6 columns]"
            ]
          },
          "metadata": {
            "tags": []
          },
          "execution_count": 10
        }
      ]
    },
    {
      "cell_type": "code",
      "metadata": {
        "id": "T4dU1GIsBkj8",
        "colab_type": "code",
        "outputId": "db18a2df-d183-47ea-d2c7-a7bf2a76fd90",
        "colab": {
          "base_uri": "https://localhost:8080/",
          "height": 151
        }
      },
      "source": [
        "#Data Handling and Cleaning\n",
        "inpQues.isnull().sum()"
      ],
      "execution_count": 0,
      "outputs": [
        {
          "output_type": "execute_result",
          "data": {
            "text/plain": [
              "Id                    0\n",
              "OwnerUserId       14454\n",
              "CreationDate          0\n",
              "ClosedDate      1208257\n",
              "Score                 0\n",
              "Title                 0\n",
              "Body                  0\n",
              "dtype: int64"
            ]
          },
          "metadata": {
            "tags": []
          },
          "execution_count": 11
        }
      ]
    },
    {
      "cell_type": "code",
      "metadata": {
        "id": "IBW8D3z9VvPE",
        "colab_type": "code",
        "outputId": "481fd501-a681-497b-8cfd-0c5781a69b56",
        "colab": {
          "base_uri": "https://localhost:8080/",
          "height": 195
        }
      },
      "source": [
        "inpUsers.tail(5)"
      ],
      "execution_count": 0,
      "outputs": [
        {
          "output_type": "execute_result",
          "data": {
            "text/html": [
              "<div>\n",
              "<style scoped>\n",
              "    .dataframe tbody tr th:only-of-type {\n",
              "        vertical-align: middle;\n",
              "    }\n",
              "\n",
              "    .dataframe tbody tr th {\n",
              "        vertical-align: top;\n",
              "    }\n",
              "\n",
              "    .dataframe thead th {\n",
              "        text-align: right;\n",
              "    }\n",
              "</style>\n",
              "<table border=\"1\" class=\"dataframe\">\n",
              "  <thead>\n",
              "    <tr style=\"text-align: right;\">\n",
              "      <th></th>\n",
              "      <th>Unnamed: 0</th>\n",
              "      <th>id</th>\n",
              "      <th>display_name</th>\n",
              "      <th>creation_date</th>\n",
              "      <th>last_access_date</th>\n",
              "      <th>reputation</th>\n",
              "      <th>up_votes</th>\n",
              "      <th>down_votes</th>\n",
              "      <th>views</th>\n",
              "    </tr>\n",
              "  </thead>\n",
              "  <tbody>\n",
              "    <tr>\n",
              "      <th>1990475</th>\n",
              "      <td>1990475</td>\n",
              "      <td>4228492</td>\n",
              "      <td>Michael Spranger</td>\n",
              "      <td>2014-11-07 20:21:14.283 UTC</td>\n",
              "      <td>2019-08-28 18:01:29.56 UTC</td>\n",
              "      <td>415</td>\n",
              "      <td>112</td>\n",
              "      <td>2</td>\n",
              "      <td>17</td>\n",
              "    </tr>\n",
              "    <tr>\n",
              "      <th>1990476</th>\n",
              "      <td>1990476</td>\n",
              "      <td>6820506</td>\n",
              "      <td>Manuela</td>\n",
              "      <td>2016-09-12 00:19:17.83 UTC</td>\n",
              "      <td>2018-07-20 01:28:24.853 UTC</td>\n",
              "      <td>21</td>\n",
              "      <td>38</td>\n",
              "      <td>0</td>\n",
              "      <td>50</td>\n",
              "    </tr>\n",
              "    <tr>\n",
              "      <th>1990477</th>\n",
              "      <td>1990477</td>\n",
              "      <td>4464432</td>\n",
              "      <td>YTorii</td>\n",
              "      <td>2015-01-17 10:48:17.523 UTC</td>\n",
              "      <td>2019-08-31 13:51:47.413 UTC</td>\n",
              "      <td>336</td>\n",
              "      <td>67</td>\n",
              "      <td>1</td>\n",
              "      <td>13</td>\n",
              "    </tr>\n",
              "    <tr>\n",
              "      <th>1990478</th>\n",
              "      <td>1990478</td>\n",
              "      <td>4605946</td>\n",
              "      <td>space_voyager</td>\n",
              "      <td>2015-02-25 13:43:24.63 UTC</td>\n",
              "      <td>2019-07-13 23:55:47.607 UTC</td>\n",
              "      <td>884</td>\n",
              "      <td>53</td>\n",
              "      <td>1</td>\n",
              "      <td>191</td>\n",
              "    </tr>\n",
              "    <tr>\n",
              "      <th>1990479</th>\n",
              "      <td>1990479</td>\n",
              "      <td>6107989</td>\n",
              "      <td>Nicky HFE</td>\n",
              "      <td>2016-03-24 06:25:14.09 UTC</td>\n",
              "      <td>2019-08-21 13:40:34.197 UTC</td>\n",
              "      <td>108</td>\n",
              "      <td>0</td>\n",
              "      <td>0</td>\n",
              "      <td>30</td>\n",
              "    </tr>\n",
              "  </tbody>\n",
              "</table>\n",
              "</div>"
            ],
            "text/plain": [
              "         Unnamed: 0       id      display_name  ... up_votes down_votes  views\n",
              "1990475     1990475  4228492  Michael Spranger  ...      112          2     17\n",
              "1990476     1990476  6820506           Manuela  ...       38          0     50\n",
              "1990477     1990477  4464432            YTorii  ...       67          1     13\n",
              "1990478     1990478  4605946     space_voyager  ...       53          1    191\n",
              "1990479     1990479  6107989         Nicky HFE  ...        0          0     30\n",
              "\n",
              "[5 rows x 9 columns]"
            ]
          },
          "metadata": {
            "tags": []
          },
          "execution_count": 12
        }
      ]
    },
    {
      "cell_type": "code",
      "metadata": {
        "id": "bvRoWPQzC-ui",
        "colab_type": "code",
        "outputId": "5ba905c1-73b8-4c35-82d4-875a957fa6d0",
        "colab": {
          "base_uri": "https://localhost:8080/",
          "height": 402
        }
      },
      "source": [
        "# Display the Question records whose  OwnerUserId is null\n",
        "inpQues[inpQues[\"OwnerUserId\"].isnull()]"
      ],
      "execution_count": 0,
      "outputs": [
        {
          "output_type": "execute_result",
          "data": {
            "text/html": [
              "<div>\n",
              "<style scoped>\n",
              "    .dataframe tbody tr th:only-of-type {\n",
              "        vertical-align: middle;\n",
              "    }\n",
              "\n",
              "    .dataframe tbody tr th {\n",
              "        vertical-align: top;\n",
              "    }\n",
              "\n",
              "    .dataframe thead th {\n",
              "        text-align: right;\n",
              "    }\n",
              "</style>\n",
              "<table border=\"1\" class=\"dataframe\">\n",
              "  <thead>\n",
              "    <tr style=\"text-align: right;\">\n",
              "      <th></th>\n",
              "      <th>Id</th>\n",
              "      <th>OwnerUserId</th>\n",
              "      <th>CreationDate</th>\n",
              "      <th>ClosedDate</th>\n",
              "      <th>Score</th>\n",
              "      <th>Title</th>\n",
              "      <th>Body</th>\n",
              "    </tr>\n",
              "  </thead>\n",
              "  <tbody>\n",
              "    <tr>\n",
              "      <th>47</th>\n",
              "      <td>4170</td>\n",
              "      <td>NaN</td>\n",
              "      <td>2008-08-07T00:25:03Z</td>\n",
              "      <td>NaN</td>\n",
              "      <td>9</td>\n",
              "      <td>How to learn ADO.NET</td>\n",
              "      <td>&lt;p&gt;I need to learn ADO.NET to build applicatio...</td>\n",
              "    </tr>\n",
              "    <tr>\n",
              "      <th>130</th>\n",
              "      <td>12330</td>\n",
              "      <td>NaN</td>\n",
              "      <td>2008-08-15T15:06:31Z</td>\n",
              "      <td>NaN</td>\n",
              "      <td>6</td>\n",
              "      <td>Programmatically list WMI classes and their pr...</td>\n",
              "      <td>&lt;p&gt;Hey everyone, \\nIs there any known way of l...</td>\n",
              "    </tr>\n",
              "    <tr>\n",
              "      <th>158</th>\n",
              "      <td>15190</td>\n",
              "      <td>NaN</td>\n",
              "      <td>2008-08-18T20:32:49Z</td>\n",
              "      <td>NaN</td>\n",
              "      <td>2</td>\n",
              "      <td>Changing CURRENT save/default directory in Del...</td>\n",
              "      <td>&lt;p&gt;I have a project group that contains a proj...</td>\n",
              "    </tr>\n",
              "    <tr>\n",
              "      <th>198</th>\n",
              "      <td>18250</td>\n",
              "      <td>NaN</td>\n",
              "      <td>2008-08-20T15:40:53Z</td>\n",
              "      <td>NaN</td>\n",
              "      <td>0</td>\n",
              "      <td>Creation Date of Compiled Executable (VC++ 2005)</td>\n",
              "      <td>&lt;p&gt;The creation date of an executable linked i...</td>\n",
              "    </tr>\n",
              "    <tr>\n",
              "      <th>300</th>\n",
              "      <td>29100</td>\n",
              "      <td>NaN</td>\n",
              "      <td>2008-08-26T22:28:22Z</td>\n",
              "      <td>NaN</td>\n",
              "      <td>5</td>\n",
              "      <td>How are you generating tests from specifications?</td>\n",
              "      <td>&lt;p&gt;I came across a printed &lt;a href=\"http://www...</td>\n",
              "    </tr>\n",
              "    <tr>\n",
              "      <th>...</th>\n",
              "      <td>...</td>\n",
              "      <td>...</td>\n",
              "      <td>...</td>\n",
              "      <td>...</td>\n",
              "      <td>...</td>\n",
              "      <td>...</td>\n",
              "      <td>...</td>\n",
              "    </tr>\n",
              "    <tr>\n",
              "      <th>1261359</th>\n",
              "      <td>40076260</td>\n",
              "      <td>NaN</td>\n",
              "      <td>2016-10-16T22:38:59Z</td>\n",
              "      <td>NaN</td>\n",
              "      <td>1</td>\n",
              "      <td>How can I find out if two lines overlap?</td>\n",
              "      <td>&lt;p&gt;My function takes two objects that represen...</td>\n",
              "    </tr>\n",
              "    <tr>\n",
              "      <th>1261501</th>\n",
              "      <td>40079260</td>\n",
              "      <td>NaN</td>\n",
              "      <td>2016-10-10T15:10:51Z</td>\n",
              "      <td>NaN</td>\n",
              "      <td>0</td>\n",
              "      <td>VB6.0 \"Run - time error '3709': The connection...</td>\n",
              "      <td>&lt;p&gt;&lt;a href=\"http://i.stack.imgur.com/M2EV8.png...</td>\n",
              "    </tr>\n",
              "    <tr>\n",
              "      <th>1263664</th>\n",
              "      <td>40130890</td>\n",
              "      <td>NaN</td>\n",
              "      <td>2016-10-19T12:02:24Z</td>\n",
              "      <td>2016-10-19T20:52:39Z</td>\n",
              "      <td>-4</td>\n",
              "      <td>How would i change my program so that the colo...</td>\n",
              "      <td>&lt;p&gt;&lt;div class=\"snippet\" data-lang=\"js\" data-hi...</td>\n",
              "    </tr>\n",
              "    <tr>\n",
              "      <th>1263908</th>\n",
              "      <td>40136590</td>\n",
              "      <td>NaN</td>\n",
              "      <td>2016-10-19T13:24:10Z</td>\n",
              "      <td>2016-10-19T16:37:57Z</td>\n",
              "      <td>0</td>\n",
              "      <td>Names of variables inside the 'for loop'</td>\n",
              "      <td>&lt;p&gt;In &lt;strong&gt;my_data&lt;/strong&gt; I want to creat...</td>\n",
              "    </tr>\n",
              "    <tr>\n",
              "      <th>1264010</th>\n",
              "      <td>40138620</td>\n",
              "      <td>NaN</td>\n",
              "      <td>2016-10-19T18:06:37Z</td>\n",
              "      <td>2016-10-19T20:46:58Z</td>\n",
              "      <td>0</td>\n",
              "      <td>Why on iMac bash doesn't see some files</td>\n",
              "      <td>&lt;p&gt;I have iMac and my bash on terminal has .ba...</td>\n",
              "    </tr>\n",
              "  </tbody>\n",
              "</table>\n",
              "<p>14454 rows × 7 columns</p>\n",
              "</div>"
            ],
            "text/plain": [
              "               Id  ...                                               Body\n",
              "47           4170  ...  <p>I need to learn ADO.NET to build applicatio...\n",
              "130         12330  ...  <p>Hey everyone, \\nIs there any known way of l...\n",
              "158         15190  ...  <p>I have a project group that contains a proj...\n",
              "198         18250  ...  <p>The creation date of an executable linked i...\n",
              "300         29100  ...  <p>I came across a printed <a href=\"http://www...\n",
              "...           ...  ...                                                ...\n",
              "1261359  40076260  ...  <p>My function takes two objects that represen...\n",
              "1261501  40079260  ...  <p><a href=\"http://i.stack.imgur.com/M2EV8.png...\n",
              "1263664  40130890  ...  <p><div class=\"snippet\" data-lang=\"js\" data-hi...\n",
              "1263908  40136590  ...  <p>In <strong>my_data</strong> I want to creat...\n",
              "1264010  40138620  ...  <p>I have iMac and my bash on terminal has .ba...\n",
              "\n",
              "[14454 rows x 7 columns]"
            ]
          },
          "metadata": {
            "tags": []
          },
          "execution_count": 13
        }
      ]
    },
    {
      "cell_type": "code",
      "metadata": {
        "id": "F3YUb9Bpc-jW",
        "colab_type": "code",
        "outputId": "1bbebe72-fb87-43b5-a38d-30f25052e241",
        "colab": {
          "base_uri": "https://localhost:8080/",
          "height": 218
        }
      },
      "source": [
        "inpQuesTags[\"Tag\"].value_counts()"
      ],
      "execution_count": 0,
      "outputs": [
        {
          "output_type": "execute_result",
          "data": {
            "text/plain": [
              "javascript                124155\n",
              "java                      115212\n",
              "c#                        101186\n",
              "php                        98808\n",
              "android                    90659\n",
              "                           ...  \n",
              "string-externalization         1\n",
              "tnsping                        1\n",
              "cross-process                  1\n",
              "unityvs                        1\n",
              "scales-xml                     1\n",
              "Name: Tag, Length: 37034, dtype: int64"
            ]
          },
          "metadata": {
            "tags": []
          },
          "execution_count": 14
        }
      ]
    },
    {
      "cell_type": "code",
      "metadata": {
        "id": "HPJtdoX126Y5",
        "colab_type": "code",
        "colab": {}
      },
      "source": [
        "inpQuesTags.sort_values(\"Tag\", axis = 0, ascending = True, inplace = True, na_position ='last')"
      ],
      "execution_count": 0,
      "outputs": []
    },
    {
      "cell_type": "code",
      "metadata": {
        "id": "04y4ysKX4LuK",
        "colab_type": "code",
        "outputId": "a430a3b6-bd22-4e48-b17b-11ee70a831cc",
        "colab": {
          "base_uri": "https://localhost:8080/",
          "height": 195
        }
      },
      "source": [
        "inpQuesTags.head(5)"
      ],
      "execution_count": 0,
      "outputs": [
        {
          "output_type": "execute_result",
          "data": {
            "text/html": [
              "<div>\n",
              "<style scoped>\n",
              "    .dataframe tbody tr th:only-of-type {\n",
              "        vertical-align: middle;\n",
              "    }\n",
              "\n",
              "    .dataframe tbody tr th {\n",
              "        vertical-align: top;\n",
              "    }\n",
              "\n",
              "    .dataframe thead th {\n",
              "        text-align: right;\n",
              "    }\n",
              "</style>\n",
              "<table border=\"1\" class=\"dataframe\">\n",
              "  <thead>\n",
              "    <tr style=\"text-align: right;\">\n",
              "      <th></th>\n",
              "      <th>Id</th>\n",
              "      <th>Tag</th>\n",
              "    </tr>\n",
              "  </thead>\n",
              "  <tbody>\n",
              "    <tr>\n",
              "      <th>152175</th>\n",
              "      <td>2488400</td>\n",
              "      <td>.a</td>\n",
              "    </tr>\n",
              "    <tr>\n",
              "      <th>454703</th>\n",
              "      <td>6211950</td>\n",
              "      <td>.a</td>\n",
              "    </tr>\n",
              "    <tr>\n",
              "      <th>2218583</th>\n",
              "      <td>25550490</td>\n",
              "      <td>.a</td>\n",
              "    </tr>\n",
              "    <tr>\n",
              "      <th>459374</th>\n",
              "      <td>6267900</td>\n",
              "      <td>.a</td>\n",
              "    </tr>\n",
              "    <tr>\n",
              "      <th>2091204</th>\n",
              "      <td>24225810</td>\n",
              "      <td>.a</td>\n",
              "    </tr>\n",
              "  </tbody>\n",
              "</table>\n",
              "</div>"
            ],
            "text/plain": [
              "               Id Tag\n",
              "152175    2488400  .a\n",
              "454703    6211950  .a\n",
              "2218583  25550490  .a\n",
              "459374    6267900  .a\n",
              "2091204  24225810  .a"
            ]
          },
          "metadata": {
            "tags": []
          },
          "execution_count": 16
        }
      ]
    },
    {
      "cell_type": "code",
      "metadata": {
        "id": "nnMjQLr0FfTs",
        "colab_type": "code",
        "colab": {}
      },
      "source": [
        "inpQuesTagsDataScience = inpQuesTags[(inpQuesTags.values  == \"r\")|(inpQuesTags.values  == \"matlab\")|(inpQuesTags.values  == \"excel\")|(inpQuesTags.values  == \"sql\")|(inpQuesTags.values  == \"sas\")|(inpQuesTags.values  == \"python\")]"
      ],
      "execution_count": 0,
      "outputs": []
    },
    {
      "cell_type": "code",
      "metadata": {
        "id": "--bkDnljkp2C",
        "colab_type": "code",
        "outputId": "d5e06a22-560c-43ca-feb7-704cda411693",
        "colab": {
          "base_uri": "https://localhost:8080/",
          "height": 134
        }
      },
      "source": [
        "inpQuesTagsDataScience.Tag.value_counts()"
      ],
      "execution_count": 0,
      "outputs": [
        {
          "output_type": "execute_result",
          "data": {
            "text/plain": [
              "python    64601\n",
              "sql       35782\n",
              "r         15701\n",
              "excel     10384\n",
              "matlab     6495\n",
              "sas         697\n",
              "Name: Tag, dtype: int64"
            ]
          },
          "metadata": {
            "tags": []
          },
          "execution_count": 18
        }
      ]
    },
    {
      "cell_type": "code",
      "metadata": {
        "id": "jQYp91SumOGU",
        "colab_type": "code",
        "outputId": "e4848979-b35a-4228-c87d-432e555631a6",
        "colab": {
          "base_uri": "https://localhost:8080/",
          "height": 252
        }
      },
      "source": [
        "inpQuesTagsDataScience.count"
      ],
      "execution_count": 0,
      "outputs": [
        {
          "output_type": "execute_result",
          "data": {
            "text/plain": [
              "<bound method DataFrame.count of                Id    Tag\n",
              "2597066  29468070  excel\n",
              "2287942  26277120  excel\n",
              "3089864  34278230  excel\n",
              "1682212  19870840  excel\n",
              "3747799  40117180  excel\n",
              "...           ...    ...\n",
              "749660    9576740    sql\n",
              "1488252  17746260    sql\n",
              "747018    9548120    sql\n",
              "3725911  39946070    sql\n",
              "4062       121700    sql\n",
              "\n",
              "[133660 rows x 2 columns]>"
            ]
          },
          "metadata": {
            "tags": []
          },
          "execution_count": 19
        }
      ]
    },
    {
      "cell_type": "code",
      "metadata": {
        "id": "BCTVgCF2mpJ4",
        "colab_type": "code",
        "outputId": "3cdc5f66-09cd-41d8-fad3-5b2fa9234995",
        "colab": {
          "base_uri": "https://localhost:8080/",
          "height": 491
        }
      },
      "source": [
        "inpQuesTagsDataScience.head(15)"
      ],
      "execution_count": 0,
      "outputs": [
        {
          "output_type": "execute_result",
          "data": {
            "text/html": [
              "<div>\n",
              "<style scoped>\n",
              "    .dataframe tbody tr th:only-of-type {\n",
              "        vertical-align: middle;\n",
              "    }\n",
              "\n",
              "    .dataframe tbody tr th {\n",
              "        vertical-align: top;\n",
              "    }\n",
              "\n",
              "    .dataframe thead th {\n",
              "        text-align: right;\n",
              "    }\n",
              "</style>\n",
              "<table border=\"1\" class=\"dataframe\">\n",
              "  <thead>\n",
              "    <tr style=\"text-align: right;\">\n",
              "      <th></th>\n",
              "      <th>Id</th>\n",
              "      <th>Tag</th>\n",
              "    </tr>\n",
              "  </thead>\n",
              "  <tbody>\n",
              "    <tr>\n",
              "      <th>2597066</th>\n",
              "      <td>29468070</td>\n",
              "      <td>excel</td>\n",
              "    </tr>\n",
              "    <tr>\n",
              "      <th>2287942</th>\n",
              "      <td>26277120</td>\n",
              "      <td>excel</td>\n",
              "    </tr>\n",
              "    <tr>\n",
              "      <th>3089864</th>\n",
              "      <td>34278230</td>\n",
              "      <td>excel</td>\n",
              "    </tr>\n",
              "    <tr>\n",
              "      <th>1682212</th>\n",
              "      <td>19870840</td>\n",
              "      <td>excel</td>\n",
              "    </tr>\n",
              "    <tr>\n",
              "      <th>3747799</th>\n",
              "      <td>40117180</td>\n",
              "      <td>excel</td>\n",
              "    </tr>\n",
              "    <tr>\n",
              "      <th>3747788</th>\n",
              "      <td>40117080</td>\n",
              "      <td>excel</td>\n",
              "    </tr>\n",
              "    <tr>\n",
              "      <th>1537848</th>\n",
              "      <td>18296520</td>\n",
              "      <td>excel</td>\n",
              "    </tr>\n",
              "    <tr>\n",
              "      <th>431517</th>\n",
              "      <td>5943620</td>\n",
              "      <td>excel</td>\n",
              "    </tr>\n",
              "    <tr>\n",
              "      <th>2183780</th>\n",
              "      <td>25187020</td>\n",
              "      <td>excel</td>\n",
              "    </tr>\n",
              "    <tr>\n",
              "      <th>204710</th>\n",
              "      <td>3168050</td>\n",
              "      <td>excel</td>\n",
              "    </tr>\n",
              "    <tr>\n",
              "      <th>3750573</th>\n",
              "      <td>40140120</td>\n",
              "      <td>excel</td>\n",
              "    </tr>\n",
              "    <tr>\n",
              "      <th>3205940</th>\n",
              "      <td>35341310</td>\n",
              "      <td>excel</td>\n",
              "    </tr>\n",
              "    <tr>\n",
              "      <th>540549</th>\n",
              "      <td>7200000</td>\n",
              "      <td>excel</td>\n",
              "    </tr>\n",
              "    <tr>\n",
              "      <th>3090013</th>\n",
              "      <td>34279690</td>\n",
              "      <td>excel</td>\n",
              "    </tr>\n",
              "    <tr>\n",
              "      <th>3222655</th>\n",
              "      <td>35494530</td>\n",
              "      <td>excel</td>\n",
              "    </tr>\n",
              "  </tbody>\n",
              "</table>\n",
              "</div>"
            ],
            "text/plain": [
              "               Id    Tag\n",
              "2597066  29468070  excel\n",
              "2287942  26277120  excel\n",
              "3089864  34278230  excel\n",
              "1682212  19870840  excel\n",
              "3747799  40117180  excel\n",
              "3747788  40117080  excel\n",
              "1537848  18296520  excel\n",
              "431517    5943620  excel\n",
              "2183780  25187020  excel\n",
              "204710    3168050  excel\n",
              "3750573  40140120  excel\n",
              "3205940  35341310  excel\n",
              "540549    7200000  excel\n",
              "3090013  34279690  excel\n",
              "3222655  35494530  excel"
            ]
          },
          "metadata": {
            "tags": []
          },
          "execution_count": 20
        }
      ]
    },
    {
      "cell_type": "code",
      "metadata": {
        "id": "UyEJtO9-nQLI",
        "colab_type": "code",
        "outputId": "6b0bb1cf-a1ec-4118-cc70-8073e255843b",
        "colab": {
          "base_uri": "https://localhost:8080/",
          "height": 47
        }
      },
      "source": [
        "inpQuesTagsDataScience[inpQuesTagsDataScience.Tag.isnull()]"
      ],
      "execution_count": 0,
      "outputs": [
        {
          "output_type": "execute_result",
          "data": {
            "text/html": [
              "<div>\n",
              "<style scoped>\n",
              "    .dataframe tbody tr th:only-of-type {\n",
              "        vertical-align: middle;\n",
              "    }\n",
              "\n",
              "    .dataframe tbody tr th {\n",
              "        vertical-align: top;\n",
              "    }\n",
              "\n",
              "    .dataframe thead th {\n",
              "        text-align: right;\n",
              "    }\n",
              "</style>\n",
              "<table border=\"1\" class=\"dataframe\">\n",
              "  <thead>\n",
              "    <tr style=\"text-align: right;\">\n",
              "      <th></th>\n",
              "      <th>Id</th>\n",
              "      <th>Tag</th>\n",
              "    </tr>\n",
              "  </thead>\n",
              "  <tbody>\n",
              "  </tbody>\n",
              "</table>\n",
              "</div>"
            ],
            "text/plain": [
              "Empty DataFrame\n",
              "Columns: [Id, Tag]\n",
              "Index: []"
            ]
          },
          "metadata": {
            "tags": []
          },
          "execution_count": 21
        }
      ]
    },
    {
      "cell_type": "code",
      "metadata": {
        "id": "PVg3CVHjn1LX",
        "colab_type": "code",
        "outputId": "b24ea5fd-86d5-4d27-8ee4-f2a4e8a6061b",
        "colab": {
          "base_uri": "https://localhost:8080/",
          "height": 491
        }
      },
      "source": [
        "inpQuesTagsDataScience.tail(15)"
      ],
      "execution_count": 0,
      "outputs": [
        {
          "output_type": "execute_result",
          "data": {
            "text/html": [
              "<div>\n",
              "<style scoped>\n",
              "    .dataframe tbody tr th:only-of-type {\n",
              "        vertical-align: middle;\n",
              "    }\n",
              "\n",
              "    .dataframe tbody tr th {\n",
              "        vertical-align: top;\n",
              "    }\n",
              "\n",
              "    .dataframe thead th {\n",
              "        text-align: right;\n",
              "    }\n",
              "</style>\n",
              "<table border=\"1\" class=\"dataframe\">\n",
              "  <thead>\n",
              "    <tr style=\"text-align: right;\">\n",
              "      <th></th>\n",
              "      <th>Id</th>\n",
              "      <th>Tag</th>\n",
              "    </tr>\n",
              "  </thead>\n",
              "  <tbody>\n",
              "    <tr>\n",
              "      <th>1773370</th>\n",
              "      <td>20873130</td>\n",
              "      <td>sql</td>\n",
              "    </tr>\n",
              "    <tr>\n",
              "      <th>2240776</th>\n",
              "      <td>25782310</td>\n",
              "      <td>sql</td>\n",
              "    </tr>\n",
              "    <tr>\n",
              "      <th>1791857</th>\n",
              "      <td>21072970</td>\n",
              "      <td>sql</td>\n",
              "    </tr>\n",
              "    <tr>\n",
              "      <th>1724111</th>\n",
              "      <td>20328570</td>\n",
              "      <td>sql</td>\n",
              "    </tr>\n",
              "    <tr>\n",
              "      <th>2778863</th>\n",
              "      <td>31300310</td>\n",
              "      <td>sql</td>\n",
              "    </tr>\n",
              "    <tr>\n",
              "      <th>377369</th>\n",
              "      <td>5302540</td>\n",
              "      <td>sql</td>\n",
              "    </tr>\n",
              "    <tr>\n",
              "      <th>1605638</th>\n",
              "      <td>19036470</td>\n",
              "      <td>sql</td>\n",
              "    </tr>\n",
              "    <tr>\n",
              "      <th>776973</th>\n",
              "      <td>9885470</td>\n",
              "      <td>sql</td>\n",
              "    </tr>\n",
              "    <tr>\n",
              "      <th>7621</th>\n",
              "      <td>206490</td>\n",
              "      <td>sql</td>\n",
              "    </tr>\n",
              "    <tr>\n",
              "      <th>2475794</th>\n",
              "      <td>28234500</td>\n",
              "      <td>sql</td>\n",
              "    </tr>\n",
              "    <tr>\n",
              "      <th>749660</th>\n",
              "      <td>9576740</td>\n",
              "      <td>sql</td>\n",
              "    </tr>\n",
              "    <tr>\n",
              "      <th>1488252</th>\n",
              "      <td>17746260</td>\n",
              "      <td>sql</td>\n",
              "    </tr>\n",
              "    <tr>\n",
              "      <th>747018</th>\n",
              "      <td>9548120</td>\n",
              "      <td>sql</td>\n",
              "    </tr>\n",
              "    <tr>\n",
              "      <th>3725911</th>\n",
              "      <td>39946070</td>\n",
              "      <td>sql</td>\n",
              "    </tr>\n",
              "    <tr>\n",
              "      <th>4062</th>\n",
              "      <td>121700</td>\n",
              "      <td>sql</td>\n",
              "    </tr>\n",
              "  </tbody>\n",
              "</table>\n",
              "</div>"
            ],
            "text/plain": [
              "               Id  Tag\n",
              "1773370  20873130  sql\n",
              "2240776  25782310  sql\n",
              "1791857  21072970  sql\n",
              "1724111  20328570  sql\n",
              "2778863  31300310  sql\n",
              "377369    5302540  sql\n",
              "1605638  19036470  sql\n",
              "776973    9885470  sql\n",
              "7621       206490  sql\n",
              "2475794  28234500  sql\n",
              "749660    9576740  sql\n",
              "1488252  17746260  sql\n",
              "747018    9548120  sql\n",
              "3725911  39946070  sql\n",
              "4062       121700  sql"
            ]
          },
          "metadata": {
            "tags": []
          },
          "execution_count": 22
        }
      ]
    },
    {
      "cell_type": "code",
      "metadata": {
        "id": "AAJ6H_N8oACY",
        "colab_type": "code",
        "outputId": "5f62d8a8-6c05-4f35-de16-e2bbb8dd9857",
        "colab": {
          "base_uri": "https://localhost:8080/",
          "height": 218
        }
      },
      "source": [
        "inpQuesTagsDataScience.Id.value_counts()"
      ],
      "execution_count": 0,
      "outputs": [
        {
          "output_type": "execute_result",
          "data": {
            "text/plain": [
              "9807450     3\n",
              "36043670    3\n",
              "26115210    3\n",
              "20151800    3\n",
              "12679530    3\n",
              "           ..\n",
              "33998860    1\n",
              "35091640    1\n",
              "38938640    1\n",
              "22700090    1\n",
              "39321600    1\n",
              "Name: Id, Length: 132075, dtype: int64"
            ]
          },
          "metadata": {
            "tags": []
          },
          "execution_count": 23
        }
      ]
    },
    {
      "cell_type": "code",
      "metadata": {
        "id": "f9B7aRmDqVJn",
        "colab_type": "code",
        "outputId": "fae74b99-96e0-405e-f2bf-096a2978d252",
        "colab": {
          "base_uri": "https://localhost:8080/",
          "height": 136
        }
      },
      "source": [
        "inpQuesTagsDataScience.loc[inpQuesTagsDataScience['Id'] == 35918200]"
      ],
      "execution_count": 0,
      "outputs": [
        {
          "output_type": "execute_result",
          "data": {
            "text/html": [
              "<div>\n",
              "<style scoped>\n",
              "    .dataframe tbody tr th:only-of-type {\n",
              "        vertical-align: middle;\n",
              "    }\n",
              "\n",
              "    .dataframe tbody tr th {\n",
              "        vertical-align: top;\n",
              "    }\n",
              "\n",
              "    .dataframe thead th {\n",
              "        text-align: right;\n",
              "    }\n",
              "</style>\n",
              "<table border=\"1\" class=\"dataframe\">\n",
              "  <thead>\n",
              "    <tr style=\"text-align: right;\">\n",
              "      <th></th>\n",
              "      <th>Id</th>\n",
              "      <th>Tag</th>\n",
              "    </tr>\n",
              "  </thead>\n",
              "  <tbody>\n",
              "    <tr>\n",
              "      <th>3269827</th>\n",
              "      <td>35918200</td>\n",
              "      <td>matlab</td>\n",
              "    </tr>\n",
              "    <tr>\n",
              "      <th>3269825</th>\n",
              "      <td>35918200</td>\n",
              "      <td>python</td>\n",
              "    </tr>\n",
              "    <tr>\n",
              "      <th>3269826</th>\n",
              "      <td>35918200</td>\n",
              "      <td>r</td>\n",
              "    </tr>\n",
              "  </tbody>\n",
              "</table>\n",
              "</div>"
            ],
            "text/plain": [
              "               Id     Tag\n",
              "3269827  35918200  matlab\n",
              "3269825  35918200  python\n",
              "3269826  35918200       r"
            ]
          },
          "metadata": {
            "tags": []
          },
          "execution_count": 24
        }
      ]
    },
    {
      "cell_type": "code",
      "metadata": {
        "id": "D-_BI0ktqxNv",
        "colab_type": "code",
        "outputId": "9edfa077-0589-4cce-c6be-71e547ebdf0a",
        "colab": {
          "base_uri": "https://localhost:8080/",
          "height": 136
        }
      },
      "source": [
        "inpQuesTagsDataScience.loc[inpQuesTagsDataScience['Id'] == 29325500]"
      ],
      "execution_count": 0,
      "outputs": [
        {
          "output_type": "execute_result",
          "data": {
            "text/html": [
              "<div>\n",
              "<style scoped>\n",
              "    .dataframe tbody tr th:only-of-type {\n",
              "        vertical-align: middle;\n",
              "    }\n",
              "\n",
              "    .dataframe tbody tr th {\n",
              "        vertical-align: top;\n",
              "    }\n",
              "\n",
              "    .dataframe thead th {\n",
              "        text-align: right;\n",
              "    }\n",
              "</style>\n",
              "<table border=\"1\" class=\"dataframe\">\n",
              "  <thead>\n",
              "    <tr style=\"text-align: right;\">\n",
              "      <th></th>\n",
              "      <th>Id</th>\n",
              "      <th>Tag</th>\n",
              "    </tr>\n",
              "  </thead>\n",
              "  <tbody>\n",
              "    <tr>\n",
              "      <th>2582988</th>\n",
              "      <td>29325500</td>\n",
              "      <td>excel</td>\n",
              "    </tr>\n",
              "    <tr>\n",
              "      <th>2582989</th>\n",
              "      <td>29325500</td>\n",
              "      <td>matlab</td>\n",
              "    </tr>\n",
              "    <tr>\n",
              "      <th>2582987</th>\n",
              "      <td>29325500</td>\n",
              "      <td>r</td>\n",
              "    </tr>\n",
              "  </tbody>\n",
              "</table>\n",
              "</div>"
            ],
            "text/plain": [
              "               Id     Tag\n",
              "2582988  29325500   excel\n",
              "2582989  29325500  matlab\n",
              "2582987  29325500       r"
            ]
          },
          "metadata": {
            "tags": []
          },
          "execution_count": 25
        }
      ]
    },
    {
      "cell_type": "code",
      "metadata": {
        "id": "jUYk5_iTr2IQ",
        "colab_type": "code",
        "outputId": "8377cb16-e3d4-47bf-998b-fd193f3e4101",
        "colab": {
          "base_uri": "https://localhost:8080/",
          "height": 134
        }
      },
      "source": [
        "inpQuesTagsDataScience.info()"
      ],
      "execution_count": 0,
      "outputs": [
        {
          "output_type": "stream",
          "text": [
            "<class 'pandas.core.frame.DataFrame'>\n",
            "Int64Index: 133660 entries, 2597066 to 4062\n",
            "Data columns (total 2 columns):\n",
            "Id     133660 non-null int64\n",
            "Tag    133660 non-null object\n",
            "dtypes: int64(1), object(1)\n",
            "memory usage: 3.1+ MB\n"
          ],
          "name": "stdout"
        }
      ]
    },
    {
      "cell_type": "code",
      "metadata": {
        "id": "QI5wBByoswyK",
        "colab_type": "code",
        "colab": {}
      },
      "source": [
        "inpQuesTagsDataScience.loc[inpQuesTagsDataScience['Id'] == 26115210]"
      ],
      "execution_count": 0,
      "outputs": []
    },
    {
      "cell_type": "code",
      "metadata": {
        "id": "UUMjaOROq7X6",
        "colab_type": "code",
        "colab": {}
      },
      "source": [
        "inpQuesTagsDataScience.Tag.value_counts()"
      ],
      "execution_count": 0,
      "outputs": []
    },
    {
      "cell_type": "code",
      "metadata": {
        "id": "wPbjC3KKrDc_",
        "colab_type": "code",
        "colab": {}
      },
      "source": [
        ""
      ],
      "execution_count": 0,
      "outputs": []
    }
  ]
}