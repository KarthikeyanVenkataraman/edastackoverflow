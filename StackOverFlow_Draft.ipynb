{
  "nbformat": 4,
  "nbformat_minor": 0,
  "metadata": {
    "colab": {
      "name": "StackOverFlow-Draft.ipynb",
      "provenance": [],
      "collapsed_sections": [],
      "machine_shape": "hm"
    },
    "kernelspec": {
      "name": "python3",
      "display_name": "Python 3"
    }
  },
  "cells": [
    {
      "cell_type": "code",
      "metadata": {
        "id": "dX_IGzhftvFo",
        "colab_type": "code",
        "colab": {}
      },
      "source": [
        "# Author : Karthikeyan V\n",
        "# Stack Overflow Case Study\n",
        "# import the Python Libraries\n",
        "import pandas as pd\n",
        "import numpy as np\n",
        "import matplotlib.pyplot as plt\n",
        "import seaborn as sns"
      ],
      "execution_count": 0,
      "outputs": []
    },
    {
      "cell_type": "markdown",
      "metadata": {
        "id": "NzU3j7aFT9rn",
        "colab_type": "text"
      },
      "source": [
        "**Data Collection**\n",
        "\n",
        "Get the data from public S3 Storage to perform EDA"
      ]
    },
    {
      "cell_type": "code",
      "metadata": {
        "id": "KFNxJzNMWRdG",
        "colab_type": "code",
        "colab": {}
      },
      "source": [
        "# read the Questions Dataset stored in AWS S3 public storage \n",
        "inpQues = pd.read_csv(\"https://stack-overflow-casestudy-datasets.s3.amazonaws.com/Questions.csv\", encoding=\"ISO-8859-1\")"
      ],
      "execution_count": 0,
      "outputs": []
    },
    {
      "cell_type": "code",
      "metadata": {
        "id": "YGw1cfaHUMbr",
        "colab_type": "code",
        "colab": {}
      },
      "source": [
        "# read the Question Tags Dataset stored in AWS S3 public storage\n",
        "inpQuesTags = pd.read_csv(\"https://stack-overflow-casestudy-datasets.s3.amazonaws.com/Tags.csv\", encoding=\"ISO-8859-1\")"
      ],
      "execution_count": 0,
      "outputs": []
    },
    {
      "cell_type": "code",
      "metadata": {
        "id": "CTm51J2GWSTW",
        "colab_type": "code",
        "colab": {}
      },
      "source": [
        "# read the Answers Dataset stored in AWS S3 public storage \n",
        "inpAns = pd.read_csv(\"https://stack-overflow-casestudy-datasets.s3.amazonaws.com/Answers.csv\", encoding=\"ISO-8859-1\")"
      ],
      "execution_count": 0,
      "outputs": []
    },
    {
      "cell_type": "code",
      "metadata": {
        "id": "37yERXSWYYmg",
        "colab_type": "code",
        "colab": {}
      },
      "source": [
        "# read the Users Dataset stored in AWS S3 public storage \n",
        "inpUsers = pd.read_csv(\"https://stack-overflow-casestudy-datasets.s3.amazonaws.com/Users.csv\", encoding=\"ISO-8859-1\")"
      ],
      "execution_count": 0,
      "outputs": []
    },
    {
      "cell_type": "markdown",
      "metadata": {
        "id": "ozrlHTloYjnj",
        "colab_type": "text"
      },
      "source": [
        "**EDA on Question Data Set**\n",
        "\n",
        "*   Identify the data types on the Data Sets\n",
        "CreationDate and ClosedDate columns are not dates. Convert them into \n",
        "\n",
        "*   List item\n",
        "*   List item\n",
        "\n",
        "\n",
        "Dates\n",
        "\n",
        "\n",
        "\n",
        "\n",
        "\n"
      ]
    },
    {
      "cell_type": "code",
      "metadata": {
        "id": "qGKgbjU8-pZh",
        "colab_type": "code",
        "outputId": "3f7c20ad-2caa-4e14-e6e9-1c11453e0364",
        "colab": {
          "base_uri": "https://localhost:8080/",
          "height": 230
        }
      },
      "source": [
        "inpQues.info()"
      ],
      "execution_count": 138,
      "outputs": [
        {
          "output_type": "stream",
          "text": [
            "<class 'pandas.core.frame.DataFrame'>\n",
            "RangeIndex: 1264216 entries, 0 to 1264215\n",
            "Data columns (total 7 columns):\n",
            "Id              1264216 non-null int64\n",
            "OwnerUserId     1249762 non-null float64\n",
            "CreationDate    1264216 non-null object\n",
            "ClosedDate      55959 non-null object\n",
            "Score           1264216 non-null int64\n",
            "Title           1264216 non-null object\n",
            "Body            1264216 non-null object\n",
            "dtypes: float64(1), int64(2), object(4)\n",
            "memory usage: 67.5+ MB\n"
          ],
          "name": "stdout"
        }
      ]
    },
    {
      "cell_type": "code",
      "metadata": {
        "id": "adZrBpg5JMpC",
        "colab_type": "code",
        "outputId": "aeec9ee5-b6cb-4fd5-d63a-d28ce876a922",
        "colab": {
          "base_uri": "https://localhost:8080/",
          "height": 141
        }
      },
      "source": [
        "inpQuesTags.info()"
      ],
      "execution_count": 139,
      "outputs": [
        {
          "output_type": "stream",
          "text": [
            "<class 'pandas.core.frame.DataFrame'>\n",
            "RangeIndex: 3750994 entries, 0 to 3750993\n",
            "Data columns (total 2 columns):\n",
            "Id     int64\n",
            "Tag    object\n",
            "dtypes: int64(1), object(1)\n",
            "memory usage: 57.2+ MB\n"
          ],
          "name": "stdout"
        }
      ]
    },
    {
      "cell_type": "code",
      "metadata": {
        "id": "iq7-kHIeIwFK",
        "colab_type": "code",
        "outputId": "f596c61e-f9ef-4f73-82be-e2c588b1cf2d",
        "colab": {
          "base_uri": "https://localhost:8080/",
          "height": 212
        }
      },
      "source": [
        "inpAns.info()"
      ],
      "execution_count": 140,
      "outputs": [
        {
          "output_type": "stream",
          "text": [
            "<class 'pandas.core.frame.DataFrame'>\n",
            "RangeIndex: 2014516 entries, 0 to 2014515\n",
            "Data columns (total 6 columns):\n",
            "Id              int64\n",
            "OwnerUserId     float64\n",
            "CreationDate    object\n",
            "ParentId        int64\n",
            "Score           int64\n",
            "Body            object\n",
            "dtypes: float64(1), int64(3), object(2)\n",
            "memory usage: 92.2+ MB\n"
          ],
          "name": "stdout"
        }
      ]
    },
    {
      "cell_type": "code",
      "metadata": {
        "id": "HjN4L3B4I3sx",
        "colab_type": "code",
        "outputId": "9ccf1e89-79ff-4341-8cdd-e182200ec7cc",
        "colab": {
          "base_uri": "https://localhost:8080/",
          "height": 266
        }
      },
      "source": [
        "inpUsers.info()"
      ],
      "execution_count": 141,
      "outputs": [
        {
          "output_type": "stream",
          "text": [
            "<class 'pandas.core.frame.DataFrame'>\n",
            "RangeIndex: 1990480 entries, 0 to 1990479\n",
            "Data columns (total 9 columns):\n",
            "Unnamed: 0          int64\n",
            "id                  int64\n",
            "display_name        object\n",
            "creation_date       object\n",
            "last_access_date    object\n",
            "reputation          int64\n",
            "up_votes            int64\n",
            "down_votes          int64\n",
            "views               int64\n",
            "dtypes: int64(6), object(3)\n",
            "memory usage: 136.7+ MB\n"
          ],
          "name": "stdout"
        }
      ]
    },
    {
      "cell_type": "code",
      "metadata": {
        "id": "Ws6c443C-j7J",
        "colab_type": "code",
        "outputId": "598bcdd8-b73e-47c2-d652-35bc8a57c0b3",
        "colab": {
          "base_uri": "https://localhost:8080/",
          "height": 194
        }
      },
      "source": [
        "inpQues.head(5)"
      ],
      "execution_count": 142,
      "outputs": [
        {
          "output_type": "execute_result",
          "data": {
            "text/html": [
              "<div>\n",
              "<style scoped>\n",
              "    .dataframe tbody tr th:only-of-type {\n",
              "        vertical-align: middle;\n",
              "    }\n",
              "\n",
              "    .dataframe tbody tr th {\n",
              "        vertical-align: top;\n",
              "    }\n",
              "\n",
              "    .dataframe thead th {\n",
              "        text-align: right;\n",
              "    }\n",
              "</style>\n",
              "<table border=\"1\" class=\"dataframe\">\n",
              "  <thead>\n",
              "    <tr style=\"text-align: right;\">\n",
              "      <th></th>\n",
              "      <th>Id</th>\n",
              "      <th>OwnerUserId</th>\n",
              "      <th>CreationDate</th>\n",
              "      <th>ClosedDate</th>\n",
              "      <th>Score</th>\n",
              "      <th>Title</th>\n",
              "      <th>Body</th>\n",
              "    </tr>\n",
              "  </thead>\n",
              "  <tbody>\n",
              "    <tr>\n",
              "      <th>0</th>\n",
              "      <td>80</td>\n",
              "      <td>26.0</td>\n",
              "      <td>2008-08-01T13:57:07Z</td>\n",
              "      <td>NaN</td>\n",
              "      <td>26</td>\n",
              "      <td>SQLStatement.execute() - multiple queries in o...</td>\n",
              "      <td>&lt;p&gt;I've written a database generation script i...</td>\n",
              "    </tr>\n",
              "    <tr>\n",
              "      <th>1</th>\n",
              "      <td>90</td>\n",
              "      <td>58.0</td>\n",
              "      <td>2008-08-01T14:41:24Z</td>\n",
              "      <td>2012-12-26T03:45:49Z</td>\n",
              "      <td>144</td>\n",
              "      <td>Good branching and merging tutorials for Torto...</td>\n",
              "      <td>&lt;p&gt;Are there any really good tutorials explain...</td>\n",
              "    </tr>\n",
              "    <tr>\n",
              "      <th>2</th>\n",
              "      <td>120</td>\n",
              "      <td>83.0</td>\n",
              "      <td>2008-08-01T15:50:08Z</td>\n",
              "      <td>NaN</td>\n",
              "      <td>21</td>\n",
              "      <td>ASP.NET Site Maps</td>\n",
              "      <td>&lt;p&gt;Has anyone got experience creating &lt;strong&gt;...</td>\n",
              "    </tr>\n",
              "    <tr>\n",
              "      <th>3</th>\n",
              "      <td>180</td>\n",
              "      <td>2089740.0</td>\n",
              "      <td>2008-08-01T18:42:19Z</td>\n",
              "      <td>NaN</td>\n",
              "      <td>53</td>\n",
              "      <td>Function for creating color wheels</td>\n",
              "      <td>&lt;p&gt;This is something I've pseudo-solved many t...</td>\n",
              "    </tr>\n",
              "    <tr>\n",
              "      <th>4</th>\n",
              "      <td>260</td>\n",
              "      <td>91.0</td>\n",
              "      <td>2008-08-01T23:22:08Z</td>\n",
              "      <td>NaN</td>\n",
              "      <td>49</td>\n",
              "      <td>Adding scripting functionality to .NET applica...</td>\n",
              "      <td>&lt;p&gt;I have a little game written in C#. It uses...</td>\n",
              "    </tr>\n",
              "  </tbody>\n",
              "</table>\n",
              "</div>"
            ],
            "text/plain": [
              "    Id  ...                                               Body\n",
              "0   80  ...  <p>I've written a database generation script i...\n",
              "1   90  ...  <p>Are there any really good tutorials explain...\n",
              "2  120  ...  <p>Has anyone got experience creating <strong>...\n",
              "3  180  ...  <p>This is something I've pseudo-solved many t...\n",
              "4  260  ...  <p>I have a little game written in C#. It uses...\n",
              "\n",
              "[5 rows x 7 columns]"
            ]
          },
          "metadata": {
            "tags": []
          },
          "execution_count": 142
        }
      ]
    },
    {
      "cell_type": "code",
      "metadata": {
        "id": "T4dU1GIsBkj8",
        "colab_type": "code",
        "outputId": "c1014f38-6a72-446b-bb9c-d076e9946589",
        "colab": {
          "base_uri": "https://localhost:8080/",
          "height": 194
        }
      },
      "source": [
        "inpAns.head(5)"
      ],
      "execution_count": 143,
      "outputs": [
        {
          "output_type": "execute_result",
          "data": {
            "text/html": [
              "<div>\n",
              "<style scoped>\n",
              "    .dataframe tbody tr th:only-of-type {\n",
              "        vertical-align: middle;\n",
              "    }\n",
              "\n",
              "    .dataframe tbody tr th {\n",
              "        vertical-align: top;\n",
              "    }\n",
              "\n",
              "    .dataframe thead th {\n",
              "        text-align: right;\n",
              "    }\n",
              "</style>\n",
              "<table border=\"1\" class=\"dataframe\">\n",
              "  <thead>\n",
              "    <tr style=\"text-align: right;\">\n",
              "      <th></th>\n",
              "      <th>Id</th>\n",
              "      <th>OwnerUserId</th>\n",
              "      <th>CreationDate</th>\n",
              "      <th>ParentId</th>\n",
              "      <th>Score</th>\n",
              "      <th>Body</th>\n",
              "    </tr>\n",
              "  </thead>\n",
              "  <tbody>\n",
              "    <tr>\n",
              "      <th>0</th>\n",
              "      <td>92</td>\n",
              "      <td>61.0</td>\n",
              "      <td>2008-08-01T14:45:37Z</td>\n",
              "      <td>90</td>\n",
              "      <td>13</td>\n",
              "      <td>&lt;p&gt;&lt;a href=\"http://svnbook.red-bean.com/\"&gt;Vers...</td>\n",
              "    </tr>\n",
              "    <tr>\n",
              "      <th>1</th>\n",
              "      <td>124</td>\n",
              "      <td>26.0</td>\n",
              "      <td>2008-08-01T16:09:47Z</td>\n",
              "      <td>80</td>\n",
              "      <td>12</td>\n",
              "      <td>&lt;p&gt;I wound up using this. It is a kind of a ha...</td>\n",
              "    </tr>\n",
              "    <tr>\n",
              "      <th>2</th>\n",
              "      <td>199</td>\n",
              "      <td>50.0</td>\n",
              "      <td>2008-08-01T19:36:46Z</td>\n",
              "      <td>180</td>\n",
              "      <td>1</td>\n",
              "      <td>&lt;p&gt;I've read somewhere the human eye can't dis...</td>\n",
              "    </tr>\n",
              "    <tr>\n",
              "      <th>3</th>\n",
              "      <td>269</td>\n",
              "      <td>91.0</td>\n",
              "      <td>2008-08-01T23:49:57Z</td>\n",
              "      <td>260</td>\n",
              "      <td>4</td>\n",
              "      <td>&lt;p&gt;Yes, I thought about that, but I soon figur...</td>\n",
              "    </tr>\n",
              "    <tr>\n",
              "      <th>4</th>\n",
              "      <td>307</td>\n",
              "      <td>49.0</td>\n",
              "      <td>2008-08-02T01:49:46Z</td>\n",
              "      <td>260</td>\n",
              "      <td>28</td>\n",
              "      <td>&lt;p&gt;&lt;a href=\"http://www.codeproject.com/Article...</td>\n",
              "    </tr>\n",
              "  </tbody>\n",
              "</table>\n",
              "</div>"
            ],
            "text/plain": [
              "    Id  OwnerUserId  ... Score                                               Body\n",
              "0   92         61.0  ...    13  <p><a href=\"http://svnbook.red-bean.com/\">Vers...\n",
              "1  124         26.0  ...    12  <p>I wound up using this. It is a kind of a ha...\n",
              "2  199         50.0  ...     1  <p>I've read somewhere the human eye can't dis...\n",
              "3  269         91.0  ...     4  <p>Yes, I thought about that, but I soon figur...\n",
              "4  307         49.0  ...    28  <p><a href=\"http://www.codeproject.com/Article...\n",
              "\n",
              "[5 rows x 6 columns]"
            ]
          },
          "metadata": {
            "tags": []
          },
          "execution_count": 143
        }
      ]
    },
    {
      "cell_type": "code",
      "metadata": {
        "id": "7NfchytWJhVR",
        "colab_type": "code",
        "outputId": "1cfb0d89-476f-43b0-8633-44ebd46e10d9",
        "colab": {
          "base_uri": "https://localhost:8080/",
          "height": 194
        }
      },
      "source": [
        "inpQuesTags.head(5)"
      ],
      "execution_count": 144,
      "outputs": [
        {
          "output_type": "execute_result",
          "data": {
            "text/html": [
              "<div>\n",
              "<style scoped>\n",
              "    .dataframe tbody tr th:only-of-type {\n",
              "        vertical-align: middle;\n",
              "    }\n",
              "\n",
              "    .dataframe tbody tr th {\n",
              "        vertical-align: top;\n",
              "    }\n",
              "\n",
              "    .dataframe thead th {\n",
              "        text-align: right;\n",
              "    }\n",
              "</style>\n",
              "<table border=\"1\" class=\"dataframe\">\n",
              "  <thead>\n",
              "    <tr style=\"text-align: right;\">\n",
              "      <th></th>\n",
              "      <th>Id</th>\n",
              "      <th>Tag</th>\n",
              "    </tr>\n",
              "  </thead>\n",
              "  <tbody>\n",
              "    <tr>\n",
              "      <th>0</th>\n",
              "      <td>80</td>\n",
              "      <td>flex</td>\n",
              "    </tr>\n",
              "    <tr>\n",
              "      <th>1</th>\n",
              "      <td>80</td>\n",
              "      <td>actionscript-3</td>\n",
              "    </tr>\n",
              "    <tr>\n",
              "      <th>2</th>\n",
              "      <td>80</td>\n",
              "      <td>air</td>\n",
              "    </tr>\n",
              "    <tr>\n",
              "      <th>3</th>\n",
              "      <td>90</td>\n",
              "      <td>svn</td>\n",
              "    </tr>\n",
              "    <tr>\n",
              "      <th>4</th>\n",
              "      <td>90</td>\n",
              "      <td>tortoisesvn</td>\n",
              "    </tr>\n",
              "  </tbody>\n",
              "</table>\n",
              "</div>"
            ],
            "text/plain": [
              "   Id             Tag\n",
              "0  80            flex\n",
              "1  80  actionscript-3\n",
              "2  80             air\n",
              "3  90             svn\n",
              "4  90     tortoisesvn"
            ]
          },
          "metadata": {
            "tags": []
          },
          "execution_count": 144
        }
      ]
    },
    {
      "cell_type": "code",
      "metadata": {
        "id": "ZKs2WdnyJmpi",
        "colab_type": "code",
        "outputId": "d53195ac-38eb-4ff7-9fde-aa3f68e5450b",
        "colab": {
          "base_uri": "https://localhost:8080/",
          "height": 194
        }
      },
      "source": [
        "inpUsers.head(5)"
      ],
      "execution_count": 145,
      "outputs": [
        {
          "output_type": "execute_result",
          "data": {
            "text/html": [
              "<div>\n",
              "<style scoped>\n",
              "    .dataframe tbody tr th:only-of-type {\n",
              "        vertical-align: middle;\n",
              "    }\n",
              "\n",
              "    .dataframe tbody tr th {\n",
              "        vertical-align: top;\n",
              "    }\n",
              "\n",
              "    .dataframe thead th {\n",
              "        text-align: right;\n",
              "    }\n",
              "</style>\n",
              "<table border=\"1\" class=\"dataframe\">\n",
              "  <thead>\n",
              "    <tr style=\"text-align: right;\">\n",
              "      <th></th>\n",
              "      <th>Unnamed: 0</th>\n",
              "      <th>id</th>\n",
              "      <th>display_name</th>\n",
              "      <th>creation_date</th>\n",
              "      <th>last_access_date</th>\n",
              "      <th>reputation</th>\n",
              "      <th>up_votes</th>\n",
              "      <th>down_votes</th>\n",
              "      <th>views</th>\n",
              "    </tr>\n",
              "  </thead>\n",
              "  <tbody>\n",
              "    <tr>\n",
              "      <th>0</th>\n",
              "      <td>0</td>\n",
              "      <td>26</td>\n",
              "      <td>Shawn</td>\n",
              "      <td>2008-08-01 12:18:14.52 UTC</td>\n",
              "      <td>2018-04-11 04:40:35.66 UTC</td>\n",
              "      <td>11820</td>\n",
              "      <td>565</td>\n",
              "      <td>67</td>\n",
              "      <td>3547</td>\n",
              "    </tr>\n",
              "    <tr>\n",
              "      <th>1</th>\n",
              "      <td>1</td>\n",
              "      <td>26</td>\n",
              "      <td>Shawn</td>\n",
              "      <td>2008-08-01 12:18:14.52 UTC</td>\n",
              "      <td>2018-04-11 04:40:35.66 UTC</td>\n",
              "      <td>11820</td>\n",
              "      <td>565</td>\n",
              "      <td>67</td>\n",
              "      <td>3547</td>\n",
              "    </tr>\n",
              "    <tr>\n",
              "      <th>2</th>\n",
              "      <td>2</td>\n",
              "      <td>26</td>\n",
              "      <td>Shawn</td>\n",
              "      <td>2008-08-01 12:18:14.52 UTC</td>\n",
              "      <td>2018-04-11 04:40:35.66 UTC</td>\n",
              "      <td>11820</td>\n",
              "      <td>565</td>\n",
              "      <td>67</td>\n",
              "      <td>3547</td>\n",
              "    </tr>\n",
              "    <tr>\n",
              "      <th>3</th>\n",
              "      <td>3</td>\n",
              "      <td>26</td>\n",
              "      <td>Shawn</td>\n",
              "      <td>2008-08-01 12:18:14.52 UTC</td>\n",
              "      <td>2018-04-11 04:40:35.66 UTC</td>\n",
              "      <td>11820</td>\n",
              "      <td>565</td>\n",
              "      <td>67</td>\n",
              "      <td>3547</td>\n",
              "    </tr>\n",
              "    <tr>\n",
              "      <th>4</th>\n",
              "      <td>4</td>\n",
              "      <td>26</td>\n",
              "      <td>Shawn</td>\n",
              "      <td>2008-08-01 12:18:14.52 UTC</td>\n",
              "      <td>2018-04-11 04:40:35.66 UTC</td>\n",
              "      <td>11820</td>\n",
              "      <td>565</td>\n",
              "      <td>67</td>\n",
              "      <td>3547</td>\n",
              "    </tr>\n",
              "  </tbody>\n",
              "</table>\n",
              "</div>"
            ],
            "text/plain": [
              "   Unnamed: 0  id display_name  ... up_votes down_votes  views\n",
              "0           0  26        Shawn  ...      565         67   3547\n",
              "1           1  26        Shawn  ...      565         67   3547\n",
              "2           2  26        Shawn  ...      565         67   3547\n",
              "3           3  26        Shawn  ...      565         67   3547\n",
              "4           4  26        Shawn  ...      565         67   3547\n",
              "\n",
              "[5 rows x 9 columns]"
            ]
          },
          "metadata": {
            "tags": []
          },
          "execution_count": 145
        }
      ]
    },
    {
      "cell_type": "code",
      "metadata": {
        "id": "oX81APQXAF97",
        "colab_type": "code",
        "colab": {
          "base_uri": "https://localhost:8080/",
          "height": 194
        },
        "outputId": "1834c96b-6369-4843-eb04-6bc627e03ea7"
      },
      "source": [
        "inpUsers.tail(5)"
      ],
      "execution_count": 281,
      "outputs": [
        {
          "output_type": "execute_result",
          "data": {
            "text/html": [
              "<div>\n",
              "<style scoped>\n",
              "    .dataframe tbody tr th:only-of-type {\n",
              "        vertical-align: middle;\n",
              "    }\n",
              "\n",
              "    .dataframe tbody tr th {\n",
              "        vertical-align: top;\n",
              "    }\n",
              "\n",
              "    .dataframe thead th {\n",
              "        text-align: right;\n",
              "    }\n",
              "</style>\n",
              "<table border=\"1\" class=\"dataframe\">\n",
              "  <thead>\n",
              "    <tr style=\"text-align: right;\">\n",
              "      <th></th>\n",
              "      <th>id</th>\n",
              "      <th>display_name</th>\n",
              "      <th>creation_date</th>\n",
              "      <th>last_access_date</th>\n",
              "      <th>reputation</th>\n",
              "      <th>up_votes</th>\n",
              "      <th>down_votes</th>\n",
              "      <th>views</th>\n",
              "    </tr>\n",
              "  </thead>\n",
              "  <tbody>\n",
              "    <tr>\n",
              "      <th>1990475</th>\n",
              "      <td>4228492</td>\n",
              "      <td>Michael Spranger</td>\n",
              "      <td>2014-11-07 20:21:14.283 UTC</td>\n",
              "      <td>2019-08-28 18:01:29.56 UTC</td>\n",
              "      <td>415</td>\n",
              "      <td>112</td>\n",
              "      <td>2</td>\n",
              "      <td>17</td>\n",
              "    </tr>\n",
              "    <tr>\n",
              "      <th>1990476</th>\n",
              "      <td>6820506</td>\n",
              "      <td>Manuela</td>\n",
              "      <td>2016-09-12 00:19:17.83 UTC</td>\n",
              "      <td>2018-07-20 01:28:24.853 UTC</td>\n",
              "      <td>21</td>\n",
              "      <td>38</td>\n",
              "      <td>0</td>\n",
              "      <td>50</td>\n",
              "    </tr>\n",
              "    <tr>\n",
              "      <th>1990477</th>\n",
              "      <td>4464432</td>\n",
              "      <td>YTorii</td>\n",
              "      <td>2015-01-17 10:48:17.523 UTC</td>\n",
              "      <td>2019-08-31 13:51:47.413 UTC</td>\n",
              "      <td>336</td>\n",
              "      <td>67</td>\n",
              "      <td>1</td>\n",
              "      <td>13</td>\n",
              "    </tr>\n",
              "    <tr>\n",
              "      <th>1990478</th>\n",
              "      <td>4605946</td>\n",
              "      <td>space_voyager</td>\n",
              "      <td>2015-02-25 13:43:24.63 UTC</td>\n",
              "      <td>2019-07-13 23:55:47.607 UTC</td>\n",
              "      <td>884</td>\n",
              "      <td>53</td>\n",
              "      <td>1</td>\n",
              "      <td>191</td>\n",
              "    </tr>\n",
              "    <tr>\n",
              "      <th>1990479</th>\n",
              "      <td>6107989</td>\n",
              "      <td>Nicky HFE</td>\n",
              "      <td>2016-03-24 06:25:14.09 UTC</td>\n",
              "      <td>2019-08-21 13:40:34.197 UTC</td>\n",
              "      <td>108</td>\n",
              "      <td>0</td>\n",
              "      <td>0</td>\n",
              "      <td>30</td>\n",
              "    </tr>\n",
              "  </tbody>\n",
              "</table>\n",
              "</div>"
            ],
            "text/plain": [
              "              id      display_name  ... down_votes views\n",
              "1990475  4228492  Michael Spranger  ...          2    17\n",
              "1990476  6820506           Manuela  ...          0    50\n",
              "1990477  4464432            YTorii  ...          1    13\n",
              "1990478  4605946     space_voyager  ...          1   191\n",
              "1990479  6107989         Nicky HFE  ...          0    30\n",
              "\n",
              "[5 rows x 8 columns]"
            ]
          },
          "metadata": {
            "tags": []
          },
          "execution_count": 281
        }
      ]
    },
    {
      "cell_type": "code",
      "metadata": {
        "id": "Dzp1nfq7Jq5J",
        "colab_type": "code",
        "colab": {}
      },
      "source": [
        "# Remove the Unnamed column from the Users Dataset\n",
        "del inpUsers['Unnamed: 0']"
      ],
      "execution_count": 0,
      "outputs": []
    },
    {
      "cell_type": "code",
      "metadata": {
        "id": "Jp7MIPRgAAvv",
        "colab_type": "code",
        "colab": {}
      },
      "source": [
        "# Remove duplicated rows from the Users Dataset ( User Shawn was duplicated 5 times)\n",
        "inpUsers.drop_duplicates(subset=None, keep='first', inplace=True)"
      ],
      "execution_count": 0,
      "outputs": []
    },
    {
      "cell_type": "code",
      "metadata": {
        "id": "x0KtmMQMA482",
        "colab_type": "code",
        "colab": {
          "base_uri": "https://localhost:8080/",
          "height": 35
        },
        "outputId": "f1844140-a4ff-426a-9f07-846d810039ea"
      },
      "source": [
        "# Check if there nulls in the display_name\n",
        "inpUsers.display_name.isnull().sum()"
      ],
      "execution_count": 285,
      "outputs": [
        {
          "output_type": "execute_result",
          "data": {
            "text/plain": [
              "24"
            ]
          },
          "metadata": {
            "tags": []
          },
          "execution_count": 285
        }
      ]
    },
    {
      "cell_type": "code",
      "metadata": {
        "id": "lp8lJ-1QBKPw",
        "colab_type": "code",
        "colab": {}
      },
      "source": [
        "# Fill the display_name with \"NA\" in the user data set\n",
        "inpUsers[\"display_name\"].fillna(\"NA\", inplace = True)"
      ],
      "execution_count": 0,
      "outputs": []
    },
    {
      "cell_type": "code",
      "metadata": {
        "id": "kLfkqZ8_Mi17",
        "colab_type": "code",
        "colab": {
          "base_uri": "https://localhost:8080/",
          "height": 194
        },
        "outputId": "74aa11c3-f1c3-457f-e19f-ac15240346b2"
      },
      "source": [
        "inpUsers.head(5)"
      ],
      "execution_count": 147,
      "outputs": [
        {
          "output_type": "execute_result",
          "data": {
            "text/html": [
              "<div>\n",
              "<style scoped>\n",
              "    .dataframe tbody tr th:only-of-type {\n",
              "        vertical-align: middle;\n",
              "    }\n",
              "\n",
              "    .dataframe tbody tr th {\n",
              "        vertical-align: top;\n",
              "    }\n",
              "\n",
              "    .dataframe thead th {\n",
              "        text-align: right;\n",
              "    }\n",
              "</style>\n",
              "<table border=\"1\" class=\"dataframe\">\n",
              "  <thead>\n",
              "    <tr style=\"text-align: right;\">\n",
              "      <th></th>\n",
              "      <th>id</th>\n",
              "      <th>display_name</th>\n",
              "      <th>creation_date</th>\n",
              "      <th>last_access_date</th>\n",
              "      <th>reputation</th>\n",
              "      <th>up_votes</th>\n",
              "      <th>down_votes</th>\n",
              "      <th>views</th>\n",
              "    </tr>\n",
              "  </thead>\n",
              "  <tbody>\n",
              "    <tr>\n",
              "      <th>0</th>\n",
              "      <td>26</td>\n",
              "      <td>Shawn</td>\n",
              "      <td>2008-08-01 12:18:14.52 UTC</td>\n",
              "      <td>2018-04-11 04:40:35.66 UTC</td>\n",
              "      <td>11820</td>\n",
              "      <td>565</td>\n",
              "      <td>67</td>\n",
              "      <td>3547</td>\n",
              "    </tr>\n",
              "    <tr>\n",
              "      <th>1</th>\n",
              "      <td>26</td>\n",
              "      <td>Shawn</td>\n",
              "      <td>2008-08-01 12:18:14.52 UTC</td>\n",
              "      <td>2018-04-11 04:40:35.66 UTC</td>\n",
              "      <td>11820</td>\n",
              "      <td>565</td>\n",
              "      <td>67</td>\n",
              "      <td>3547</td>\n",
              "    </tr>\n",
              "    <tr>\n",
              "      <th>2</th>\n",
              "      <td>26</td>\n",
              "      <td>Shawn</td>\n",
              "      <td>2008-08-01 12:18:14.52 UTC</td>\n",
              "      <td>2018-04-11 04:40:35.66 UTC</td>\n",
              "      <td>11820</td>\n",
              "      <td>565</td>\n",
              "      <td>67</td>\n",
              "      <td>3547</td>\n",
              "    </tr>\n",
              "    <tr>\n",
              "      <th>3</th>\n",
              "      <td>26</td>\n",
              "      <td>Shawn</td>\n",
              "      <td>2008-08-01 12:18:14.52 UTC</td>\n",
              "      <td>2018-04-11 04:40:35.66 UTC</td>\n",
              "      <td>11820</td>\n",
              "      <td>565</td>\n",
              "      <td>67</td>\n",
              "      <td>3547</td>\n",
              "    </tr>\n",
              "    <tr>\n",
              "      <th>4</th>\n",
              "      <td>26</td>\n",
              "      <td>Shawn</td>\n",
              "      <td>2008-08-01 12:18:14.52 UTC</td>\n",
              "      <td>2018-04-11 04:40:35.66 UTC</td>\n",
              "      <td>11820</td>\n",
              "      <td>565</td>\n",
              "      <td>67</td>\n",
              "      <td>3547</td>\n",
              "    </tr>\n",
              "  </tbody>\n",
              "</table>\n",
              "</div>"
            ],
            "text/plain": [
              "   id display_name               creation_date  ... up_votes  down_votes  views\n",
              "0  26        Shawn  2008-08-01 12:18:14.52 UTC  ...      565          67   3547\n",
              "1  26        Shawn  2008-08-01 12:18:14.52 UTC  ...      565          67   3547\n",
              "2  26        Shawn  2008-08-01 12:18:14.52 UTC  ...      565          67   3547\n",
              "3  26        Shawn  2008-08-01 12:18:14.52 UTC  ...      565          67   3547\n",
              "4  26        Shawn  2008-08-01 12:18:14.52 UTC  ...      565          67   3547\n",
              "\n",
              "[5 rows x 8 columns]"
            ]
          },
          "metadata": {
            "tags": []
          },
          "execution_count": 147
        }
      ]
    },
    {
      "cell_type": "code",
      "metadata": {
        "id": "5NAamR9gNKSe",
        "colab_type": "code",
        "colab": {
          "base_uri": "https://localhost:8080/",
          "height": 47
        },
        "outputId": "3a2883dc-c762-4a4a-f608-7ae73060945f"
      },
      "source": [
        "# Before removing the NaN values from OwnerUserId column, impute the value as zero so that we can decide later whether this can be dropped or not\n",
        "# Before imputing check if there are any records with OwnerUserId = 0\n",
        "inpQues[inpQues.OwnerUserId == 0]"
      ],
      "execution_count": 148,
      "outputs": [
        {
          "output_type": "execute_result",
          "data": {
            "text/html": [
              "<div>\n",
              "<style scoped>\n",
              "    .dataframe tbody tr th:only-of-type {\n",
              "        vertical-align: middle;\n",
              "    }\n",
              "\n",
              "    .dataframe tbody tr th {\n",
              "        vertical-align: top;\n",
              "    }\n",
              "\n",
              "    .dataframe thead th {\n",
              "        text-align: right;\n",
              "    }\n",
              "</style>\n",
              "<table border=\"1\" class=\"dataframe\">\n",
              "  <thead>\n",
              "    <tr style=\"text-align: right;\">\n",
              "      <th></th>\n",
              "      <th>Id</th>\n",
              "      <th>OwnerUserId</th>\n",
              "      <th>CreationDate</th>\n",
              "      <th>ClosedDate</th>\n",
              "      <th>Score</th>\n",
              "      <th>Title</th>\n",
              "      <th>Body</th>\n",
              "    </tr>\n",
              "  </thead>\n",
              "  <tbody>\n",
              "  </tbody>\n",
              "</table>\n",
              "</div>"
            ],
            "text/plain": [
              "Empty DataFrame\n",
              "Columns: [Id, OwnerUserId, CreationDate, ClosedDate, Score, Title, Body]\n",
              "Index: []"
            ]
          },
          "metadata": {
            "tags": []
          },
          "execution_count": 148
        }
      ]
    },
    {
      "cell_type": "code",
      "metadata": {
        "id": "oieqJFpwNzvx",
        "colab_type": "code",
        "colab": {}
      },
      "source": [
        "# Before removing the NaN values from OwnerUserId column, impute the value as zero so that we can decide later whether this can be dropped or not\n",
        "inpQues[\"OwnerUserId\"].fillna(0, inplace = True)"
      ],
      "execution_count": 0,
      "outputs": []
    },
    {
      "cell_type": "code",
      "metadata": {
        "id": "NIZCIBVUN4_3",
        "colab_type": "code",
        "colab": {
          "base_uri": "https://localhost:8080/",
          "height": 399
        },
        "outputId": "138e6797-1164-401a-814c-8debdc0f1219"
      },
      "source": [
        "inpQues[inpQues.OwnerUserId == 0]"
      ],
      "execution_count": 150,
      "outputs": [
        {
          "output_type": "execute_result",
          "data": {
            "text/html": [
              "<div>\n",
              "<style scoped>\n",
              "    .dataframe tbody tr th:only-of-type {\n",
              "        vertical-align: middle;\n",
              "    }\n",
              "\n",
              "    .dataframe tbody tr th {\n",
              "        vertical-align: top;\n",
              "    }\n",
              "\n",
              "    .dataframe thead th {\n",
              "        text-align: right;\n",
              "    }\n",
              "</style>\n",
              "<table border=\"1\" class=\"dataframe\">\n",
              "  <thead>\n",
              "    <tr style=\"text-align: right;\">\n",
              "      <th></th>\n",
              "      <th>Id</th>\n",
              "      <th>OwnerUserId</th>\n",
              "      <th>CreationDate</th>\n",
              "      <th>ClosedDate</th>\n",
              "      <th>Score</th>\n",
              "      <th>Title</th>\n",
              "      <th>Body</th>\n",
              "    </tr>\n",
              "  </thead>\n",
              "  <tbody>\n",
              "    <tr>\n",
              "      <th>47</th>\n",
              "      <td>4170</td>\n",
              "      <td>0.0</td>\n",
              "      <td>2008-08-07T00:25:03Z</td>\n",
              "      <td>NaN</td>\n",
              "      <td>9</td>\n",
              "      <td>How to learn ADO.NET</td>\n",
              "      <td>&lt;p&gt;I need to learn ADO.NET to build applicatio...</td>\n",
              "    </tr>\n",
              "    <tr>\n",
              "      <th>130</th>\n",
              "      <td>12330</td>\n",
              "      <td>0.0</td>\n",
              "      <td>2008-08-15T15:06:31Z</td>\n",
              "      <td>NaN</td>\n",
              "      <td>6</td>\n",
              "      <td>Programmatically list WMI classes and their pr...</td>\n",
              "      <td>&lt;p&gt;Hey everyone, \\nIs there any known way of l...</td>\n",
              "    </tr>\n",
              "    <tr>\n",
              "      <th>158</th>\n",
              "      <td>15190</td>\n",
              "      <td>0.0</td>\n",
              "      <td>2008-08-18T20:32:49Z</td>\n",
              "      <td>NaN</td>\n",
              "      <td>2</td>\n",
              "      <td>Changing CURRENT save/default directory in Del...</td>\n",
              "      <td>&lt;p&gt;I have a project group that contains a proj...</td>\n",
              "    </tr>\n",
              "    <tr>\n",
              "      <th>198</th>\n",
              "      <td>18250</td>\n",
              "      <td>0.0</td>\n",
              "      <td>2008-08-20T15:40:53Z</td>\n",
              "      <td>NaN</td>\n",
              "      <td>0</td>\n",
              "      <td>Creation Date of Compiled Executable (VC++ 2005)</td>\n",
              "      <td>&lt;p&gt;The creation date of an executable linked i...</td>\n",
              "    </tr>\n",
              "    <tr>\n",
              "      <th>300</th>\n",
              "      <td>29100</td>\n",
              "      <td>0.0</td>\n",
              "      <td>2008-08-26T22:28:22Z</td>\n",
              "      <td>NaN</td>\n",
              "      <td>5</td>\n",
              "      <td>How are you generating tests from specifications?</td>\n",
              "      <td>&lt;p&gt;I came across a printed &lt;a href=\"http://www...</td>\n",
              "    </tr>\n",
              "    <tr>\n",
              "      <th>...</th>\n",
              "      <td>...</td>\n",
              "      <td>...</td>\n",
              "      <td>...</td>\n",
              "      <td>...</td>\n",
              "      <td>...</td>\n",
              "      <td>...</td>\n",
              "      <td>...</td>\n",
              "    </tr>\n",
              "    <tr>\n",
              "      <th>1261359</th>\n",
              "      <td>40076260</td>\n",
              "      <td>0.0</td>\n",
              "      <td>2016-10-16T22:38:59Z</td>\n",
              "      <td>NaN</td>\n",
              "      <td>1</td>\n",
              "      <td>How can I find out if two lines overlap?</td>\n",
              "      <td>&lt;p&gt;My function takes two objects that represen...</td>\n",
              "    </tr>\n",
              "    <tr>\n",
              "      <th>1261501</th>\n",
              "      <td>40079260</td>\n",
              "      <td>0.0</td>\n",
              "      <td>2016-10-10T15:10:51Z</td>\n",
              "      <td>NaN</td>\n",
              "      <td>0</td>\n",
              "      <td>VB6.0 \"Run - time error '3709': The connection...</td>\n",
              "      <td>&lt;p&gt;&lt;a href=\"http://i.stack.imgur.com/M2EV8.png...</td>\n",
              "    </tr>\n",
              "    <tr>\n",
              "      <th>1263664</th>\n",
              "      <td>40130890</td>\n",
              "      <td>0.0</td>\n",
              "      <td>2016-10-19T12:02:24Z</td>\n",
              "      <td>2016-10-19T20:52:39Z</td>\n",
              "      <td>-4</td>\n",
              "      <td>How would i change my program so that the colo...</td>\n",
              "      <td>&lt;p&gt;&lt;div class=\"snippet\" data-lang=\"js\" data-hi...</td>\n",
              "    </tr>\n",
              "    <tr>\n",
              "      <th>1263908</th>\n",
              "      <td>40136590</td>\n",
              "      <td>0.0</td>\n",
              "      <td>2016-10-19T13:24:10Z</td>\n",
              "      <td>2016-10-19T16:37:57Z</td>\n",
              "      <td>0</td>\n",
              "      <td>Names of variables inside the 'for loop'</td>\n",
              "      <td>&lt;p&gt;In &lt;strong&gt;my_data&lt;/strong&gt; I want to creat...</td>\n",
              "    </tr>\n",
              "    <tr>\n",
              "      <th>1264010</th>\n",
              "      <td>40138620</td>\n",
              "      <td>0.0</td>\n",
              "      <td>2016-10-19T18:06:37Z</td>\n",
              "      <td>2016-10-19T20:46:58Z</td>\n",
              "      <td>0</td>\n",
              "      <td>Why on iMac bash doesn't see some files</td>\n",
              "      <td>&lt;p&gt;I have iMac and my bash on terminal has .ba...</td>\n",
              "    </tr>\n",
              "  </tbody>\n",
              "</table>\n",
              "<p>14454 rows × 7 columns</p>\n",
              "</div>"
            ],
            "text/plain": [
              "               Id  ...                                               Body\n",
              "47           4170  ...  <p>I need to learn ADO.NET to build applicatio...\n",
              "130         12330  ...  <p>Hey everyone, \\nIs there any known way of l...\n",
              "158         15190  ...  <p>I have a project group that contains a proj...\n",
              "198         18250  ...  <p>The creation date of an executable linked i...\n",
              "300         29100  ...  <p>I came across a printed <a href=\"http://www...\n",
              "...           ...  ...                                                ...\n",
              "1261359  40076260  ...  <p>My function takes two objects that represen...\n",
              "1261501  40079260  ...  <p><a href=\"http://i.stack.imgur.com/M2EV8.png...\n",
              "1263664  40130890  ...  <p><div class=\"snippet\" data-lang=\"js\" data-hi...\n",
              "1263908  40136590  ...  <p>In <strong>my_data</strong> I want to creat...\n",
              "1264010  40138620  ...  <p>I have iMac and my bash on terminal has .ba...\n",
              "\n",
              "[14454 rows x 7 columns]"
            ]
          },
          "metadata": {
            "tags": []
          },
          "execution_count": 150
        }
      ]
    },
    {
      "cell_type": "code",
      "metadata": {
        "id": "Bl8RSf0wN-CY",
        "colab_type": "code",
        "colab": {
          "base_uri": "https://localhost:8080/",
          "height": 159
        },
        "outputId": "c25af7b4-3259-41d9-f1ce-24c737a5b8a2"
      },
      "source": [
        "inpQues.isnull().sum()"
      ],
      "execution_count": 151,
      "outputs": [
        {
          "output_type": "execute_result",
          "data": {
            "text/plain": [
              "Id                    0\n",
              "OwnerUserId           0\n",
              "CreationDate          0\n",
              "ClosedDate      1208257\n",
              "Score                 0\n",
              "Title                 0\n",
              "Body                  0\n",
              "dtype: int64"
            ]
          },
          "metadata": {
            "tags": []
          },
          "execution_count": 151
        }
      ]
    },
    {
      "cell_type": "code",
      "metadata": {
        "id": "gVxWHICNOD16",
        "colab_type": "code",
        "colab": {}
      },
      "source": [
        "inpQues.OwnerUserId = inpQues.OwnerUserId.astype('int64')"
      ],
      "execution_count": 0,
      "outputs": []
    },
    {
      "cell_type": "code",
      "metadata": {
        "id": "TlddOPmMOjmg",
        "colab_type": "code",
        "colab": {
          "base_uri": "https://localhost:8080/",
          "height": 230
        },
        "outputId": "302425d7-a41f-464e-aff9-94deb416215d"
      },
      "source": [
        "inpQues.info()"
      ],
      "execution_count": 153,
      "outputs": [
        {
          "output_type": "stream",
          "text": [
            "<class 'pandas.core.frame.DataFrame'>\n",
            "RangeIndex: 1264216 entries, 0 to 1264215\n",
            "Data columns (total 7 columns):\n",
            "Id              1264216 non-null int64\n",
            "OwnerUserId     1264216 non-null int64\n",
            "CreationDate    1264216 non-null object\n",
            "ClosedDate      55959 non-null object\n",
            "Score           1264216 non-null int64\n",
            "Title           1264216 non-null object\n",
            "Body            1264216 non-null object\n",
            "dtypes: int64(3), object(4)\n",
            "memory usage: 67.5+ MB\n"
          ],
          "name": "stdout"
        }
      ]
    },
    {
      "cell_type": "code",
      "metadata": {
        "id": "jSVfEFhhMXyd",
        "colab_type": "code",
        "colab": {
          "base_uri": "https://localhost:8080/",
          "height": 159
        },
        "outputId": "83a62454-270b-4067-b9e0-87a266fc47d6"
      },
      "source": [
        "# Question Data Set - Null Checks\n",
        "inpQues.isnull().sum()/len(inpQues)*100"
      ],
      "execution_count": 154,
      "outputs": [
        {
          "output_type": "execute_result",
          "data": {
            "text/plain": [
              "Id               0.00000\n",
              "OwnerUserId      0.00000\n",
              "CreationDate     0.00000\n",
              "ClosedDate      95.57362\n",
              "Score            0.00000\n",
              "Title            0.00000\n",
              "Body             0.00000\n",
              "dtype: float64"
            ]
          },
          "metadata": {
            "tags": []
          },
          "execution_count": 154
        }
      ]
    },
    {
      "cell_type": "code",
      "metadata": {
        "id": "dqjShrHSbvsb",
        "colab_type": "code",
        "colab": {}
      },
      "source": [
        "# Convert the CreationDate into DateTime Object so that we can perform data analysis based on date/time values\n",
        "inpQues['CreationDate']=pd.to_datetime(inpQues['CreationDate'])"
      ],
      "execution_count": 0,
      "outputs": []
    },
    {
      "cell_type": "code",
      "metadata": {
        "id": "jOQR4c0_cLgj",
        "colab_type": "code",
        "colab": {}
      },
      "source": [
        "# Convert the ClosedDate into DateTime Object so that we can perform data analysis based on date/time values\n",
        "inpQues['ClosedDate']=pd.to_datetime(inpQues['ClosedDate'])"
      ],
      "execution_count": 0,
      "outputs": []
    },
    {
      "cell_type": "code",
      "metadata": {
        "id": "wIEEp7xiKBI1",
        "colab_type": "code",
        "colab": {}
      },
      "source": [
        "# Create a new column to identify which are the Open questions from the dataset that doesn't have a closed date. We can identify the questions that are still not closed yet\n",
        "inpQues['IsQuestionOpen'] = inpQues.apply(lambda row: \"N\" if pd.notnull(row.ClosedDate) else \"Y\", axis=1)"
      ],
      "execution_count": 0,
      "outputs": []
    },
    {
      "cell_type": "code",
      "metadata": {
        "id": "RMBVanBLor5w",
        "colab_type": "code",
        "colab": {
          "base_uri": "https://localhost:8080/",
          "height": 248
        },
        "outputId": "a35205f8-7ed6-4ad0-efe4-038f7a2c6548"
      },
      "source": [
        "inpQues.info()"
      ],
      "execution_count": 158,
      "outputs": [
        {
          "output_type": "stream",
          "text": [
            "<class 'pandas.core.frame.DataFrame'>\n",
            "RangeIndex: 1264216 entries, 0 to 1264215\n",
            "Data columns (total 8 columns):\n",
            "Id                1264216 non-null int64\n",
            "OwnerUserId       1264216 non-null int64\n",
            "CreationDate      1264216 non-null datetime64[ns, UTC]\n",
            "ClosedDate        55959 non-null datetime64[ns, UTC]\n",
            "Score             1264216 non-null int64\n",
            "Title             1264216 non-null object\n",
            "Body              1264216 non-null object\n",
            "IsQuestionOpen    1264216 non-null object\n",
            "dtypes: datetime64[ns, UTC](2), int64(3), object(3)\n",
            "memory usage: 77.2+ MB\n"
          ],
          "name": "stdout"
        }
      ]
    },
    {
      "cell_type": "code",
      "metadata": {
        "id": "F3YUb9Bpc-jW",
        "colab_type": "code",
        "colab": {}
      },
      "source": [
        "\n"
      ],
      "execution_count": 0,
      "outputs": []
    },
    {
      "cell_type": "code",
      "metadata": {
        "id": "4VhgdXRN7f_r",
        "colab_type": "code",
        "outputId": "d2a6a694-6b2d-48ef-aaf4-f9c15678e8dd",
        "colab": {
          "base_uri": "https://localhost:8080/",
          "height": 194
        }
      },
      "source": [
        "inpQues.head(5)"
      ],
      "execution_count": 160,
      "outputs": [
        {
          "output_type": "execute_result",
          "data": {
            "text/html": [
              "<div>\n",
              "<style scoped>\n",
              "    .dataframe tbody tr th:only-of-type {\n",
              "        vertical-align: middle;\n",
              "    }\n",
              "\n",
              "    .dataframe tbody tr th {\n",
              "        vertical-align: top;\n",
              "    }\n",
              "\n",
              "    .dataframe thead th {\n",
              "        text-align: right;\n",
              "    }\n",
              "</style>\n",
              "<table border=\"1\" class=\"dataframe\">\n",
              "  <thead>\n",
              "    <tr style=\"text-align: right;\">\n",
              "      <th></th>\n",
              "      <th>Id</th>\n",
              "      <th>OwnerUserId</th>\n",
              "      <th>CreationDate</th>\n",
              "      <th>ClosedDate</th>\n",
              "      <th>Score</th>\n",
              "      <th>Title</th>\n",
              "      <th>Body</th>\n",
              "      <th>IsQuestionOpen</th>\n",
              "    </tr>\n",
              "  </thead>\n",
              "  <tbody>\n",
              "    <tr>\n",
              "      <th>0</th>\n",
              "      <td>80</td>\n",
              "      <td>26</td>\n",
              "      <td>2008-08-01 13:57:07+00:00</td>\n",
              "      <td>NaT</td>\n",
              "      <td>26</td>\n",
              "      <td>SQLStatement.execute() - multiple queries in o...</td>\n",
              "      <td>&lt;p&gt;I've written a database generation script i...</td>\n",
              "      <td>Y</td>\n",
              "    </tr>\n",
              "    <tr>\n",
              "      <th>1</th>\n",
              "      <td>90</td>\n",
              "      <td>58</td>\n",
              "      <td>2008-08-01 14:41:24+00:00</td>\n",
              "      <td>2012-12-26 03:45:49+00:00</td>\n",
              "      <td>144</td>\n",
              "      <td>Good branching and merging tutorials for Torto...</td>\n",
              "      <td>&lt;p&gt;Are there any really good tutorials explain...</td>\n",
              "      <td>N</td>\n",
              "    </tr>\n",
              "    <tr>\n",
              "      <th>2</th>\n",
              "      <td>120</td>\n",
              "      <td>83</td>\n",
              "      <td>2008-08-01 15:50:08+00:00</td>\n",
              "      <td>NaT</td>\n",
              "      <td>21</td>\n",
              "      <td>ASP.NET Site Maps</td>\n",
              "      <td>&lt;p&gt;Has anyone got experience creating &lt;strong&gt;...</td>\n",
              "      <td>Y</td>\n",
              "    </tr>\n",
              "    <tr>\n",
              "      <th>3</th>\n",
              "      <td>180</td>\n",
              "      <td>2089740</td>\n",
              "      <td>2008-08-01 18:42:19+00:00</td>\n",
              "      <td>NaT</td>\n",
              "      <td>53</td>\n",
              "      <td>Function for creating color wheels</td>\n",
              "      <td>&lt;p&gt;This is something I've pseudo-solved many t...</td>\n",
              "      <td>Y</td>\n",
              "    </tr>\n",
              "    <tr>\n",
              "      <th>4</th>\n",
              "      <td>260</td>\n",
              "      <td>91</td>\n",
              "      <td>2008-08-01 23:22:08+00:00</td>\n",
              "      <td>NaT</td>\n",
              "      <td>49</td>\n",
              "      <td>Adding scripting functionality to .NET applica...</td>\n",
              "      <td>&lt;p&gt;I have a little game written in C#. It uses...</td>\n",
              "      <td>Y</td>\n",
              "    </tr>\n",
              "  </tbody>\n",
              "</table>\n",
              "</div>"
            ],
            "text/plain": [
              "    Id  ...  IsQuestionOpen\n",
              "0   80  ...               Y\n",
              "1   90  ...               N\n",
              "2  120  ...               Y\n",
              "3  180  ...               Y\n",
              "4  260  ...               Y\n",
              "\n",
              "[5 rows x 8 columns]"
            ]
          },
          "metadata": {
            "tags": []
          },
          "execution_count": 160
        }
      ]
    },
    {
      "cell_type": "code",
      "metadata": {
        "id": "hlpu3pMiSbuR",
        "colab_type": "code",
        "colab": {
          "base_uri": "https://localhost:8080/",
          "height": 70
        },
        "outputId": "d2917088-0373-40a3-ac0a-fc6c3323eee2"
      },
      "source": [
        "# Before that check if there any nulls in inpQuesTags dataset\n",
        "inpQuesTags.isnull().sum()/len(inpQuesTags)*100"
      ],
      "execution_count": 159,
      "outputs": [
        {
          "output_type": "execute_result",
          "data": {
            "text/plain": [
              "Id     0.000000\n",
              "Tag    0.029672\n",
              "dtype: float64"
            ]
          },
          "metadata": {
            "tags": []
          },
          "execution_count": 159
        }
      ]
    },
    {
      "cell_type": "code",
      "metadata": {
        "id": "tx6X8EXCTAKB",
        "colab_type": "code",
        "colab": {}
      },
      "source": [
        "# Before removing the NaN values from Tag column, impute the value to undefined so that we can decide later whether this can be dropped or not\n",
        "inpQuesTags[\"Tag\"].fillna(\"undefined\", inplace = True)"
      ],
      "execution_count": 0,
      "outputs": []
    },
    {
      "cell_type": "code",
      "metadata": {
        "id": "wFPoyHUpTm1e",
        "colab_type": "code",
        "colab": {
          "base_uri": "https://localhost:8080/",
          "height": 70
        },
        "outputId": "5cc79731-1d9d-42d0-8815-d42c3eb64cbd"
      },
      "source": [
        "# Before that check if there any nulls in inpQuesTags dataset\n",
        "inpQuesTags.isnull().sum()/len(inpQuesTags)*100"
      ],
      "execution_count": 162,
      "outputs": [
        {
          "output_type": "execute_result",
          "data": {
            "text/plain": [
              "Id     0.0\n",
              "Tag    0.0\n",
              "dtype: float64"
            ]
          },
          "metadata": {
            "tags": []
          },
          "execution_count": 162
        }
      ]
    },
    {
      "cell_type": "code",
      "metadata": {
        "id": "n26HzvIJZguc",
        "colab_type": "code",
        "colab": {
          "base_uri": "https://localhost:8080/",
          "height": 399
        },
        "outputId": "97f75304-95ec-45bb-8932-5a3c13c2d3a9"
      },
      "source": [
        "inpQuesTags[inpQuesTags.Tag=='undefined']"
      ],
      "execution_count": 163,
      "outputs": [
        {
          "output_type": "execute_result",
          "data": {
            "text/html": [
              "<div>\n",
              "<style scoped>\n",
              "    .dataframe tbody tr th:only-of-type {\n",
              "        vertical-align: middle;\n",
              "    }\n",
              "\n",
              "    .dataframe tbody tr th {\n",
              "        vertical-align: top;\n",
              "    }\n",
              "\n",
              "    .dataframe thead th {\n",
              "        text-align: right;\n",
              "    }\n",
              "</style>\n",
              "<table border=\"1\" class=\"dataframe\">\n",
              "  <thead>\n",
              "    <tr style=\"text-align: right;\">\n",
              "      <th></th>\n",
              "      <th>Id</th>\n",
              "      <th>Tag</th>\n",
              "    </tr>\n",
              "  </thead>\n",
              "  <tbody>\n",
              "    <tr>\n",
              "      <th>947</th>\n",
              "      <td>32280</td>\n",
              "      <td>undefined</td>\n",
              "    </tr>\n",
              "    <tr>\n",
              "      <th>4755</th>\n",
              "      <td>140030</td>\n",
              "      <td>undefined</td>\n",
              "    </tr>\n",
              "    <tr>\n",
              "      <th>6892</th>\n",
              "      <td>191640</td>\n",
              "      <td>undefined</td>\n",
              "    </tr>\n",
              "    <tr>\n",
              "      <th>11107</th>\n",
              "      <td>283190</td>\n",
              "      <td>undefined</td>\n",
              "    </tr>\n",
              "    <tr>\n",
              "      <th>11570</th>\n",
              "      <td>291340</td>\n",
              "      <td>undefined</td>\n",
              "    </tr>\n",
              "    <tr>\n",
              "      <th>...</th>\n",
              "      <td>...</td>\n",
              "      <td>...</td>\n",
              "    </tr>\n",
              "    <tr>\n",
              "      <th>3731254</th>\n",
              "      <td>39987010</td>\n",
              "      <td>undefined</td>\n",
              "    </tr>\n",
              "    <tr>\n",
              "      <th>3731869</th>\n",
              "      <td>39992410</td>\n",
              "      <td>undefined</td>\n",
              "    </tr>\n",
              "    <tr>\n",
              "      <th>3733313</th>\n",
              "      <td>40002640</td>\n",
              "      <td>undefined</td>\n",
              "    </tr>\n",
              "    <tr>\n",
              "      <th>3747098</th>\n",
              "      <td>40111540</td>\n",
              "      <td>undefined</td>\n",
              "    </tr>\n",
              "    <tr>\n",
              "      <th>3749294</th>\n",
              "      <td>40130770</td>\n",
              "      <td>undefined</td>\n",
              "    </tr>\n",
              "  </tbody>\n",
              "</table>\n",
              "<p>1491 rows × 2 columns</p>\n",
              "</div>"
            ],
            "text/plain": [
              "               Id        Tag\n",
              "947         32280  undefined\n",
              "4755       140030  undefined\n",
              "6892       191640  undefined\n",
              "11107      283190  undefined\n",
              "11570      291340  undefined\n",
              "...           ...        ...\n",
              "3731254  39987010  undefined\n",
              "3731869  39992410  undefined\n",
              "3733313  40002640  undefined\n",
              "3747098  40111540  undefined\n",
              "3749294  40130770  undefined\n",
              "\n",
              "[1491 rows x 2 columns]"
            ]
          },
          "metadata": {
            "tags": []
          },
          "execution_count": 163
        }
      ]
    },
    {
      "cell_type": "code",
      "metadata": {
        "id": "c_t_bkW2Tvbs",
        "colab_type": "code",
        "colab": {}
      },
      "source": [
        "# Check whether there are any duplicate rows in the inpQuesTags data set\n",
        "DuplicatedTag = inpQuesTags[inpQuesTags.duplicated(subset=None, keep='first')]"
      ],
      "execution_count": 0,
      "outputs": []
    },
    {
      "cell_type": "code",
      "metadata": {
        "id": "ygat-nTHUUn5",
        "colab_type": "code",
        "colab": {
          "base_uri": "https://localhost:8080/",
          "height": 35
        },
        "outputId": "d5e30c88-6498-4746-f879-0d7905bdf6f7"
      },
      "source": [
        "len(DuplicatedTag)"
      ],
      "execution_count": 165,
      "outputs": [
        {
          "output_type": "execute_result",
          "data": {
            "text/plain": [
              "13"
            ]
          },
          "metadata": {
            "tags": []
          },
          "execution_count": 165
        }
      ]
    },
    {
      "cell_type": "code",
      "metadata": {
        "id": "OEX12yV3Ww-k",
        "colab_type": "code",
        "colab": {
          "base_uri": "https://localhost:8080/",
          "height": 428
        },
        "outputId": "9071c51d-269b-4663-f13b-8095f60fa01f"
      },
      "source": [
        "DuplicatedTag"
      ],
      "execution_count": 166,
      "outputs": [
        {
          "output_type": "execute_result",
          "data": {
            "text/html": [
              "<div>\n",
              "<style scoped>\n",
              "    .dataframe tbody tr th:only-of-type {\n",
              "        vertical-align: middle;\n",
              "    }\n",
              "\n",
              "    .dataframe tbody tr th {\n",
              "        vertical-align: top;\n",
              "    }\n",
              "\n",
              "    .dataframe thead th {\n",
              "        text-align: right;\n",
              "    }\n",
              "</style>\n",
              "<table border=\"1\" class=\"dataframe\">\n",
              "  <thead>\n",
              "    <tr style=\"text-align: right;\">\n",
              "      <th></th>\n",
              "      <th>Id</th>\n",
              "      <th>Tag</th>\n",
              "    </tr>\n",
              "  </thead>\n",
              "  <tbody>\n",
              "    <tr>\n",
              "      <th>105260</th>\n",
              "      <td>1828130</td>\n",
              "      <td>undefined</td>\n",
              "    </tr>\n",
              "    <tr>\n",
              "      <th>395137</th>\n",
              "      <td>5515310</td>\n",
              "      <td>undefined</td>\n",
              "    </tr>\n",
              "    <tr>\n",
              "      <th>564961</th>\n",
              "      <td>7486530</td>\n",
              "      <td>undefined</td>\n",
              "    </tr>\n",
              "    <tr>\n",
              "      <th>1237665</th>\n",
              "      <td>14965450</td>\n",
              "      <td>undefined</td>\n",
              "    </tr>\n",
              "    <tr>\n",
              "      <th>1596213</th>\n",
              "      <td>18931930</td>\n",
              "      <td>undefined</td>\n",
              "    </tr>\n",
              "    <tr>\n",
              "      <th>1785132</th>\n",
              "      <td>21001320</td>\n",
              "      <td>undefined</td>\n",
              "    </tr>\n",
              "    <tr>\n",
              "      <th>1785133</th>\n",
              "      <td>21001320</td>\n",
              "      <td>undefined</td>\n",
              "    </tr>\n",
              "    <tr>\n",
              "      <th>1911014</th>\n",
              "      <td>22331830</td>\n",
              "      <td>undefined</td>\n",
              "    </tr>\n",
              "    <tr>\n",
              "      <th>1979513</th>\n",
              "      <td>23048910</td>\n",
              "      <td>undefined</td>\n",
              "    </tr>\n",
              "    <tr>\n",
              "      <th>2006547</th>\n",
              "      <td>23335580</td>\n",
              "      <td>undefined</td>\n",
              "    </tr>\n",
              "    <tr>\n",
              "      <th>2374312</th>\n",
              "      <td>27175800</td>\n",
              "      <td>undefined</td>\n",
              "    </tr>\n",
              "    <tr>\n",
              "      <th>2458029</th>\n",
              "      <td>28055770</td>\n",
              "      <td>undefined</td>\n",
              "    </tr>\n",
              "    <tr>\n",
              "      <th>3466157</th>\n",
              "      <td>37686380</td>\n",
              "      <td>undefined</td>\n",
              "    </tr>\n",
              "  </tbody>\n",
              "</table>\n",
              "</div>"
            ],
            "text/plain": [
              "               Id        Tag\n",
              "105260    1828130  undefined\n",
              "395137    5515310  undefined\n",
              "564961    7486530  undefined\n",
              "1237665  14965450  undefined\n",
              "1596213  18931930  undefined\n",
              "1785132  21001320  undefined\n",
              "1785133  21001320  undefined\n",
              "1911014  22331830  undefined\n",
              "1979513  23048910  undefined\n",
              "2006547  23335580  undefined\n",
              "2374312  27175800  undefined\n",
              "2458029  28055770  undefined\n",
              "3466157  37686380  undefined"
            ]
          },
          "metadata": {
            "tags": []
          },
          "execution_count": 166
        }
      ]
    },
    {
      "cell_type": "code",
      "metadata": {
        "id": "U95CyoQiVTeD",
        "colab_type": "code",
        "colab": {
          "base_uri": "https://localhost:8080/",
          "height": 135
        },
        "outputId": "d5d80353-ea76-4cd4-9a40-814d11c4c13d"
      },
      "source": [
        "inpQuesTags[inpQuesTags.Id == 5515310]"
      ],
      "execution_count": 167,
      "outputs": [
        {
          "output_type": "execute_result",
          "data": {
            "text/html": [
              "<div>\n",
              "<style scoped>\n",
              "    .dataframe tbody tr th:only-of-type {\n",
              "        vertical-align: middle;\n",
              "    }\n",
              "\n",
              "    .dataframe tbody tr th {\n",
              "        vertical-align: top;\n",
              "    }\n",
              "\n",
              "    .dataframe thead th {\n",
              "        text-align: right;\n",
              "    }\n",
              "</style>\n",
              "<table border=\"1\" class=\"dataframe\">\n",
              "  <thead>\n",
              "    <tr style=\"text-align: right;\">\n",
              "      <th></th>\n",
              "      <th>Id</th>\n",
              "      <th>Tag</th>\n",
              "    </tr>\n",
              "  </thead>\n",
              "  <tbody>\n",
              "    <tr>\n",
              "      <th>395135</th>\n",
              "      <td>5515310</td>\n",
              "      <td>javascript</td>\n",
              "    </tr>\n",
              "    <tr>\n",
              "      <th>395136</th>\n",
              "      <td>5515310</td>\n",
              "      <td>undefined</td>\n",
              "    </tr>\n",
              "    <tr>\n",
              "      <th>395137</th>\n",
              "      <td>5515310</td>\n",
              "      <td>undefined</td>\n",
              "    </tr>\n",
              "  </tbody>\n",
              "</table>\n",
              "</div>"
            ],
            "text/plain": [
              "             Id         Tag\n",
              "395135  5515310  javascript\n",
              "395136  5515310   undefined\n",
              "395137  5515310   undefined"
            ]
          },
          "metadata": {
            "tags": []
          },
          "execution_count": 167
        }
      ]
    },
    {
      "cell_type": "code",
      "metadata": {
        "id": "XIZO-a7JW40D",
        "colab_type": "code",
        "colab": {}
      },
      "source": [
        "inpQuesTags.drop(inpQuesTags.index[1785133],inplace=True)"
      ],
      "execution_count": 0,
      "outputs": []
    },
    {
      "cell_type": "code",
      "metadata": {
        "id": "jL4WJ-LAXC71",
        "colab_type": "code",
        "colab": {
          "base_uri": "https://localhost:8080/",
          "height": 164
        },
        "outputId": "42b7790b-f3fa-4d93-a97c-5603d073c74f"
      },
      "source": [
        "inpQuesTags[inpQuesTags.Id == 21001320]"
      ],
      "execution_count": 95,
      "outputs": [
        {
          "output_type": "execute_result",
          "data": {
            "text/html": [
              "<div>\n",
              "<style scoped>\n",
              "    .dataframe tbody tr th:only-of-type {\n",
              "        vertical-align: middle;\n",
              "    }\n",
              "\n",
              "    .dataframe tbody tr th {\n",
              "        vertical-align: top;\n",
              "    }\n",
              "\n",
              "    .dataframe thead th {\n",
              "        text-align: right;\n",
              "    }\n",
              "</style>\n",
              "<table border=\"1\" class=\"dataframe\">\n",
              "  <thead>\n",
              "    <tr style=\"text-align: right;\">\n",
              "      <th></th>\n",
              "      <th>Id</th>\n",
              "      <th>Tag</th>\n",
              "    </tr>\n",
              "  </thead>\n",
              "  <tbody>\n",
              "    <tr>\n",
              "      <th>1785130</th>\n",
              "      <td>21001320</td>\n",
              "      <td>javascript</td>\n",
              "    </tr>\n",
              "    <tr>\n",
              "      <th>1785131</th>\n",
              "      <td>21001320</td>\n",
              "      <td>NA</td>\n",
              "    </tr>\n",
              "    <tr>\n",
              "      <th>1785132</th>\n",
              "      <td>21001320</td>\n",
              "      <td>undefined</td>\n",
              "    </tr>\n",
              "    <tr>\n",
              "      <th>1785134</th>\n",
              "      <td>21001320</td>\n",
              "      <td>zero</td>\n",
              "    </tr>\n",
              "  </tbody>\n",
              "</table>\n",
              "</div>"
            ],
            "text/plain": [
              "               Id         Tag\n",
              "1785130  21001320  javascript\n",
              "1785131  21001320          NA\n",
              "1785132  21001320   undefined\n",
              "1785134  21001320        zero"
            ]
          },
          "metadata": {
            "tags": []
          },
          "execution_count": 95
        }
      ]
    },
    {
      "cell_type": "code",
      "metadata": {
        "id": "Bpt2gWSGaTeS",
        "colab_type": "code",
        "colab": {}
      },
      "source": [
        "inpQuesTags.drop_duplicates(subset=None, keep='first', inplace=True)"
      ],
      "execution_count": 0,
      "outputs": []
    },
    {
      "cell_type": "code",
      "metadata": {
        "id": "GE0AF98Bae2Q",
        "colab_type": "code",
        "colab": {}
      },
      "source": [
        "DuplicatedTag = inpQuesTags[inpQuesTags.duplicated(subset=None, keep='first')]"
      ],
      "execution_count": 0,
      "outputs": []
    },
    {
      "cell_type": "code",
      "metadata": {
        "id": "nhj1ZD7aa667",
        "colab_type": "code",
        "colab": {
          "base_uri": "https://localhost:8080/",
          "height": 248
        },
        "outputId": "7f7daec9-4c50-4630-b65b-7a9c2790b652"
      },
      "source": [
        "inpQues.info()"
      ],
      "execution_count": 170,
      "outputs": [
        {
          "output_type": "stream",
          "text": [
            "<class 'pandas.core.frame.DataFrame'>\n",
            "RangeIndex: 1264216 entries, 0 to 1264215\n",
            "Data columns (total 8 columns):\n",
            "Id                1264216 non-null int64\n",
            "OwnerUserId       1264216 non-null int64\n",
            "CreationDate      1264216 non-null datetime64[ns, UTC]\n",
            "ClosedDate        55959 non-null datetime64[ns, UTC]\n",
            "Score             1264216 non-null int64\n",
            "Title             1264216 non-null object\n",
            "Body              1264216 non-null object\n",
            "IsQuestionOpen    1264216 non-null object\n",
            "dtypes: datetime64[ns, UTC](2), int64(3), object(3)\n",
            "memory usage: 77.2+ MB\n"
          ],
          "name": "stdout"
        }
      ]
    },
    {
      "cell_type": "code",
      "metadata": {
        "id": "RcD0PA5Ga-HT",
        "colab_type": "code",
        "colab": {
          "base_uri": "https://localhost:8080/",
          "height": 141
        },
        "outputId": "e5141644-25dd-48c1-9065-57ebfc3ce4c6"
      },
      "source": [
        "inpQuesTags.info()"
      ],
      "execution_count": 171,
      "outputs": [
        {
          "output_type": "stream",
          "text": [
            "<class 'pandas.core.frame.DataFrame'>\n",
            "Int64Index: 3750981 entries, 0 to 3750993\n",
            "Data columns (total 2 columns):\n",
            "Id     int64\n",
            "Tag    object\n",
            "dtypes: int64(1), object(1)\n",
            "memory usage: 85.9+ MB\n"
          ],
          "name": "stdout"
        }
      ]
    },
    {
      "cell_type": "code",
      "metadata": {
        "id": "Cajcs3WgbPeg",
        "colab_type": "code",
        "colab": {
          "base_uri": "https://localhost:8080/",
          "height": 35
        },
        "outputId": "4f0ce8ec-6710-4e71-b5c2-254250063ac7"
      },
      "source": [
        "mylist = inpQuesTags[inpQuesTags.Id == 21001320].transpose().values.tolist()[1]\n",
        "mystr = ','.join(mylist)\n",
        "mystr"
      ],
      "execution_count": 172,
      "outputs": [
        {
          "output_type": "execute_result",
          "data": {
            "text/plain": [
              "'javascript,undefined,zero'"
            ]
          },
          "metadata": {
            "tags": []
          },
          "execution_count": 172
        }
      ]
    },
    {
      "cell_type": "code",
      "metadata": {
        "id": "evTOl_CBTsNU",
        "colab_type": "code",
        "colab": {}
      },
      "source": [
        "# Before finding all the questionS which are tagged under DataScience, create a new column in Question DataSet to hold whether the question belongs to a data Science or not\n",
        "# Set the value as N by default\n",
        "inpQues['IsDataScience'] = 'N'"
      ],
      "execution_count": 0,
      "outputs": []
    },
    {
      "cell_type": "code",
      "metadata": {
        "id": "c3uq2Op5xMMy",
        "colab_type": "code",
        "colab": {}
      },
      "source": [
        "#Time Taken to Close a question - Set as Zero\n",
        "inpQues['TimeTakenToClose']=0"
      ],
      "execution_count": 0,
      "outputs": []
    },
    {
      "cell_type": "code",
      "metadata": {
        "id": "TF2FeynFkCgl",
        "colab_type": "code",
        "colab": {
          "base_uri": "https://localhost:8080/",
          "height": 194
        },
        "outputId": "eefa5501-f6ef-4945-a6ce-80d4d3f190fd"
      },
      "source": [
        "inpQues.head(5)"
      ],
      "execution_count": 191,
      "outputs": [
        {
          "output_type": "execute_result",
          "data": {
            "text/html": [
              "<div>\n",
              "<style scoped>\n",
              "    .dataframe tbody tr th:only-of-type {\n",
              "        vertical-align: middle;\n",
              "    }\n",
              "\n",
              "    .dataframe tbody tr th {\n",
              "        vertical-align: top;\n",
              "    }\n",
              "\n",
              "    .dataframe thead th {\n",
              "        text-align: right;\n",
              "    }\n",
              "</style>\n",
              "<table border=\"1\" class=\"dataframe\">\n",
              "  <thead>\n",
              "    <tr style=\"text-align: right;\">\n",
              "      <th></th>\n",
              "      <th>Id</th>\n",
              "      <th>OwnerUserId</th>\n",
              "      <th>CreationDate</th>\n",
              "      <th>ClosedDate</th>\n",
              "      <th>Score</th>\n",
              "      <th>Title</th>\n",
              "      <th>Body</th>\n",
              "      <th>IsQuestionOpen</th>\n",
              "      <th>IsDataScience</th>\n",
              "    </tr>\n",
              "  </thead>\n",
              "  <tbody>\n",
              "    <tr>\n",
              "      <th>0</th>\n",
              "      <td>80</td>\n",
              "      <td>26</td>\n",
              "      <td>2008-08-01 13:57:07+00:00</td>\n",
              "      <td>NaT</td>\n",
              "      <td>26</td>\n",
              "      <td>SQLStatement.execute() - multiple queries in o...</td>\n",
              "      <td>&lt;p&gt;I've written a database generation script i...</td>\n",
              "      <td>Y</td>\n",
              "      <td>N</td>\n",
              "    </tr>\n",
              "    <tr>\n",
              "      <th>1</th>\n",
              "      <td>90</td>\n",
              "      <td>58</td>\n",
              "      <td>2008-08-01 14:41:24+00:00</td>\n",
              "      <td>2012-12-26 03:45:49+00:00</td>\n",
              "      <td>144</td>\n",
              "      <td>Good branching and merging tutorials for Torto...</td>\n",
              "      <td>&lt;p&gt;Are there any really good tutorials explain...</td>\n",
              "      <td>N</td>\n",
              "      <td>N</td>\n",
              "    </tr>\n",
              "    <tr>\n",
              "      <th>2</th>\n",
              "      <td>120</td>\n",
              "      <td>83</td>\n",
              "      <td>2008-08-01 15:50:08+00:00</td>\n",
              "      <td>NaT</td>\n",
              "      <td>21</td>\n",
              "      <td>ASP.NET Site Maps</td>\n",
              "      <td>&lt;p&gt;Has anyone got experience creating &lt;strong&gt;...</td>\n",
              "      <td>Y</td>\n",
              "      <td>N</td>\n",
              "    </tr>\n",
              "    <tr>\n",
              "      <th>3</th>\n",
              "      <td>180</td>\n",
              "      <td>2089740</td>\n",
              "      <td>2008-08-01 18:42:19+00:00</td>\n",
              "      <td>NaT</td>\n",
              "      <td>53</td>\n",
              "      <td>Function for creating color wheels</td>\n",
              "      <td>&lt;p&gt;This is something I've pseudo-solved many t...</td>\n",
              "      <td>Y</td>\n",
              "      <td>N</td>\n",
              "    </tr>\n",
              "    <tr>\n",
              "      <th>4</th>\n",
              "      <td>260</td>\n",
              "      <td>91</td>\n",
              "      <td>2008-08-01 23:22:08+00:00</td>\n",
              "      <td>NaT</td>\n",
              "      <td>49</td>\n",
              "      <td>Adding scripting functionality to .NET applica...</td>\n",
              "      <td>&lt;p&gt;I have a little game written in C#. It uses...</td>\n",
              "      <td>Y</td>\n",
              "      <td>N</td>\n",
              "    </tr>\n",
              "  </tbody>\n",
              "</table>\n",
              "</div>"
            ],
            "text/plain": [
              "    Id  OwnerUserId  ... IsQuestionOpen IsDataScience\n",
              "0   80           26  ...              Y             N\n",
              "1   90           58  ...              N             N\n",
              "2  120           83  ...              Y             N\n",
              "3  180      2089740  ...              Y             N\n",
              "4  260           91  ...              Y             N\n",
              "\n",
              "[5 rows x 9 columns]"
            ]
          },
          "metadata": {
            "tags": []
          },
          "execution_count": 191
        }
      ]
    },
    {
      "cell_type": "code",
      "metadata": {
        "id": "IJsHsuhya9M7",
        "colab_type": "code",
        "colab": {}
      },
      "source": [
        "dataScienceTagList=['r', 'matlab', 'excel','sql', 'sas', 'python']\n",
        "dataScienceTagList\n",
        "# Impute in a new column whether the Question belongs to the DataScience Category or not in the Questions DataSet\n",
        "for dataScienceTag in dataScienceTagList:\n",
        "  QuestionList = inpQuesTags[inpQuesTags['Tag'].str.lower()==dataScienceTag].Id.tolist()\n",
        "  inpQues.loc[inpQues.Id.isin(QuestionList),\"IsDataScience\"]=\"Y\"\n",
        "  #QuestionsMatchedWithTags = inpQues[inpQues.Id.isin(QuestionList)]\n",
        "  #QuestionsMatchedWithTags['IsDataScience']='Y'"
      ],
      "execution_count": 0,
      "outputs": []
    },
    {
      "cell_type": "code",
      "metadata": {
        "id": "7mxl1qg2mxmq",
        "colab_type": "code",
        "colab": {
          "base_uri": "https://localhost:8080/",
          "height": 281
        },
        "outputId": "f3345cb2-2154-401e-b547-05bde9ceecaa"
      },
      "source": [
        "# % of Questions related to Data Science and Non-DataScience\n",
        "inpQues.IsDataScience.value_counts(normalize=True).plot(kind=\"bar\")"
      ],
      "execution_count": 218,
      "outputs": [
        {
          "output_type": "execute_result",
          "data": {
            "text/plain": [
              "<matplotlib.axes._subplots.AxesSubplot at 0x7fe5f82bf9e8>"
            ]
          },
          "metadata": {
            "tags": []
          },
          "execution_count": 218
        },
        {
          "output_type": "display_data",
          "data": {
            "image/png": "[encoded data removed]",
            "text/plain": [
              "<Figure size 432x288 with 1 Axes>"
            ]
          },
          "metadata": {
            "tags": []
          }
        }
      ]
    },
    {
      "cell_type": "code",
      "metadata": {
        "id": "RWAJU88KsPZV",
        "colab_type": "code",
        "colab": {
          "base_uri": "https://localhost:8080/",
          "height": 70
        },
        "outputId": "5e4e997c-2d78-4cba-cbcc-43c886d0072d"
      },
      "source": [
        "# of Questions still open in DataScience\n",
        "inpQues[inpQues.IsDataScience=='Y'].IsQuestionOpen.value_counts()"
      ],
      "execution_count": 205,
      "outputs": [
        {
          "output_type": "execute_result",
          "data": {
            "text/plain": [
              "Y    125110\n",
              "N      6965\n",
              "Name: IsQuestionOpen, dtype: int64"
            ]
          },
          "metadata": {
            "tags": []
          },
          "execution_count": 205
        }
      ]
    },
    {
      "cell_type": "code",
      "metadata": {
        "colab_type": "code",
        "outputId": "e3858f7e-bc55-4c75-ef84-9e7697aacf47",
        "id": "yyLwVVkIs6if",
        "colab": {
          "base_uri": "https://localhost:8080/",
          "height": 281
        }
      },
      "source": [
        "# % of Questions related to Data Science and Non-DataScience\n",
        "inpQues.IsDataScience.value_counts(normalize=True).plot(kind=\"bar\")"
      ],
      "execution_count": 204,
      "outputs": [
        {
          "output_type": "execute_result",
          "data": {
            "text/plain": [
              "<matplotlib.axes._subplots.AxesSubplot at 0x7fe5f322f4e0>"
            ]
          },
          "metadata": {
            "tags": []
          },
          "execution_count": 204
        },
        {
          "output_type": "display_data",
          "data": {
            "image/png": "[encoded data removed]",
            "text/plain": [
              "<Figure size 432x288 with 1 Axes>"
            ]
          },
          "metadata": {
            "tags": []
          }
        }
      ]
    },
    {
      "cell_type": "code",
      "metadata": {
        "id": "-vNQRtvttA0_",
        "colab_type": "code",
        "colab": {}
      },
      "source": [
        "# Calculate the Time Taken to Close a question\n",
        "inpQues['TimeTakenToClose']=(inpQues['ClosedDate']-inpQues['CreationDate']).dt.days"
      ],
      "execution_count": 0,
      "outputs": []
    },
    {
      "cell_type": "code",
      "metadata": {
        "id": "r4kt5awSuA6J",
        "colab_type": "code",
        "colab": {
          "base_uri": "https://localhost:8080/",
          "height": 35
        },
        "outputId": "80c9add3-f935-488b-8299-938448620fe6"
      },
      "source": [
        "# Average Time Taken to Close a Data Science Question\n",
        "inpQues[(inpQues.IsDataScience=='Y') & (inpQues.IsQuestionOpen=='N')].TimeTakenToClose.mean()"
      ],
      "execution_count": 229,
      "outputs": [
        {
          "output_type": "execute_result",
          "data": {
            "text/plain": [
              "83.86977745872218"
            ]
          },
          "metadata": {
            "tags": []
          },
          "execution_count": 229
        }
      ]
    },
    {
      "cell_type": "code",
      "metadata": {
        "id": "82Rk6Xi4y1tn",
        "colab_type": "code",
        "colab": {
          "base_uri": "https://localhost:8080/",
          "height": 35
        },
        "outputId": "13ac5dc1-08f4-4a4c-e858-17d783c0b77f"
      },
      "source": [
        "# Average Time Taken to Close a Question\n",
        "inpQues.TimeTakenToClose.mean()"
      ],
      "execution_count": 234,
      "outputs": [
        {
          "output_type": "execute_result",
          "data": {
            "text/plain": [
              "137.7620221948212"
            ]
          },
          "metadata": {
            "tags": []
          },
          "execution_count": 234
        }
      ]
    },
    {
      "cell_type": "code",
      "metadata": {
        "id": "SlhRBLG0zjdF",
        "colab_type": "code",
        "colab": {
          "base_uri": "https://localhost:8080/",
          "height": 35
        },
        "outputId": "fb1699dc-0ff0-4062-cd6c-4e4fa26cc269"
      },
      "source": [
        "# Average Score for a Data Science Question that is closed\n",
        "inpQues[(inpQues.IsDataScience=='Y') & (inpQues.IsQuestionOpen=='N')].Score.mean()"
      ],
      "execution_count": 235,
      "outputs": [
        {
          "output_type": "execute_result",
          "data": {
            "text/plain": [
              "0.7491744436468054"
            ]
          },
          "metadata": {
            "tags": []
          },
          "execution_count": 235
        }
      ]
    },
    {
      "cell_type": "code",
      "metadata": {
        "id": "2NqbKH8Z118B",
        "colab_type": "code",
        "colab": {
          "base_uri": "https://localhost:8080/",
          "height": 35
        },
        "outputId": "fe0e2d8a-6e36-4ee1-d8dc-5ada5dd843a3"
      },
      "source": [
        "# Average Score for a Data Science Question that is Open\n",
        "inpQues[(inpQues.IsDataScience=='Y') & (inpQues.IsQuestionOpen=='Y')].Score.mean()"
      ],
      "execution_count": 243,
      "outputs": [
        {
          "output_type": "execute_result",
          "data": {
            "text/plain": [
              "1.767052993365838"
            ]
          },
          "metadata": {
            "tags": []
          },
          "execution_count": 243
        }
      ]
    },
    {
      "cell_type": "code",
      "metadata": {
        "id": "mNOcDe9x2GvJ",
        "colab_type": "code",
        "colab": {
          "base_uri": "https://localhost:8080/",
          "height": 295
        },
        "outputId": "3f27383d-f468-4a22-a4f4-67f63671abe1"
      },
      "source": [
        "# Mean Score between Data Science and Non-Data Science\n",
        "inpQues.groupby('IsDataScience')['Score'].mean().plot(kind=\"bar\")"
      ],
      "execution_count": 246,
      "outputs": [
        {
          "output_type": "execute_result",
          "data": {
            "text/plain": [
              "<matplotlib.axes._subplots.AxesSubplot at 0x7fe5f79a7c50>"
            ]
          },
          "metadata": {
            "tags": []
          },
          "execution_count": 246
        },
        {
          "output_type": "display_data",
          "data": {
            "image/png": "[encoded data removed]",
            "text/plain": [
              "<Figure size 432x288 with 1 Axes>"
            ]
          },
          "metadata": {
            "tags": []
          }
        }
      ]
    },
    {
      "cell_type": "code",
      "metadata": {
        "id": "7HvJlb3O3E7O",
        "colab_type": "code",
        "colab": {
          "base_uri": "https://localhost:8080/",
          "height": 295
        },
        "outputId": "9ee08eea-4f87-4279-c548-6df76db79311"
      },
      "source": [
        "# Mean Time Taken between Data Science and Non-Data Science\n",
        "inpQues.groupby('IsDataScience')['TimeTakenToClose'].mean().plot(kind=\"bar\")"
      ],
      "execution_count": 247,
      "outputs": [
        {
          "output_type": "execute_result",
          "data": {
            "text/plain": [
              "<matplotlib.axes._subplots.AxesSubplot at 0x7fe5f7963c88>"
            ]
          },
          "metadata": {
            "tags": []
          },
          "execution_count": 247
        },
        {
          "output_type": "display_data",
          "data": {
            "image/png": "[encoded data removed]",
            "text/plain": [
              "<Figure size 432x288 with 1 Axes>"
            ]
          },
          "metadata": {
            "tags": []
          }
        }
      ]
    },
    {
      "cell_type": "code",
      "metadata": {
        "id": "v5TIfCeY80yo",
        "colab_type": "code",
        "colab": {
          "base_uri": "https://localhost:8080/",
          "height": 194
        },
        "outputId": "4d7bc87c-4b0c-4ebc-9ad2-4a9f550372b3"
      },
      "source": [
        "inpUsers.head(5)"
      ],
      "execution_count": 261,
      "outputs": [
        {
          "output_type": "execute_result",
          "data": {
            "text/html": [
              "<div>\n",
              "<style scoped>\n",
              "    .dataframe tbody tr th:only-of-type {\n",
              "        vertical-align: middle;\n",
              "    }\n",
              "\n",
              "    .dataframe tbody tr th {\n",
              "        vertical-align: top;\n",
              "    }\n",
              "\n",
              "    .dataframe thead th {\n",
              "        text-align: right;\n",
              "    }\n",
              "</style>\n",
              "<table border=\"1\" class=\"dataframe\">\n",
              "  <thead>\n",
              "    <tr style=\"text-align: right;\">\n",
              "      <th></th>\n",
              "      <th>id</th>\n",
              "      <th>display_name</th>\n",
              "      <th>creation_date</th>\n",
              "      <th>last_access_date</th>\n",
              "      <th>reputation</th>\n",
              "      <th>up_votes</th>\n",
              "      <th>down_votes</th>\n",
              "      <th>views</th>\n",
              "    </tr>\n",
              "  </thead>\n",
              "  <tbody>\n",
              "    <tr>\n",
              "      <th>0</th>\n",
              "      <td>26</td>\n",
              "      <td>Shawn</td>\n",
              "      <td>2008-08-01 12:18:14.52 UTC</td>\n",
              "      <td>2018-04-11 04:40:35.66 UTC</td>\n",
              "      <td>11820</td>\n",
              "      <td>565</td>\n",
              "      <td>67</td>\n",
              "      <td>3547</td>\n",
              "    </tr>\n",
              "    <tr>\n",
              "      <th>1</th>\n",
              "      <td>26</td>\n",
              "      <td>Shawn</td>\n",
              "      <td>2008-08-01 12:18:14.52 UTC</td>\n",
              "      <td>2018-04-11 04:40:35.66 UTC</td>\n",
              "      <td>11820</td>\n",
              "      <td>565</td>\n",
              "      <td>67</td>\n",
              "      <td>3547</td>\n",
              "    </tr>\n",
              "    <tr>\n",
              "      <th>2</th>\n",
              "      <td>26</td>\n",
              "      <td>Shawn</td>\n",
              "      <td>2008-08-01 12:18:14.52 UTC</td>\n",
              "      <td>2018-04-11 04:40:35.66 UTC</td>\n",
              "      <td>11820</td>\n",
              "      <td>565</td>\n",
              "      <td>67</td>\n",
              "      <td>3547</td>\n",
              "    </tr>\n",
              "    <tr>\n",
              "      <th>3</th>\n",
              "      <td>26</td>\n",
              "      <td>Shawn</td>\n",
              "      <td>2008-08-01 12:18:14.52 UTC</td>\n",
              "      <td>2018-04-11 04:40:35.66 UTC</td>\n",
              "      <td>11820</td>\n",
              "      <td>565</td>\n",
              "      <td>67</td>\n",
              "      <td>3547</td>\n",
              "    </tr>\n",
              "    <tr>\n",
              "      <th>4</th>\n",
              "      <td>26</td>\n",
              "      <td>Shawn</td>\n",
              "      <td>2008-08-01 12:18:14.52 UTC</td>\n",
              "      <td>2018-04-11 04:40:35.66 UTC</td>\n",
              "      <td>11820</td>\n",
              "      <td>565</td>\n",
              "      <td>67</td>\n",
              "      <td>3547</td>\n",
              "    </tr>\n",
              "  </tbody>\n",
              "</table>\n",
              "</div>"
            ],
            "text/plain": [
              "   id display_name               creation_date  ... up_votes  down_votes  views\n",
              "0  26        Shawn  2008-08-01 12:18:14.52 UTC  ...      565          67   3547\n",
              "1  26        Shawn  2008-08-01 12:18:14.52 UTC  ...      565          67   3547\n",
              "2  26        Shawn  2008-08-01 12:18:14.52 UTC  ...      565          67   3547\n",
              "3  26        Shawn  2008-08-01 12:18:14.52 UTC  ...      565          67   3547\n",
              "4  26        Shawn  2008-08-01 12:18:14.52 UTC  ...      565          67   3547\n",
              "\n",
              "[5 rows x 8 columns]"
            ]
          },
          "metadata": {
            "tags": []
          },
          "execution_count": 261
        }
      ]
    },
    {
      "cell_type": "code",
      "metadata": {
        "id": "O9jrab927QmV",
        "colab_type": "code",
        "colab": {
          "base_uri": "https://localhost:8080/",
          "height": 266
        },
        "outputId": "2279c688-aab1-4436-f940-a8cd1e25ac06"
      },
      "source": [
        "UserListWhoAskedDataScienceQuestions = inpQues[inpQues.IsDataScience=='Y'].OwnerUserId.unique().tolist()\n",
        "reputedUsers = inpUsers[inpUsers.id.isin(UserListWhoAskedDataScienceQuestions)]\n",
        "print(reputedUsers)"
      ],
      "execution_count": 289,
      "outputs": [
        {
          "output_type": "stream",
          "text": [
            "              id          display_name  ... down_votes  views\n",
            "87            61               Bernard  ...        219   1731\n",
            "107           50            helloandre  ...         50   1731\n",
            "182        16632                hadley  ...        938  42630\n",
            "440          905                 Keith  ...        189   5754\n",
            "524          342          graham.reeds  ...        107   4147\n",
            "...          ...                   ...  ...        ...    ...\n",
            "1990292  7039394  ÃÂÃÂ¾ÃÂÃÂ¸ÃÂ  ...          0      2\n",
            "1990298  5191953                Reiion  ...          0    424\n",
            "1990328  1726404                 Kevin  ...          0    224\n",
            "1990462   839224           Jean Pierre  ...          0     20\n",
            "1990478  4605946         space_voyager  ...          1    191\n",
            "\n",
            "[31786 rows x 8 columns]\n"
          ],
          "name": "stdout"
        }
      ]
    },
    {
      "cell_type": "code",
      "metadata": {
        "id": "vCZ3CW_e6sIM",
        "colab_type": "code",
        "colab": {
          "base_uri": "https://localhost:8080/",
          "height": 194
        },
        "outputId": "e83d9c7f-846f-4359-9634-8c26b97af563"
      },
      "source": [
        "reputedUsers.tail(5)"
      ],
      "execution_count": 265,
      "outputs": [
        {
          "output_type": "execute_result",
          "data": {
            "text/html": [
              "<div>\n",
              "<style scoped>\n",
              "    .dataframe tbody tr th:only-of-type {\n",
              "        vertical-align: middle;\n",
              "    }\n",
              "\n",
              "    .dataframe tbody tr th {\n",
              "        vertical-align: top;\n",
              "    }\n",
              "\n",
              "    .dataframe thead th {\n",
              "        text-align: right;\n",
              "    }\n",
              "</style>\n",
              "<table border=\"1\" class=\"dataframe\">\n",
              "  <thead>\n",
              "    <tr style=\"text-align: right;\">\n",
              "      <th></th>\n",
              "      <th>id</th>\n",
              "      <th>display_name</th>\n",
              "      <th>creation_date</th>\n",
              "      <th>last_access_date</th>\n",
              "      <th>reputation</th>\n",
              "      <th>up_votes</th>\n",
              "      <th>down_votes</th>\n",
              "      <th>views</th>\n",
              "    </tr>\n",
              "  </thead>\n",
              "  <tbody>\n",
              "    <tr>\n",
              "      <th>1990292</th>\n",
              "      <td>7039394</td>\n",
              "      <td>ÃÂÃÂ¾ÃÂÃÂ¸ÃÂ</td>\n",
              "      <td>2016-10-19 00:27:12.08 UTC</td>\n",
              "      <td>2016-12-29 11:17:30.063 UTC</td>\n",
              "      <td>1</td>\n",
              "      <td>0</td>\n",
              "      <td>0</td>\n",
              "      <td>2</td>\n",
              "    </tr>\n",
              "    <tr>\n",
              "      <th>1990298</th>\n",
              "      <td>5191953</td>\n",
              "      <td>Reiion</td>\n",
              "      <td>2015-08-05 02:12:35.71 UTC</td>\n",
              "      <td>2019-08-23 05:15:02.747 UTC</td>\n",
              "      <td>450</td>\n",
              "      <td>252</td>\n",
              "      <td>0</td>\n",
              "      <td>424</td>\n",
              "    </tr>\n",
              "    <tr>\n",
              "      <th>1990328</th>\n",
              "      <td>1726404</td>\n",
              "      <td>Kevin</td>\n",
              "      <td>2012-10-07 08:45:28.443 UTC</td>\n",
              "      <td>2019-08-31 13:58:54.7 UTC</td>\n",
              "      <td>1078</td>\n",
              "      <td>134</td>\n",
              "      <td>0</td>\n",
              "      <td>224</td>\n",
              "    </tr>\n",
              "    <tr>\n",
              "      <th>1990462</th>\n",
              "      <td>839224</td>\n",
              "      <td>Jean Pierre</td>\n",
              "      <td>2011-07-11 15:49:58.573 UTC</td>\n",
              "      <td>2019-02-14 02:27:56.797 UTC</td>\n",
              "      <td>116</td>\n",
              "      <td>5</td>\n",
              "      <td>0</td>\n",
              "      <td>20</td>\n",
              "    </tr>\n",
              "    <tr>\n",
              "      <th>1990478</th>\n",
              "      <td>4605946</td>\n",
              "      <td>space_voyager</td>\n",
              "      <td>2015-02-25 13:43:24.63 UTC</td>\n",
              "      <td>2019-07-13 23:55:47.607 UTC</td>\n",
              "      <td>884</td>\n",
              "      <td>53</td>\n",
              "      <td>1</td>\n",
              "      <td>191</td>\n",
              "    </tr>\n",
              "  </tbody>\n",
              "</table>\n",
              "</div>"
            ],
            "text/plain": [
              "              id          display_name  ... down_votes views\n",
              "1990292  7039394  ÃÂÃÂ¾ÃÂÃÂ¸ÃÂ  ...          0     2\n",
              "1990298  5191953                Reiion  ...          0   424\n",
              "1990328  1726404                 Kevin  ...          0   224\n",
              "1990462   839224           Jean Pierre  ...          0    20\n",
              "1990478  4605946         space_voyager  ...          1   191\n",
              "\n",
              "[5 rows x 8 columns]"
            ]
          },
          "metadata": {
            "tags": []
          },
          "execution_count": 265
        }
      ]
    },
    {
      "cell_type": "code",
      "metadata": {
        "id": "J-3cYabwBhpM",
        "colab_type": "code",
        "colab": {
          "base_uri": "https://localhost:8080/",
          "height": 76
        },
        "outputId": "a6a10e47-73c6-47cf-e50e-eb0c45b8b95a"
      },
      "source": [
        "inpUsers[inpUsers.id==7039394]"
      ],
      "execution_count": 291,
      "outputs": [
        {
          "output_type": "execute_result",
          "data": {
            "text/html": [
              "<div>\n",
              "<style scoped>\n",
              "    .dataframe tbody tr th:only-of-type {\n",
              "        vertical-align: middle;\n",
              "    }\n",
              "\n",
              "    .dataframe tbody tr th {\n",
              "        vertical-align: top;\n",
              "    }\n",
              "\n",
              "    .dataframe thead th {\n",
              "        text-align: right;\n",
              "    }\n",
              "</style>\n",
              "<table border=\"1\" class=\"dataframe\">\n",
              "  <thead>\n",
              "    <tr style=\"text-align: right;\">\n",
              "      <th></th>\n",
              "      <th>id</th>\n",
              "      <th>display_name</th>\n",
              "      <th>creation_date</th>\n",
              "      <th>last_access_date</th>\n",
              "      <th>reputation</th>\n",
              "      <th>up_votes</th>\n",
              "      <th>down_votes</th>\n",
              "      <th>views</th>\n",
              "    </tr>\n",
              "  </thead>\n",
              "  <tbody>\n",
              "    <tr>\n",
              "      <th>1990292</th>\n",
              "      <td>7039394</td>\n",
              "      <td>ÃÂÃÂ¾ÃÂÃÂ¸ÃÂ</td>\n",
              "      <td>2016-10-19 00:27:12.08 UTC</td>\n",
              "      <td>2016-12-29 11:17:30.063 UTC</td>\n",
              "      <td>1</td>\n",
              "      <td>0</td>\n",
              "      <td>0</td>\n",
              "      <td>2</td>\n",
              "    </tr>\n",
              "  </tbody>\n",
              "</table>\n",
              "</div>"
            ],
            "text/plain": [
              "              id          display_name  ... down_votes views\n",
              "1990292  7039394  ÃÂÃÂ¾ÃÂÃÂ¸ÃÂ  ...          0     2\n",
              "\n",
              "[1 rows x 8 columns]"
            ]
          },
          "metadata": {
            "tags": []
          },
          "execution_count": 291
        }
      ]
    },
    {
      "cell_type": "code",
      "metadata": {
        "id": "71Vqh0yx9SDn",
        "colab_type": "code",
        "colab": {}
      },
      "source": [
        "reputation = np.array(reputedUsers.reputation)\n",
        "upvotes = np.array(reputedUsers.up_votes)\n",
        "downvotes = np.array(reputedUsers.down_votes)"
      ],
      "execution_count": 0,
      "outputs": []
    },
    {
      "cell_type": "code",
      "metadata": {
        "id": "kk-TDU6x99Ly",
        "colab_type": "code",
        "colab": {
          "base_uri": "https://localhost:8080/",
          "height": 35
        },
        "outputId": "003da085-4ac2-4d83-b3ea-b46aaa3481fc"
      },
      "source": [
        "downvotes"
      ],
      "execution_count": 280,
      "outputs": [
        {
          "output_type": "execute_result",
          "data": {
            "text/plain": [
              "array([219, 219, 219, ...,   0,   0,   1])"
            ]
          },
          "metadata": {
            "tags": []
          },
          "execution_count": 280
        }
      ]
    },
    {
      "cell_type": "code",
      "metadata": {
        "id": "SD0WIoTJ-Jt-",
        "colab_type": "code",
        "colab": {
          "base_uri": "https://localhost:8080/",
          "height": 300
        },
        "outputId": "3c069a8d-6f7a-4993-85a6-b97953bb529f"
      },
      "source": [
        "# plotting scatterplot\n",
        "plt.scatter(reputation, upvotes)\n",
        "\n",
        "plt.title(\"Correlation between reputation and upvotes\", fontdict={'fontsize': 20, 'fontweight' : 5, 'color' : 'Green'})\n",
        "\n",
        "plt.xlabel(\"Reputation\", fontdict={'fontsize': 10, 'fontweight' : 3, 'color' : 'Blue'})\n",
        "plt.ylabel(\"Upvotes\", fontdict={'fontsize': 10, 'fontweight' : 3, 'color' : 'Blue'})\n",
        "\n",
        "# necessary command to display graph\n",
        "plt.show()"
      ],
      "execution_count": 287,
      "outputs": [
        {
          "output_type": "display_data",
          "data": {
            "image/png": "[encoded data removed]",
            "text/plain": [
              "<Figure size 432x288 with 1 Axes>"
            ]
          },
          "metadata": {
            "tags": []
          }
        }
      ]
    },
    {
      "cell_type": "code",
      "metadata": {
        "id": "h_pnBZGd-pgN",
        "colab_type": "code",
        "colab": {
          "base_uri": "https://localhost:8080/",
          "height": 300
        },
        "outputId": "07731ba7-09df-4cb9-c279-baca05a29107"
      },
      "source": [
        "# plotting scatterplot\n",
        "plt.scatter(reputation, downvotes)\n",
        "\n",
        "plt.title(\"Correlation between reputation and down votes\", fontdict={'fontsize': 20, 'fontweight' : 5, 'color' : 'Green'})\n",
        "\n",
        "plt.xlabel(\"Reputation\", fontdict={'fontsize': 10, 'fontweight' : 3, 'color' : 'Blue'})\n",
        "plt.ylabel(\"Downvotes\", fontdict={'fontsize': 10, 'fontweight' : 3, 'color' : 'Blue'})\n",
        "\n",
        "# necessary command to display graph\n",
        "plt.show()"
      ],
      "execution_count": 288,
      "outputs": [
        {
          "output_type": "display_data",
          "data": {
            "image/png": "[encoded data removed]",
            "text/plain": [
              "<Figure size 432x288 with 1 Axes>"
            ]
          },
          "metadata": {
            "tags": []
          }
        }
      ]
    },
    {
      "cell_type": "code",
      "metadata": {
        "id": "JiU3bF5S_JfV",
        "colab_type": "code",
        "colab": {}
      },
      "source": [
        "# Before removing the NaN values from OwnerUserId column, impute the value as zero so that we can decide later whether this can be dropped or not from Answer data Set\n",
        "inpAns[\"OwnerUserId\"].fillna(0, inplace = True)"
      ],
      "execution_count": 0,
      "outputs": []
    },
    {
      "cell_type": "code",
      "metadata": {
        "id": "HhOldunxCBdy",
        "colab_type": "code",
        "colab": {}
      },
      "source": [
        "inpAns.OwnerUserId = inpAns.OwnerUserId.astype('int64')"
      ],
      "execution_count": 0,
      "outputs": []
    },
    {
      "cell_type": "code",
      "metadata": {
        "id": "guJ8VmukH1mb",
        "colab_type": "code",
        "colab": {}
      },
      "source": [
        "inpAns['IsDataScienceAnswer'] = 'N'"
      ],
      "execution_count": 0,
      "outputs": []
    },
    {
      "cell_type": "code",
      "metadata": {
        "id": "B0z7fKwgC_aj",
        "colab_type": "code",
        "colab": {
          "base_uri": "https://localhost:8080/",
          "height": 177
        },
        "outputId": "f737adbe-6697-49e6-f26b-00e23b31eb83"
      },
      "source": [
        "inpAns.isnull().sum()"
      ],
      "execution_count": 319,
      "outputs": [
        {
          "output_type": "execute_result",
          "data": {
            "text/plain": [
              "Id                     0\n",
              "OwnerUserId            0\n",
              "CreationDate           0\n",
              "ParentId               0\n",
              "Score                  0\n",
              "Body                   0\n",
              "ScoreGroup             0\n",
              "IsDataScienceAnswer    0\n",
              "dtype: int64"
            ]
          },
          "metadata": {
            "tags": []
          },
          "execution_count": 319
        }
      ]
    },
    {
      "cell_type": "code",
      "metadata": {
        "id": "oYJYIPHxDBWV",
        "colab_type": "code",
        "colab": {
          "base_uri": "https://localhost:8080/",
          "height": 177
        },
        "outputId": "380b90cb-38c0-496b-b297-d57ef2fc5b3b"
      },
      "source": [
        "inpAns.Score.describe()"
      ],
      "execution_count": 298,
      "outputs": [
        {
          "output_type": "execute_result",
          "data": {
            "text/plain": [
              "count    2.014516e+06\n",
              "mean     2.480563e+00\n",
              "std      1.590938e+01\n",
              "min     -4.200000e+01\n",
              "25%      0.000000e+00\n",
              "50%      1.000000e+00\n",
              "75%      2.000000e+00\n",
              "max      5.718000e+03\n",
              "Name: Score, dtype: float64"
            ]
          },
          "metadata": {
            "tags": []
          },
          "execution_count": 298
        }
      ]
    },
    {
      "cell_type": "code",
      "metadata": {
        "id": "681FIdDpJIcT",
        "colab_type": "code",
        "colab": {
          "base_uri": "https://localhost:8080/",
          "height": 399
        },
        "outputId": "f7114b4b-046f-48c5-ff7c-634d34d42577"
      },
      "source": [
        "inpAns[inpAns.ScoreGroup.isnull()]"
      ],
      "execution_count": 316,
      "outputs": [
        {
          "output_type": "execute_result",
          "data": {
            "text/html": [
              "<div>\n",
              "<style scoped>\n",
              "    .dataframe tbody tr th:only-of-type {\n",
              "        vertical-align: middle;\n",
              "    }\n",
              "\n",
              "    .dataframe tbody tr th {\n",
              "        vertical-align: top;\n",
              "    }\n",
              "\n",
              "    .dataframe thead th {\n",
              "        text-align: right;\n",
              "    }\n",
              "</style>\n",
              "<table border=\"1\" class=\"dataframe\">\n",
              "  <thead>\n",
              "    <tr style=\"text-align: right;\">\n",
              "      <th></th>\n",
              "      <th>Id</th>\n",
              "      <th>OwnerUserId</th>\n",
              "      <th>CreationDate</th>\n",
              "      <th>ParentId</th>\n",
              "      <th>Score</th>\n",
              "      <th>Body</th>\n",
              "      <th>ScoreGroup</th>\n",
              "      <th>IsDataScienceAnswer</th>\n",
              "    </tr>\n",
              "  </thead>\n",
              "  <tbody>\n",
              "    <tr>\n",
              "      <th>900</th>\n",
              "      <td>23323</td>\n",
              "      <td>414</td>\n",
              "      <td>2008-08-22T19:53:31Z</td>\n",
              "      <td>23250</td>\n",
              "      <td>-6</td>\n",
              "      <td>&lt;p&gt;Never. Ever. If you have variable shadowing...</td>\n",
              "      <td>NaN</td>\n",
              "      <td>N</td>\n",
              "    </tr>\n",
              "    <tr>\n",
              "      <th>2117</th>\n",
              "      <td>44987</td>\n",
              "      <td>0</td>\n",
              "      <td>2008-09-04T23:45:27Z</td>\n",
              "      <td>44980</td>\n",
              "      <td>-5</td>\n",
              "      <td>&lt;p&gt;The solution is to use the OpenDesktop API ...</td>\n",
              "      <td>NaN</td>\n",
              "      <td>N</td>\n",
              "    </tr>\n",
              "    <tr>\n",
              "      <th>2364</th>\n",
              "      <td>50501</td>\n",
              "      <td>1600</td>\n",
              "      <td>2008-09-08T19:42:51Z</td>\n",
              "      <td>2530</td>\n",
              "      <td>-6</td>\n",
              "      <td>&lt;p&gt;Why would you make your user's life less co...</td>\n",
              "      <td>NaN</td>\n",
              "      <td>N</td>\n",
              "    </tr>\n",
              "    <tr>\n",
              "      <th>3364</th>\n",
              "      <td>65829</td>\n",
              "      <td>2832</td>\n",
              "      <td>2008-09-15T19:12:49Z</td>\n",
              "      <td>65800</td>\n",
              "      <td>-5</td>\n",
              "      <td>&lt;p&gt;It completely depends on what you are using...</td>\n",
              "      <td>NaN</td>\n",
              "      <td>N</td>\n",
              "    </tr>\n",
              "    <tr>\n",
              "      <th>3367</th>\n",
              "      <td>65854</td>\n",
              "      <td>9363</td>\n",
              "      <td>2008-09-15T19:14:54Z</td>\n",
              "      <td>65800</td>\n",
              "      <td>-5</td>\n",
              "      <td>&lt;p&gt;Adobe Dreamweaver. It will let you work vis...</td>\n",
              "      <td>NaN</td>\n",
              "      <td>N</td>\n",
              "    </tr>\n",
              "    <tr>\n",
              "      <th>...</th>\n",
              "      <td>...</td>\n",
              "      <td>...</td>\n",
              "      <td>...</td>\n",
              "      <td>...</td>\n",
              "      <td>...</td>\n",
              "      <td>...</td>\n",
              "      <td>...</td>\n",
              "      <td>...</td>\n",
              "    </tr>\n",
              "    <tr>\n",
              "      <th>1924624</th>\n",
              "      <td>38186760</td>\n",
              "      <td>6505628</td>\n",
              "      <td>2016-07-04T14:10:52Z</td>\n",
              "      <td>38186440</td>\n",
              "      <td>-5</td>\n",
              "      <td>&lt;p&gt;In your first scenario, there is no overflo...</td>\n",
              "      <td>NaN</td>\n",
              "      <td>N</td>\n",
              "    </tr>\n",
              "    <tr>\n",
              "      <th>1925166</th>\n",
              "      <td>38198295</td>\n",
              "      <td>6072148</td>\n",
              "      <td>2016-07-05T08:10:24Z</td>\n",
              "      <td>38198230</td>\n",
              "      <td>-5</td>\n",
              "      <td>&lt;p&gt;I believe that &lt;code&gt;.change()&lt;/code&gt; is no...</td>\n",
              "      <td>NaN</td>\n",
              "      <td>N</td>\n",
              "    </tr>\n",
              "    <tr>\n",
              "      <th>1937346</th>\n",
              "      <td>38463655</td>\n",
              "      <td>4271923</td>\n",
              "      <td>2016-07-19T16:12:09Z</td>\n",
              "      <td>38463430</td>\n",
              "      <td>-5</td>\n",
              "      <td>&lt;p&gt;To mock you a bit more. You can't!&lt;/p&gt;\\n\\n&lt;...</td>\n",
              "      <td>NaN</td>\n",
              "      <td>N</td>\n",
              "    </tr>\n",
              "    <tr>\n",
              "      <th>1951931</th>\n",
              "      <td>38782970</td>\n",
              "      <td>824260</td>\n",
              "      <td>2016-08-05T06:53:44Z</td>\n",
              "      <td>38782910</td>\n",
              "      <td>-6</td>\n",
              "      <td>&lt;p&gt;Try the text-overflow css attribute:&lt;/p&gt;\\n\\...</td>\n",
              "      <td>NaN</td>\n",
              "      <td>N</td>\n",
              "    </tr>\n",
              "    <tr>\n",
              "      <th>2003419</th>\n",
              "      <td>39904791</td>\n",
              "      <td>6691061</td>\n",
              "      <td>2016-10-06T20:07:15Z</td>\n",
              "      <td>39904720</td>\n",
              "      <td>-6</td>\n",
              "      <td>&lt;p&gt;&lt;strong&gt;NOTE&lt;/strong&gt; I'm taking your quest...</td>\n",
              "      <td>NaN</td>\n",
              "      <td>N</td>\n",
              "    </tr>\n",
              "  </tbody>\n",
              "</table>\n",
              "<p>605 rows × 8 columns</p>\n",
              "</div>"
            ],
            "text/plain": [
              "               Id  OwnerUserId  ... ScoreGroup  IsDataScienceAnswer\n",
              "900         23323          414  ...        NaN                    N\n",
              "2117        44987            0  ...        NaN                    N\n",
              "2364        50501         1600  ...        NaN                    N\n",
              "3364        65829         2832  ...        NaN                    N\n",
              "3367        65854         9363  ...        NaN                    N\n",
              "...           ...          ...  ...        ...                  ...\n",
              "1924624  38186760      6505628  ...        NaN                    N\n",
              "1925166  38198295      6072148  ...        NaN                    N\n",
              "1937346  38463655      4271923  ...        NaN                    N\n",
              "1951931  38782970       824260  ...        NaN                    N\n",
              "2003419  39904791      6691061  ...        NaN                    N\n",
              "\n",
              "[605 rows x 8 columns]"
            ]
          },
          "metadata": {
            "tags": []
          },
          "execution_count": 316
        }
      ]
    },
    {
      "cell_type": "code",
      "metadata": {
        "id": "YHIyjEhxI5lL",
        "colab_type": "code",
        "colab": {
          "base_uri": "https://localhost:8080/",
          "height": 35
        },
        "outputId": "8c4499f6-6197-4447-9f98-af51c80159c2"
      },
      "source": [
        "inpAns.Score.max()"
      ],
      "execution_count": 312,
      "outputs": [
        {
          "output_type": "execute_result",
          "data": {
            "text/plain": [
              "5718"
            ]
          },
          "metadata": {
            "tags": []
          },
          "execution_count": 312
        }
      ]
    },
    {
      "cell_type": "code",
      "metadata": {
        "id": "hMqib3noJT4L",
        "colab_type": "code",
        "colab": {
          "base_uri": "https://localhost:8080/",
          "height": 35
        },
        "outputId": "882c14ec-ed63-4661-98cf-c4a68796cac2"
      },
      "source": [
        "inpAns.Score.min()"
      ],
      "execution_count": 317,
      "outputs": [
        {
          "output_type": "execute_result",
          "data": {
            "text/plain": [
              "-42"
            ]
          },
          "metadata": {
            "tags": []
          },
          "execution_count": 317
        }
      ]
    },
    {
      "cell_type": "code",
      "metadata": {
        "id": "m0IYQzZCEc0K",
        "colab_type": "code",
        "colab": {
          "base_uri": "https://localhost:8080/",
          "height": 35
        },
        "outputId": "f82effef-1461-47ad-86bd-ffe2c7f07474"
      },
      "source": [
        "inpAns.Score.median()"
      ],
      "execution_count": 300,
      "outputs": [
        {
          "output_type": "execute_result",
          "data": {
            "text/plain": [
              "1.0"
            ]
          },
          "metadata": {
            "tags": []
          },
          "execution_count": 300
        }
      ]
    },
    {
      "cell_type": "code",
      "metadata": {
        "id": "K9RvpYK6Eseq",
        "colab_type": "code",
        "colab": {}
      },
      "source": [
        "inpAns['ScoreGroup'] = pd.cut(inpAns.Score, [-50,-25,0,50,100,1000,2500,6000], labels=[\"Very Low\",\"Low\",\"Lower Medium\",\"Higher Medium\", \"Low High\", \"High\",\"Very High\"])"
      ],
      "execution_count": 0,
      "outputs": []
    },
    {
      "cell_type": "code",
      "metadata": {
        "id": "rICF-Z-pGEhJ",
        "colab_type": "code",
        "colab": {
          "base_uri": "https://localhost:8080/",
          "height": 159
        },
        "outputId": "934c12ee-5c63-43e3-e286-4ec4375a1e0b"
      },
      "source": [
        "inpAns.ScoreGroup.value_counts()"
      ],
      "execution_count": 341,
      "outputs": [
        {
          "output_type": "execute_result",
          "data": {
            "text/plain": [
              "Lower Medium     1192971\n",
              "Low               812188\n",
              "Higher Medium       5683\n",
              "Low High            3608\n",
              "High                  53\n",
              "Very High              8\n",
              "Very Low               5\n",
              "Name: ScoreGroup, dtype: int64"
            ]
          },
          "metadata": {
            "tags": []
          },
          "execution_count": 341
        }
      ]
    },
    {
      "cell_type": "code",
      "metadata": {
        "id": "bPO6g2ivGGdD",
        "colab_type": "code",
        "colab": {}
      },
      "source": [
        "dataScienceTagList=['r', 'matlab', 'excel','sql', 'sas', 'python']\n",
        "dataScienceTagList\n",
        "# Impute in a new column whether the Question belongs to the DataScience Category or not in the Questions DataSet\n",
        "for dataScienceTag in dataScienceTagList:\n",
        "  QuestionIdListRelatedToDataScience = inpQuesTags[inpQuesTags['Tag'].str.lower()==dataScienceTag].Id.tolist()\n",
        "  inpAns.loc[inpAns.ParentId.isin(QuestionIdListRelatedToDataScience),\"IsDataScienceAnswer\"]=\"Y\""
      ],
      "execution_count": 0,
      "outputs": []
    },
    {
      "cell_type": "code",
      "metadata": {
        "id": "avLCMTRvIgeb",
        "colab_type": "code",
        "colab": {
          "base_uri": "https://localhost:8080/",
          "height": 399
        },
        "outputId": "bdd20741-fa6e-41a5-c31f-4e3055cad1e3"
      },
      "source": [
        "inpAns.head(100)"
      ],
      "execution_count": 322,
      "outputs": [
        {
          "output_type": "execute_result",
          "data": {
            "text/html": [
              "<div>\n",
              "<style scoped>\n",
              "    .dataframe tbody tr th:only-of-type {\n",
              "        vertical-align: middle;\n",
              "    }\n",
              "\n",
              "    .dataframe tbody tr th {\n",
              "        vertical-align: top;\n",
              "    }\n",
              "\n",
              "    .dataframe thead th {\n",
              "        text-align: right;\n",
              "    }\n",
              "</style>\n",
              "<table border=\"1\" class=\"dataframe\">\n",
              "  <thead>\n",
              "    <tr style=\"text-align: right;\">\n",
              "      <th></th>\n",
              "      <th>Id</th>\n",
              "      <th>OwnerUserId</th>\n",
              "      <th>CreationDate</th>\n",
              "      <th>ParentId</th>\n",
              "      <th>Score</th>\n",
              "      <th>Body</th>\n",
              "      <th>ScoreGroup</th>\n",
              "      <th>IsDataScienceAnswer</th>\n",
              "    </tr>\n",
              "  </thead>\n",
              "  <tbody>\n",
              "    <tr>\n",
              "      <th>0</th>\n",
              "      <td>92</td>\n",
              "      <td>61</td>\n",
              "      <td>2008-08-01T14:45:37Z</td>\n",
              "      <td>90</td>\n",
              "      <td>13</td>\n",
              "      <td>&lt;p&gt;&lt;a href=\"http://svnbook.red-bean.com/\"&gt;Vers...</td>\n",
              "      <td>High</td>\n",
              "      <td>N</td>\n",
              "    </tr>\n",
              "    <tr>\n",
              "      <th>1</th>\n",
              "      <td>124</td>\n",
              "      <td>26</td>\n",
              "      <td>2008-08-01T16:09:47Z</td>\n",
              "      <td>80</td>\n",
              "      <td>12</td>\n",
              "      <td>&lt;p&gt;I wound up using this. It is a kind of a ha...</td>\n",
              "      <td>High</td>\n",
              "      <td>N</td>\n",
              "    </tr>\n",
              "    <tr>\n",
              "      <th>2</th>\n",
              "      <td>199</td>\n",
              "      <td>50</td>\n",
              "      <td>2008-08-01T19:36:46Z</td>\n",
              "      <td>180</td>\n",
              "      <td>1</td>\n",
              "      <td>&lt;p&gt;I've read somewhere the human eye can't dis...</td>\n",
              "      <td>Low</td>\n",
              "      <td>N</td>\n",
              "    </tr>\n",
              "    <tr>\n",
              "      <th>3</th>\n",
              "      <td>269</td>\n",
              "      <td>91</td>\n",
              "      <td>2008-08-01T23:49:57Z</td>\n",
              "      <td>260</td>\n",
              "      <td>4</td>\n",
              "      <td>&lt;p&gt;Yes, I thought about that, but I soon figur...</td>\n",
              "      <td>High</td>\n",
              "      <td>N</td>\n",
              "    </tr>\n",
              "    <tr>\n",
              "      <th>4</th>\n",
              "      <td>307</td>\n",
              "      <td>49</td>\n",
              "      <td>2008-08-02T01:49:46Z</td>\n",
              "      <td>260</td>\n",
              "      <td>28</td>\n",
              "      <td>&lt;p&gt;&lt;a href=\"http://www.codeproject.com/Article...</td>\n",
              "      <td>High</td>\n",
              "      <td>N</td>\n",
              "    </tr>\n",
              "    <tr>\n",
              "      <th>...</th>\n",
              "      <td>...</td>\n",
              "      <td>...</td>\n",
              "      <td>...</td>\n",
              "      <td>...</td>\n",
              "      <td>...</td>\n",
              "      <td>...</td>\n",
              "      <td>...</td>\n",
              "      <td>...</td>\n",
              "    </tr>\n",
              "    <tr>\n",
              "      <th>95</th>\n",
              "      <td>2855</td>\n",
              "      <td>36</td>\n",
              "      <td>2008-08-05T21:05:10Z</td>\n",
              "      <td>2840</td>\n",
              "      <td>0</td>\n",
              "      <td>&lt;p&gt;I believe you'd need to perform a separate ...</td>\n",
              "      <td>Low</td>\n",
              "      <td>Y</td>\n",
              "    </tr>\n",
              "    <tr>\n",
              "      <th>96</th>\n",
              "      <td>2908</td>\n",
              "      <td>1384652</td>\n",
              "      <td>2008-08-05T21:52:44Z</td>\n",
              "      <td>2900</td>\n",
              "      <td>1</td>\n",
              "      <td>&lt;p&gt;Just to check, if you use &lt;strong&gt;just&lt;/str...</td>\n",
              "      <td>Low</td>\n",
              "      <td>N</td>\n",
              "    </tr>\n",
              "    <tr>\n",
              "      <th>97</th>\n",
              "      <td>2911</td>\n",
              "      <td>271</td>\n",
              "      <td>2008-08-05T21:56:20Z</td>\n",
              "      <td>2900</td>\n",
              "      <td>1</td>\n",
              "      <td>&lt;p&gt;Does the apache user require a password to ...</td>\n",
              "      <td>Low</td>\n",
              "      <td>N</td>\n",
              "    </tr>\n",
              "    <tr>\n",
              "      <th>98</th>\n",
              "      <td>2915</td>\n",
              "      <td>457</td>\n",
              "      <td>2008-08-05T22:02:23Z</td>\n",
              "      <td>2900</td>\n",
              "      <td>0</td>\n",
              "      <td>&lt;p&gt;If indeed you are able to insert using the ...</td>\n",
              "      <td>Low</td>\n",
              "      <td>N</td>\n",
              "    </tr>\n",
              "    <tr>\n",
              "      <th>99</th>\n",
              "      <td>2943</td>\n",
              "      <td>454</td>\n",
              "      <td>2008-08-05T22:40:40Z</td>\n",
              "      <td>2900</td>\n",
              "      <td>0</td>\n",
              "      <td>&lt;blockquote&gt;\\n  &lt;p&gt;Just to check, if you use j...</td>\n",
              "      <td>Low</td>\n",
              "      <td>N</td>\n",
              "    </tr>\n",
              "  </tbody>\n",
              "</table>\n",
              "<p>100 rows × 8 columns</p>\n",
              "</div>"
            ],
            "text/plain": [
              "      Id  OwnerUserId  ... ScoreGroup  IsDataScienceAnswer\n",
              "0     92           61  ...       High                    N\n",
              "1    124           26  ...       High                    N\n",
              "2    199           50  ...        Low                    N\n",
              "3    269           91  ...       High                    N\n",
              "4    307           49  ...       High                    N\n",
              "..   ...          ...  ...        ...                  ...\n",
              "95  2855           36  ...        Low                    Y\n",
              "96  2908      1384652  ...        Low                    N\n",
              "97  2911          271  ...        Low                    N\n",
              "98  2915          457  ...        Low                    N\n",
              "99  2943          454  ...        Low                    N\n",
              "\n",
              "[100 rows x 8 columns]"
            ]
          },
          "metadata": {
            "tags": []
          },
          "execution_count": 322
        }
      ]
    },
    {
      "cell_type": "code",
      "metadata": {
        "id": "KFaWKotKKuXg",
        "colab_type": "code",
        "colab": {}
      },
      "source": [
        "inpAns['response_flag'] = np.where(inpAns.IsDataScienceAnswer==\"Y\",1,0) "
      ],
      "execution_count": 0,
      "outputs": []
    },
    {
      "cell_type": "code",
      "metadata": {
        "id": "KJy18gIwImYS",
        "colab_type": "code",
        "colab": {}
      },
      "source": [
        "res = pd.pivot_table(data=inpAns, index=\"Score\", columns=\"ScoreGroup\", values=\"response_flag\" )"
      ],
      "execution_count": 0,
      "outputs": []
    },
    {
      "cell_type": "code",
      "metadata": {
        "id": "jyt-2qOsKVE9",
        "colab_type": "code",
        "colab": {
          "base_uri": "https://localhost:8080/",
          "height": 428
        },
        "outputId": "8c1379d3-4316-4abd-9061-d82fa577e749"
      },
      "source": [
        "res"
      ],
      "execution_count": 343,
      "outputs": [
        {
          "output_type": "execute_result",
          "data": {
            "text/html": [
              "<div>\n",
              "<style scoped>\n",
              "    .dataframe tbody tr th:only-of-type {\n",
              "        vertical-align: middle;\n",
              "    }\n",
              "\n",
              "    .dataframe tbody tr th {\n",
              "        vertical-align: top;\n",
              "    }\n",
              "\n",
              "    .dataframe thead th {\n",
              "        text-align: right;\n",
              "    }\n",
              "</style>\n",
              "<table border=\"1\" class=\"dataframe\">\n",
              "  <thead>\n",
              "    <tr style=\"text-align: right;\">\n",
              "      <th>ScoreGroup</th>\n",
              "      <th>Very Low</th>\n",
              "      <th>Low</th>\n",
              "      <th>Lower Medium</th>\n",
              "      <th>Higher Medium</th>\n",
              "      <th>Low High</th>\n",
              "      <th>High</th>\n",
              "      <th>Very High</th>\n",
              "    </tr>\n",
              "    <tr>\n",
              "      <th>Score</th>\n",
              "      <th></th>\n",
              "      <th></th>\n",
              "      <th></th>\n",
              "      <th></th>\n",
              "      <th></th>\n",
              "      <th></th>\n",
              "      <th></th>\n",
              "    </tr>\n",
              "  </thead>\n",
              "  <tbody>\n",
              "    <tr>\n",
              "      <th>-42</th>\n",
              "      <td>0.0</td>\n",
              "      <td>NaN</td>\n",
              "      <td>NaN</td>\n",
              "      <td>NaN</td>\n",
              "      <td>NaN</td>\n",
              "      <td>NaN</td>\n",
              "      <td>NaN</td>\n",
              "    </tr>\n",
              "    <tr>\n",
              "      <th>-26</th>\n",
              "      <td>0.0</td>\n",
              "      <td>NaN</td>\n",
              "      <td>NaN</td>\n",
              "      <td>NaN</td>\n",
              "      <td>NaN</td>\n",
              "      <td>NaN</td>\n",
              "      <td>NaN</td>\n",
              "    </tr>\n",
              "    <tr>\n",
              "      <th>-25</th>\n",
              "      <td>0.0</td>\n",
              "      <td>NaN</td>\n",
              "      <td>NaN</td>\n",
              "      <td>NaN</td>\n",
              "      <td>NaN</td>\n",
              "      <td>NaN</td>\n",
              "      <td>NaN</td>\n",
              "    </tr>\n",
              "    <tr>\n",
              "      <th>-24</th>\n",
              "      <td>NaN</td>\n",
              "      <td>0.000000</td>\n",
              "      <td>NaN</td>\n",
              "      <td>NaN</td>\n",
              "      <td>NaN</td>\n",
              "      <td>NaN</td>\n",
              "      <td>NaN</td>\n",
              "    </tr>\n",
              "    <tr>\n",
              "      <th>-23</th>\n",
              "      <td>NaN</td>\n",
              "      <td>0.333333</td>\n",
              "      <td>NaN</td>\n",
              "      <td>NaN</td>\n",
              "      <td>NaN</td>\n",
              "      <td>NaN</td>\n",
              "      <td>NaN</td>\n",
              "    </tr>\n",
              "    <tr>\n",
              "      <th>...</th>\n",
              "      <td>...</td>\n",
              "      <td>...</td>\n",
              "      <td>...</td>\n",
              "      <td>...</td>\n",
              "      <td>...</td>\n",
              "      <td>...</td>\n",
              "      <td>...</td>\n",
              "    </tr>\n",
              "    <tr>\n",
              "      <th>2988</th>\n",
              "      <td>NaN</td>\n",
              "      <td>NaN</td>\n",
              "      <td>NaN</td>\n",
              "      <td>NaN</td>\n",
              "      <td>NaN</td>\n",
              "      <td>NaN</td>\n",
              "      <td>0.0</td>\n",
              "    </tr>\n",
              "    <tr>\n",
              "      <th>3038</th>\n",
              "      <td>NaN</td>\n",
              "      <td>NaN</td>\n",
              "      <td>NaN</td>\n",
              "      <td>NaN</td>\n",
              "      <td>NaN</td>\n",
              "      <td>NaN</td>\n",
              "      <td>0.0</td>\n",
              "    </tr>\n",
              "    <tr>\n",
              "      <th>3549</th>\n",
              "      <td>NaN</td>\n",
              "      <td>NaN</td>\n",
              "      <td>NaN</td>\n",
              "      <td>NaN</td>\n",
              "      <td>NaN</td>\n",
              "      <td>NaN</td>\n",
              "      <td>0.0</td>\n",
              "    </tr>\n",
              "    <tr>\n",
              "      <th>3637</th>\n",
              "      <td>NaN</td>\n",
              "      <td>NaN</td>\n",
              "      <td>NaN</td>\n",
              "      <td>NaN</td>\n",
              "      <td>NaN</td>\n",
              "      <td>NaN</td>\n",
              "      <td>0.0</td>\n",
              "    </tr>\n",
              "    <tr>\n",
              "      <th>5718</th>\n",
              "      <td>NaN</td>\n",
              "      <td>NaN</td>\n",
              "      <td>NaN</td>\n",
              "      <td>NaN</td>\n",
              "      <td>NaN</td>\n",
              "      <td>NaN</td>\n",
              "      <td>0.0</td>\n",
              "    </tr>\n",
              "  </tbody>\n",
              "</table>\n",
              "<p>697 rows × 7 columns</p>\n",
              "</div>"
            ],
            "text/plain": [
              "ScoreGroup  Very Low       Low  Lower Medium  ...  Low High  High  Very High\n",
              "Score                                         ...                           \n",
              "-42              0.0       NaN           NaN  ...       NaN   NaN        NaN\n",
              "-26              0.0       NaN           NaN  ...       NaN   NaN        NaN\n",
              "-25              0.0       NaN           NaN  ...       NaN   NaN        NaN\n",
              "-24              NaN  0.000000           NaN  ...       NaN   NaN        NaN\n",
              "-23              NaN  0.333333           NaN  ...       NaN   NaN        NaN\n",
              "...              ...       ...           ...  ...       ...   ...        ...\n",
              " 2988            NaN       NaN           NaN  ...       NaN   NaN        0.0\n",
              " 3038            NaN       NaN           NaN  ...       NaN   NaN        0.0\n",
              " 3549            NaN       NaN           NaN  ...       NaN   NaN        0.0\n",
              " 3637            NaN       NaN           NaN  ...       NaN   NaN        0.0\n",
              " 5718            NaN       NaN           NaN  ...       NaN   NaN        0.0\n",
              "\n",
              "[697 rows x 7 columns]"
            ]
          },
          "metadata": {
            "tags": []
          },
          "execution_count": 343
        }
      ]
    },
    {
      "cell_type": "code",
      "metadata": {
        "id": "ncpk5tHSK5eq",
        "colab_type": "code",
        "colab": {
          "base_uri": "https://localhost:8080/",
          "height": 369
        },
        "outputId": "bf87af62-e269-4175-f157-d7f9fe1a0f9e"
      },
      "source": [
        "sns.heatmap(res, annot=True) \n",
        "plt.figure(figsize=[18,12])\n",
        "plt.show()"
      ],
      "execution_count": 345,
      "outputs": [
        {
          "output_type": "display_data",
          "data": {
            "image/png": "[encoded data removed]",
            "text/plain": [
              "<Figure size 432x288 with 2 Axes>"
            ]
          },
          "metadata": {
            "tags": []
          }
        },
        {
          "output_type": "display_data",
          "data": {
            "text/plain": [
              "<Figure size 1296x864 with 0 Axes>"
            ]
          },
          "metadata": {
            "tags": []
          }
        }
      ]
    },
    {
      "cell_type": "code",
      "metadata": {
        "id": "9722v5ZtLCJf",
        "colab_type": "code",
        "colab": {}
      },
      "source": [
        ""
      ],
      "execution_count": 0,
      "outputs": []
    }
  ]
}